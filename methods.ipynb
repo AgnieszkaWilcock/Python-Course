{
 "metadata": {
  "language_info": {
   "codemirror_mode": {
    "name": "ipython",
    "version": 3
   },
   "file_extension": ".py",
   "mimetype": "text/x-python",
   "name": "python",
   "nbconvert_exporter": "python",
   "pygments_lexer": "ipython3",
   "version": "3.9.2"
  },
  "orig_nbformat": 2,
  "kernelspec": {
   "name": "python392jvsc74a57bd08abb1f199d14c7f4bde2f9b20a5186bf36d429b95679315f95e5b318beb2c041",
   "display_name": "Python 3.9.2 64-bit ('.course-env')"
  }
 },
 "nbformat": 4,
 "nbformat_minor": 2,
 "cells": [
  {
   "source": [
    "# Methods\n",
    "\n",
    "Python is an object oriented language and everything is an object (even integers) and has properties and methods. Properties and methods are accessed with the dot (.) notation.\n",
    "\n",
    "Methods are functions relevant to objects of a particular data type or class. We will look at some methods of strings and lists - they have lots of useful methods.\n",
    "\n",
    "Invoke a method with the dot notation on a string.  \n",
    "Instead of capitalize(title), use title.capitalize()\n"
   ],
   "cell_type": "markdown",
   "metadata": {}
  },
  {
   "cell_type": "code",
   "execution_count": 1,
   "metadata": {},
   "outputs": [
    {
     "output_type": "execute_result",
     "data": {
      "text/plain": [
       "False"
      ]
     },
     "metadata": {},
     "execution_count": 1
    }
   ],
   "source": [
    "# Even ints and floats are objects - and have methods!\n",
    "average_goals_per_match  = 2.123\n",
    "average_goals_per_match.is_integer()"
   ]
  },
  {
   "cell_type": "code",
   "execution_count": 2,
   "metadata": {},
   "outputs": [
    {
     "output_type": "execute_result",
     "data": {
      "text/plain": [
       "'Monty python'"
      ]
     },
     "metadata": {},
     "execution_count": 2
    }
   ],
   "source": [
    "title= 'monty python'\n",
    "len(title) # len() is a function\n",
    "# capitalize(title) #Oops\n",
    "title.capitalize()\n"
   ]
  },
  {
   "cell_type": "code",
   "execution_count": 5,
   "metadata": {},
   "outputs": [
    {
     "output_type": "stream",
     "name": "stdout",
     "text": [
      "title.count('o') 2\ntitle.count('on') 2\ntitle.count('ont') 1\ntitle.replace('o', 'i') minty pythin\ntitle.index('o') 1\n"
     ]
    }
   ],
   "source": [
    "print(\"title.count('o')\", title.count('o'))\n",
    "print(\"title.count('on')\", title.count('on'))\n",
    "print(\"title.count('ont')\", title.count('ont'))\n",
    "print(\"title.replace('o', 'i')\", title.replace('o', 'i'))\n",
    "print(\"title.index('o')\", title.index('o'))\n"
   ]
  },
  {
   "cell_type": "code",
   "execution_count": 4,
   "metadata": {},
   "outputs": [
    {
     "output_type": "execute_result",
     "data": {
      "text/plain": [
       "2"
      ]
     },
     "metadata": {},
     "execution_count": 4
    }
   ],
   "source": [
    "# Lists also have methods.\n",
    "# Some of these have the same name as string methods and have similar (but not the same) behaviour.\n",
    "squares = [1,4,9,16]\n",
    "squares.index(9)\n"
   ]
  },
  {
   "cell_type": "code",
   "execution_count": null,
   "metadata": {},
   "outputs": [],
   "source": []
  }
 ]
}