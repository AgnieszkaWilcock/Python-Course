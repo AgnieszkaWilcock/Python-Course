{
 "metadata": {
  "language_info": {
   "codemirror_mode": {
    "name": "ipython",
    "version": 3
   },
   "file_extension": ".py",
   "mimetype": "text/x-python",
   "name": "python",
   "nbconvert_exporter": "python",
   "pygments_lexer": "ipython3",
   "version": "3.9.2"
  },
  "orig_nbformat": 2,
  "kernelspec": {
   "name": "python392jvsc74a57bd08abb1f199d14c7f4bde2f9b20a5186bf36d429b95679315f95e5b318beb2c041",
   "display_name": "Python 3.9.2 64-bit ('.course-env')"
  }
 },
 "nbformat": 4,
 "nbformat_minor": 2,
 "cells": [
  {
   "source": [
    "# Control flow"
   ],
   "cell_type": "markdown",
   "metadata": {}
  },
  {
   "cell_type": "code",
   "execution_count": null,
   "metadata": {},
   "outputs": [],
   "source": [
    "# Conditional statements with if - elif - else\n",
    "goals = 1\n",
    "\n",
    "if goals < 3:\n",
    "    print(\"not enough\")\n",
    "    print(\"try harder\")\n",
    "elif goals < 5:\n",
    "    print(\"more needed\")\n",
    "else:\n",
    "    print(\"hurrah\")"
   ]
  },
  {
   "cell_type": "code",
   "execution_count": null,
   "metadata": {},
   "outputs": [],
   "source": [
    "# Loop with for\n",
    "for fruit in ('apple', 'pear', 'banana'):\n",
    "    print(fruit +'s are great.')\n"
   ]
  },
  {
   "cell_type": "code",
   "execution_count": null,
   "metadata": {},
   "outputs": [],
   "source": [
    "# Loop also with while and provide a stop condition\n",
    "i = 32\n",
    "while i > 7:\n",
    "    print(i)\n",
    "    print(\"Going down\")\n",
    "    i = i - 1"
   ]
  },
  {
   "source": [
    "### Exercise: \n",
    "Write a function, bmi_category, that takes arguments height and weight and returns a string which has the value:\n",
    "- \"underweight\" if the body mass index is under 20, \n",
    "- \"normal\" if the body mass index is 20 or more but under 25 or \n",
    "- \"overweight\" if the body mass index is 25 or more\n",
    "Use the bmi function below.\n",
    "\n",
    "A person has a weight of 77kg and a height of 1.75m.  Are they underweight, normal or overweight?\n"
   ],
   "cell_type": "markdown",
   "metadata": {}
  },
  {
   "cell_type": "code",
   "execution_count": 4,
   "metadata": {},
   "outputs": [],
   "source": [
    "def bmi(height, weight):\n",
    "    \"\"\"\n",
    "    Returns the body mass index of a person given the weight (kg) and height(m) \n",
    "    \"\"\"\n",
    "    return weight / (height * height)"
   ]
  },
  {
   "cell_type": "code",
   "execution_count": 5,
   "metadata": {},
   "outputs": [],
   "source": [
    "# EXERCISE ANSWERS \n",
    "# EXERCISE ANSWERS \n",
    "# EXERCISE ANSWERS \n",
    "# EXERCISE ANSWERS \n",
    "# EXERCISE ANSWERS \n",
    "# EXERCISE ANSWERS \n",
    "# EXERCISE ANSWERS \n",
    "# EXERCISE ANSWERS \n",
    "# EXERCISE ANSWERS \n",
    "# EXERCISE ANSWERS \n",
    "# EXERCISE ANSWERS \n",
    "# EXERCISE ANSWERS \n",
    "# EXERCISE ANSWERS \n",
    "# EXERCISE ANSWERS \n",
    "# EXERCISE ANSWERS \n",
    "# EXERCISE ANSWERS \n",
    "# EXERCISE ANSWERS \n",
    "# EXERCISE ANSWERS \n",
    "# EXERCISE ANSWERS \n",
    "# EXERCISE ANSWERS \n",
    "# EXERCISE ANSWERS \n",
    "# EXERCISE ANSWERS \n",
    "# EXERCISE ANSWERS \n",
    "# EXERCISE ANSWERS \n",
    "# EXERCISE ANSWERS \n",
    "# EXERCISE ANSWERS \n",
    "# EXERCISE ANSWERS \n",
    "# EXERCISE ANSWERS \n",
    "# EXERCISE ANSWERS \n",
    "# EXERCISE ANSWERS \n",
    "# EXERCISE ANSWERS \n",
    "# EXERCISE ANSWERS \n",
    "# EXERCISE ANSWERS \n",
    "# EXERCISE ANSWERS \n",
    "# EXERCISE ANSWERS \n",
    "# EXERCISE ANSWERS \n",
    "# EXERCISE ANSWERS \n",
    "# EXERCISE ANSWERS \n",
    "# EXERCISE ANSWERS \n",
    "# EXERCISE ANSWERS "
   ]
  },
  {
   "cell_type": "code",
   "execution_count": 6,
   "metadata": {},
   "outputs": [
    {
     "output_type": "execute_result",
     "data": {
      "text/plain": [
       "'overweight'"
      ]
     },
     "metadata": {},
     "execution_count": 6
    }
   ],
   "source": [
    "def bmi_category(height, weight):\n",
    "    result = bmi(height, weight)\n",
    "    if result < 20:\n",
    "        category = \"underwight\"\n",
    "    elif result < 25:\n",
    "        category = \"normal\"\n",
    "    else:\n",
    "        category = \"overweight\"        \n",
    "        \n",
    "    return category\n",
    "\n",
    "bmi_category(1.75, 77)"
   ]
  },
  {
   "cell_type": "code",
   "execution_count": null,
   "metadata": {},
   "outputs": [],
   "source": []
  }
 ]
}