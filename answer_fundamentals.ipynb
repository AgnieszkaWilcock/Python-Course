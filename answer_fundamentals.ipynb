{
 "cells": [
  {
   "cell_type": "markdown",
   "metadata": {},
   "source": [
    "# Answer: Python Fundamentals"
   ]
  },
  {
   "cell_type": "markdown",
   "metadata": {},
   "source": [
    "Print \"Hello World\""
   ]
  },
  {
   "cell_type": "markdown",
   "metadata": {},
   "source": [
    "Use Python as a calculator. Try addition, subttraction, multiplication, division, raising a number to a power (**)"
   ]
  },
  {
   "cell_type": "markdown",
   "metadata": {},
   "source": [
    "What is the difference between the next two code sections?\n"
   ]
  },
  {
   "cell_type": "code",
   "execution_count": null,
   "metadata": {},
   "outputs": [],
   "source": [
    "print(\"First block\")\r\n",
    "for i in range(4):\r\n",
    "    print(i)\r\n",
    "print(i*2)\r\n",
    "\r\n",
    "print(\"Second block\")\r\n",
    "for i in range(4):\r\n",
    "    print(i)\r\n",
    "    print(i*2)"
   ]
  },
  {
   "cell_type": "markdown",
   "metadata": {},
   "source": [
    "# Datatypes"
   ]
  },
  {
   "cell_type": "markdown",
   "metadata": {},
   "source": [
    "Create variables for a person with name \"Agatha\" with weight 75 and height 1.75 and a flag to define whether she is a student or not.  What are the types of these variables?"
   ]
  },
  {
   "cell_type": "code",
   "execution_count": null,
   "metadata": {},
   "outputs": [],
   "source": [
    "name = \"Agatha\"\r\n",
    "weight = 75\r\n",
    "height = 1.75"
   ]
  },
  {
   "cell_type": "code",
   "execution_count": null,
   "metadata": {},
   "outputs": [],
   "source": [
    "type(name), type(weight), type(height)"
   ]
  },
  {
   "cell_type": "markdown",
   "metadata": {},
   "source": [
    "Using the vriables above, what happens when we \r\n",
    "- add 0.1m to the height\r\n",
    "- multiply the name by 3\r\n",
    "- add \"Christie\" to the name\r\n",
    "- add \"five\", or \"5\" to the weight"
   ]
  },
  {
   "cell_type": "code",
   "execution_count": null,
   "metadata": {},
   "outputs": [],
   "source": [
    "#height + 0.1\r\n",
    "# name * 3\r\n",
    "# name + \"Christie\"\r\n",
    "# weight + \"5\""
   ]
  },
  {
   "cell_type": "markdown",
   "metadata": {},
   "source": [
    "# Methods\r\n",
    "\r\n",
    "What methods does an int have?\r\n",
    "Do strings have a method to determine their length?"
   ]
  },
  {
   "cell_type": "code",
   "execution_count": null,
   "metadata": {},
   "outputs": [],
   "source": [
    "n = 25\r\n",
    "n.real"
   ]
  },
  {
   "cell_type": "code",
   "execution_count": null,
   "metadata": {},
   "outputs": [],
   "source": [
    "s = \"hello\"\r\n",
    "len(s)"
   ]
  },
  {
   "cell_type": "markdown",
   "metadata": {},
   "source": [
    "# Strings \r\n",
    "\r\n",
    "Create a string with all the letters of the alphabet \"ABCDEFGHIJKLMNOPQRSTUVWXYZ\" and use functions, string methods, slicing and indexing to answer the following questions:\r\n",
    "- What is the first letter?\r\n",
    "- What is the last letter?\r\n",
    "- What are the last 5 letters?\r\n",
    "- What are the 11th - 15th letters (inclusive)?\r\n",
    "- What is the string from the 21st letter to the end of the alphabet?"
   ]
  },
  {
   "cell_type": "markdown",
   "metadata": {},
   "source": [
    "# Compound data structures:  list, tuple and dict"
   ]
  },
  {
   "cell_type": "markdown",
   "metadata": {},
   "source": [
    "## Lists\r\n",
    "\r\n",
    "Create a list with at least three elements of string datatype. Choose fruit or flowers or cars or whatever. \r\n",
    "1. Find the first element.\r\n",
    "2. Find the last element.\r\n",
    "3. Append another element to the list\r\n",
    "4. Count the elements in the list\r\n",
    "5. Insert an element into the third position\r\n",
    "6. Sort the list \r\n"
   ]
  },
  {
   "cell_type": "code",
   "execution_count": null,
   "metadata": {},
   "outputs": [],
   "source": [
    "flowers = ['iris', 'tulip', 'rose']\r\n",
    "#  flowers[0], flowers[-1]\r\n",
    "flowers.append('lily')\r\n",
    "len(flowers)\r\n",
    "flowers.insert(2, 'poppy')\r\n",
    "flowers\r\n",
    "flowers.sort()\r\n",
    "flowers"
   ]
  },
  {
   "cell_type": "markdown",
   "metadata": {},
   "source": [
    "Use a list comprehension to add a \"s\" to the end of each of the elements of the list."
   ]
  },
  {
   "cell_type": "code",
   "execution_count": null,
   "metadata": {},
   "outputs": [],
   "source": [
    "[f + 's' for f in flowers]\r\n",
    "[f + 's' for f in flowers if f[-1] !='s']\r\n"
   ]
  },
  {
   "cell_type": "markdown",
   "metadata": {},
   "source": [
    "## Tuples"
   ]
  },
  {
   "cell_type": "markdown",
   "metadata": {},
   "source": [
    "Create a tuple with three elements.  Assign each element of the tuple to a different variable."
   ]
  },
  {
   "cell_type": "code",
   "execution_count": null,
   "metadata": {},
   "outputs": [],
   "source": [
    "stations = ('Leeds', 'Wakefield', 'Doncaster', 'Grantham', 'Newark')\r\n",
    "l, w, d, g, n = stations\r\n",
    "l, n"
   ]
  },
  {
   "cell_type": "markdown",
   "metadata": {},
   "source": [
    "## Dictionaries\r\n",
    "\r\n",
    "Create a dictionary with these keys and values:\r\n",
    "- key \"ENG\", value \"England\"\r\n",
    "- key \"WAL\", value \"Wales\"\r\n",
    "- key \"SCO\", value \"Scotland\"\r\n",
    "- key \"NIR\", value \"Northern Ireland\""
   ]
  },
  {
   "cell_type": "code",
   "execution_count": null,
   "metadata": {},
   "outputs": [],
   "source": [
    "uk = {\r\n",
    "    \"ENG\" : \"England\",#\r\n",
    "    \"WAL\" : \"Wales\",\r\n",
    "    \"SCO\" :\"Scotland\",\r\n",
    "    \"NIR\" : \"Northern Ireland\"}"
   ]
  },
  {
   "cell_type": "markdown",
   "metadata": {},
   "source": [
    "Answer these questions\r\n",
    "- What is the value corresponding to the \"NIR\" key?\r\n",
    "- What is the value corresponding to the \"GBR\" key?\r\n",
    "\r\n",
    "- Can you set a key \"JER\" with value \"Jerzee\"\r\n",
    "- Can you set another key \"JER\" with value \"Jersey\".  What happens?"
   ]
  },
  {
   "cell_type": "code",
   "execution_count": null,
   "metadata": {},
   "outputs": [],
   "source": [
    "# uk[\"NIR\"], uk.get(\"NIR\")\r\n",
    "# uk[\"GBR\"]\r\n",
    "uk.get(\"GBR\", \"not found\")\r\n",
    "uk[\"JER\"] = \"Jerzee\"\r\n",
    "uk\r\n",
    "uk[\"JER\"] = \"Jersey\"\r\n",
    "uk\r\n"
   ]
  },
  {
   "cell_type": "markdown",
   "metadata": {},
   "source": [
    "# Control flow"
   ]
  },
  {
   "cell_type": "markdown",
   "metadata": {},
   "source": [
    "_Conditional statements with if - elif - else_\r\n",
    "\r\n",
    "Given a temperature reading, return \"cool\" if under 15, \"warm\" if 15 or over but under 25 and \"hot\" if over 25."
   ]
  },
  {
   "cell_type": "code",
   "execution_count": null,
   "metadata": {},
   "outputs": [],
   "source": [
    "t = 11\r\n",
    "\r\n",
    "if t < 15:\r\n",
    "    print (\"cool\")\r\n",
    "elif t < 25:\r\n",
    "    print(\"warm\")\r\n",
    "else:\r\n",
    "    print(\"hot\")"
   ]
  },
  {
   "cell_type": "markdown",
   "metadata": {},
   "source": [
    "_Loop with for_\r\n",
    "\r\n",
    "Print the squares of whole numbers for 1 to 10"
   ]
  },
  {
   "cell_type": "code",
   "execution_count": null,
   "metadata": {},
   "outputs": [],
   "source": [
    "for i in range(1,11):\r\n",
    "    print(i * i)"
   ]
  },
  {
   "cell_type": "markdown",
   "metadata": {},
   "source": [
    "_Loop with while_\r\n",
    "\r\n",
    "Print the result of 15 raised to the power of 1,2,3... while teh result is under 1,000,000.\r\n"
   ]
  },
  {
   "cell_type": "code",
   "execution_count": null,
   "metadata": {},
   "outputs": [],
   "source": [
    "result = 15 \r\n",
    "while result < 1000000:\r\n",
    "    print(result)\r\n",
    "    result = result * 15\r\n"
   ]
  },
  {
   "cell_type": "code",
   "execution_count": null,
   "metadata": {},
   "outputs": [],
   "source": []
  }
 ],
 "metadata": {
  "interpreter": {
   "hash": "68c45707def87feca5a47d18982249224aa76d0675ca5b6bc7cad154e506106e"
  },
  "kernelspec": {
   "display_name": "Python 3.9.2  ('.venv': venv)",
   "name": "python3"
  },
  "language_info": {
   "name": "python",
   "version": ""
  },
  "metadata": {
   "interpreter": {
    "hash": "5997c304d9048cc3333dff7a280bf64458ec3f56eb4ae73f2127a57fb16aeeea"
   }
  },
  "orig_nbformat": 2
 },
 "nbformat": 4,
 "nbformat_minor": 2
}