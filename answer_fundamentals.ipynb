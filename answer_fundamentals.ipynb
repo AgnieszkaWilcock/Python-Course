{
 "cells": [
  {
   "attachments": {},
   "cell_type": "markdown",
   "metadata": {},
   "source": [
    "# Answer: Python Fundamentals"
   ]
  },
  {
   "attachments": {},
   "cell_type": "markdown",
   "metadata": {},
   "source": [
    "Print \"Hello World\""
   ]
  },
  {
   "cell_type": "code",
   "execution_count": null,
   "metadata": {},
   "outputs": [],
   "source": [
    "print(\"Hello World\")"
   ]
  },
  {
   "attachments": {},
   "cell_type": "markdown",
   "metadata": {},
   "source": [
    "Use Python as a calculator. Try addition, subttraction, multiplication, division, raising a number to a power (**)"
   ]
  },
  {
   "cell_type": "code",
   "execution_count": null,
   "metadata": {},
   "outputs": [],
   "source": [
    "4 * 5"
   ]
  },
  {
   "attachments": {},
   "cell_type": "markdown",
   "metadata": {},
   "source": [
    "What is the difference between the next two code sections?\n"
   ]
  },
  {
   "cell_type": "code",
   "execution_count": null,
   "metadata": {},
   "outputs": [],
   "source": [
    "print(\"First block\")\n",
    "for i in range(4):\n",
    "    print(i)\n",
    "print(i * 2)\n",
    "\n",
    "print(\"Second block\")\n",
    "for i in range(4):\n",
    "    print(i)\n",
    "    print(i * 2)"
   ]
  },
  {
   "attachments": {},
   "cell_type": "markdown",
   "metadata": {},
   "source": [
    "# Datatypes"
   ]
  },
  {
   "attachments": {},
   "cell_type": "markdown",
   "metadata": {},
   "source": [
    "Create variables for a person with name \"Agatha\" with weight 75 and height 1.75 and a flag to define whether she is a student or not.  What are the types of these variables?"
   ]
  },
  {
   "cell_type": "code",
   "execution_count": null,
   "metadata": {},
   "outputs": [],
   "source": [
    "name = \"Agatha\"\n",
    "weight = 75\n",
    "height = 1.75"
   ]
  },
  {
   "cell_type": "code",
   "execution_count": null,
   "metadata": {},
   "outputs": [],
   "source": [
    "type(name), type(weight), type(\n",
    "    height\n",
    ")  # note that we can return several values as ta tuple by separating with commas"
   ]
  },
  {
   "attachments": {},
   "cell_type": "markdown",
   "metadata": {},
   "source": [
    "Using the vriables above, what happens when we \n",
    "- add 0.1m to the height\n",
    "- multiply the name by 3\n",
    "- add \"Christie\" to the name\n",
    "- add \"five\", or \"5\" to the weight"
   ]
  },
  {
   "cell_type": "code",
   "execution_count": null,
   "metadata": {},
   "outputs": [],
   "source": [
    "# height + 0.1\n",
    "# name * 3\n",
    "# name + \"Christie\"\n",
    "# weight + \"5\""
   ]
  },
  {
   "attachments": {},
   "cell_type": "markdown",
   "metadata": {},
   "source": [
    "# Methods\n",
    "\n",
    "What methods does an int have?\n",
    "Do strings have a method to determine their length?"
   ]
  },
  {
   "cell_type": "code",
   "execution_count": null,
   "metadata": {},
   "outputs": [],
   "source": [
    "n = 25\n",
    "n.real"
   ]
  },
  {
   "cell_type": "code",
   "execution_count": null,
   "metadata": {},
   "outputs": [],
   "source": [
    "s = \"hello\"\n",
    "len(s)"
   ]
  },
  {
   "attachments": {},
   "cell_type": "markdown",
   "metadata": {},
   "source": [
    "# Strings \n",
    "\n",
    "Create a string with all the letters of the alphabet \"ABCDEFGHIJKLMNOPQRSTUVWXYZ\" and use functions, string methods, slicing and indexing to answer the following questions:\n",
    "- What is the first letter?\n",
    "- What is the last letter?\n",
    "- What are the last 5 letters?\n",
    "- What are the 11th - 15th letters (inclusive)?\n",
    "- What is the string from the 21st letter to the end of the alphabet?"
   ]
  },
  {
   "cell_type": "code",
   "execution_count": null,
   "metadata": {},
   "outputs": [],
   "source": [
    "alphabet = \"ABCDEFGHIJKLMNOPQRSTUVWXYZ\"\n",
    "alphabet[0]\n",
    "alphabet[-1]\n",
    "alphabet[-5:]\n",
    "alphabet[10:15]\n",
    "alphabet[20:]"
   ]
  },
  {
   "attachments": {},
   "cell_type": "markdown",
   "metadata": {},
   "source": [
    "# Compound data structures:  list, tuple and dict"
   ]
  },
  {
   "attachments": {},
   "cell_type": "markdown",
   "metadata": {},
   "source": [
    "## Lists\n",
    "\n",
    "Create a list with at least three elements of string datatype. Choose fruit or flowers or cars or whatever. \n",
    "1. Find the first element.\n",
    "2. Find the last element.\n",
    "3. Append another element to the list\n",
    "4. Count the elements in the list\n",
    "5. Insert an element into the third position\n",
    "6. Sort the list \n"
   ]
  },
  {
   "cell_type": "code",
   "execution_count": null,
   "metadata": {},
   "outputs": [],
   "source": [
    "flowers = [\"iris\", \"tulip\", \"rose\"]\n",
    "#  flowers[0], flowers[-1]\n",
    "flowers.append(\"lily\")\n",
    "len(flowers)\n",
    "flowers.insert(2, \"poppy\")\n",
    "flowers\n",
    "flowers.sort()\n",
    "flowers"
   ]
  },
  {
   "attachments": {},
   "cell_type": "markdown",
   "metadata": {},
   "source": [
    "Use a list comprehension to add a \"s\" to the end of each of the elements of the list."
   ]
  },
  {
   "cell_type": "code",
   "execution_count": null,
   "metadata": {},
   "outputs": [],
   "source": [
    "[f + \"s\" for f in flowers]\n",
    "[f + \"s\" for f in flowers if f[-1] != \"s\"]"
   ]
  },
  {
   "attachments": {},
   "cell_type": "markdown",
   "metadata": {},
   "source": [
    "## Tuples"
   ]
  },
  {
   "attachments": {},
   "cell_type": "markdown",
   "metadata": {},
   "source": [
    "Create a tuple with three elements.  Assign each element of the tuple to a different variable."
   ]
  },
  {
   "cell_type": "code",
   "execution_count": null,
   "metadata": {},
   "outputs": [],
   "source": [
    "stations = (\"Leeds\", \"Wakefield\", \"Doncaster\", \"Grantham\", \"Newark\")\n",
    "l, w, d, g, n = stations\n",
    "l, n"
   ]
  },
  {
   "attachments": {},
   "cell_type": "markdown",
   "metadata": {},
   "source": [
    "## Dictionaries\n",
    "\n",
    "Create a dictionary with these keys and values:\n",
    "- key \"ENG\", value \"England\"\n",
    "- key \"WAL\", value \"Wales\"\n",
    "- key \"SCO\", value \"Scotland\"\n",
    "- key \"NIR\", value \"Northern Ireland\""
   ]
  },
  {
   "cell_type": "code",
   "execution_count": null,
   "metadata": {},
   "outputs": [],
   "source": [
    "uk = {\"ENG\": \"England\", \"WAL\": \"Wales\", \"SCO\": \"Scotland\", \"NIR\": \"Northern Ireland\"}  #"
   ]
  },
  {
   "attachments": {},
   "cell_type": "markdown",
   "metadata": {},
   "source": [
    "Answer these questions\n",
    "- What is the value corresponding to the \"NIR\" key?\n",
    "- What is the value corresponding to the \"GBR\" key?\n",
    "\n",
    "- Can you set a key \"JER\" with value \"Jerzee\"\n",
    "- Can you set another key \"JER\" with value \"Jersey\".  What happens?"
   ]
  },
  {
   "cell_type": "code",
   "execution_count": null,
   "metadata": {},
   "outputs": [],
   "source": [
    "# uk[\"NIR\"], uk.get(\"NIR\")\n",
    "# uk[\"GBR\"]\n",
    "uk.get(\"GBR\", \"not found\")\n",
    "uk[\"JER\"] = \"Jerzee\"\n",
    "uk\n",
    "uk[\"JER\"] = \"Jersey\"\n",
    "uk"
   ]
  },
  {
   "attachments": {},
   "cell_type": "markdown",
   "metadata": {},
   "source": [
    "# Control flow"
   ]
  },
  {
   "attachments": {},
   "cell_type": "markdown",
   "metadata": {},
   "source": [
    "_Conditional statements with if - elif - else_\n",
    "\n",
    "Given a temperature reading, return \"cool\" if under 15, \"warm\" if 15 or over but under 25 and \"hot\" if over 25."
   ]
  },
  {
   "cell_type": "code",
   "execution_count": null,
   "metadata": {},
   "outputs": [],
   "source": [
    "t = 11\n",
    "\n",
    "if t < 15:\n",
    "    print(\"cool\")\n",
    "elif t < 25:\n",
    "    print(\"warm\")\n",
    "else:\n",
    "    print(\"hot\")"
   ]
  },
  {
   "attachments": {},
   "cell_type": "markdown",
   "metadata": {},
   "source": [
    "_Loop with for_\n",
    "\n",
    "Print the squares of whole numbers for 1 to 10"
   ]
  },
  {
   "cell_type": "code",
   "execution_count": null,
   "metadata": {},
   "outputs": [],
   "source": [
    "for i in range(1, 11):\n",
    "    print(i * i)"
   ]
  },
  {
   "attachments": {},
   "cell_type": "markdown",
   "metadata": {},
   "source": [
    "_Loop with while_\n",
    "\n",
    "Print the result of 15 raised to the power of 1,2,3... while the result is under 1,000,000.\n"
   ]
  },
  {
   "cell_type": "code",
   "execution_count": null,
   "metadata": {},
   "outputs": [],
   "source": [
    "result = 15\n",
    "threshold = 1000000\n",
    "while result < threshold:\n",
    "    print(result)\n",
    "    result = result * result"
   ]
  },
  {
   "cell_type": "code",
   "execution_count": null,
   "metadata": {},
   "outputs": [],
   "source": []
  }
 ],
 "metadata": {
  "interpreter": {
   "hash": "5997c304d9048cc3333dff7a280bf64458ec3f56eb4ae73f2127a57fb16aeeea"
  },
  "kernelspec": {
   "display_name": "Python 3.9.5 64-bit",
   "name": "python3"
  },
  "language_info": {
   "codemirror_mode": {
    "name": "ipython",
    "version": 3
   },
   "file_extension": ".py",
   "mimetype": "text/x-python",
   "name": "python",
   "nbconvert_exporter": "python",
   "pygments_lexer": "ipython3",
   "version": "3.10.2"
  },
  "metadata": {
   "interpreter": {
    "hash": "5997c304d9048cc3333dff7a280bf64458ec3f56eb4ae73f2127a57fb16aeeea"
   }
  },
  "orig_nbformat": 2
 },
 "nbformat": 4,
 "nbformat_minor": 2
}
