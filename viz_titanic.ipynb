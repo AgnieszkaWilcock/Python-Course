{
 "cells": [
  {
   "cell_type": "markdown",
   "metadata": {},
   "source": [
    "# Visualise the titanic dataset with seaborn\r\n",
    "The titanic dataset contains the details of 891 passengers, including name, passenger class, sex, point of embarkation - and whether they survived or not."
   ]
  },
  {
   "cell_type": "code",
   "execution_count": null,
   "metadata": {},
   "outputs": [],
   "source": [
    "import seaborn as sns\r\n",
    "import matplotlib.pyplot as plt\r\n",
    "import pandas as pd\r\n",
    "import numpy as np"
   ]
  },
  {
   "cell_type": "code",
   "execution_count": null,
   "metadata": {},
   "outputs": [],
   "source": [
    "titanic = pd.read_csv(\"./Datasets/Titanic.csv\")\r\n",
    "titanic.info()\r\n",
    "titanic.head(2)"
   ]
  },
  {
   "cell_type": "code",
   "execution_count": null,
   "metadata": {},
   "outputs": [],
   "source": [
    "# sns.set_palette(\"RdBu\")\r\n",
    "# sns.set_context(\"talk\")\r\n",
    "sns.countplot(data=titanic, x='Embarked')\r\n",
    "plt.show()\r\n",
    "sns.countplot(data=titanic, x='Pclass')\r\n",
    "plt.show()\r\n",
    "# 2 variables, on axis and on legend\r\n",
    "sns.countplot(data = titanic, x='Embarked', hue= 'Sex')\r\n",
    "plt.show()"
   ]
  },
  {
   "cell_type": "code",
   "execution_count": null,
   "metadata": {},
   "outputs": [],
   "source": [
    "#  better to use catplot (categorical plot) with kind='count' rather than countplot\r\n",
    "sns.catplot(data= titanic, x= 'Survived', kind='count')\r\n",
    "plt.show()"
   ]
  },
  {
   "cell_type": "code",
   "execution_count": null,
   "metadata": {},
   "outputs": [],
   "source": [
    "#  order the axis values\r\n",
    "sns.catplot(data= titanic, x= 'Embarked', order=['C','Q','S'], kind='count')\r\n",
    "plt.show()"
   ]
  },
  {
   "cell_type": "code",
   "execution_count": null,
   "metadata": {},
   "outputs": [],
   "source": [
    "# Create a column chart to find average age of people in each passenger class. Note 95% CI shown by default.\r\n",
    "sns.catplot(data= titanic, x=\"Pclass\", y=\"Age\", kind='bar')\r\n",
    "plt.show()"
   ]
  },
  {
   "cell_type": "code",
   "execution_count": null,
   "metadata": {},
   "outputs": [],
   "source": [
    "# Create small multiples of chart abpve for mean and women.\r\n",
    "sns.catplot(data= titanic, x=\"Pclass\", y=\"Age\", kind='bar', col='Sex')\r\n",
    "plt.show()"
   ]
  },
  {
   "cell_type": "code",
   "execution_count": null,
   "metadata": {},
   "outputs": [],
   "source": [
    "# swap a and y variables to get a (horizontal) bar chart rtaher than a (vertical) column chart \r\n",
    "# DOES NOT WORK - TO  FIX\r\n",
    "#sns.catplot(data= titanic, y=\"Pclass\", x=\"Age\", kind='bar')\r\n",
    "#plt.show()"
   ]
  },
  {
   "cell_type": "code",
   "execution_count": null,
   "metadata": {},
   "outputs": [],
   "source": [
    "#  When the y variable is a boolen or 0/1, this results in a percentage plot reporting True (or 1)\r\n",
    "sns.catplot(data= titanic, x='Sex', y='Survived', kind='bar')\r\n",
    "plt.show()"
   ]
  },
  {
   "cell_type": "code",
   "execution_count": null,
   "metadata": {},
   "outputs": [],
   "source": [
    "# Note that by default, kind = 'strip' which gives a swarm plot\r\n",
    "sns.catplot(data= titanic, x='Pclass', y = 'Fare')\r\n",
    "plt.show()\r\n",
    "sns.catplot(data= titanic, x='Pclass', y = 'Fare', kind='bar')\r\n",
    "plt.show()"
   ]
  },
  {
   "cell_type": "code",
   "execution_count": null,
   "metadata": {},
   "outputs": [],
   "source": [
    "# Box plots\r\n",
    "# fare paid by passengers in each class\r\n",
    "sns.catplot(data= titanic, x='Pclass', y = 'Fare', kind='box')\r\n",
    "plt.show()\r\n",
    "\r\n",
    "sns.catplot(data= titanic, x='Pclass', y = 'Fare', hue='Sex', kind='box')\r\n",
    "plt.show()\r\n"
   ]
  },
  {
   "cell_type": "code",
   "execution_count": null,
   "metadata": {},
   "outputs": [],
   "source": [
    "# point plots\r\n",
    "sns.catplot(data=titanic, x = 'Pclass', y='Fare', hue='Sex', kind='point')\r\n",
    "plt.show\r\n",
    "# remove the lines berween categories\r\n",
    "sns.catplot(data=titanic, x = 'Pclass', y='Fare', hue='Sex', kind='point', join=False, estimator=np.median)\r\n",
    "plt.show\r\n"
   ]
  }
 ],
 "metadata": {
  "kernelspec": {
   "display_name": "Python 3.9.2  ('.venv': venv)",
   "name": "pythonjvsc74a57bd0047320649600f32f163458a3ea42b5e6faa8e94a8e8162718a3776c6fffc4da4"
  },
  "language_info": {
   "codemirror_mode": {
    "name": "ipython",
    "version": 3
   },
   "file_extension": ".py",
   "mimetype": "text/x-python",
   "name": "python",
   "nbconvert_exporter": "python",
   "pygments_lexer": "ipython3",
   "version": "3.9.2"
  },
  "metadata": {
   "interpreter": {
    "hash": "047320649600f32f163458a3ea42b5e6faa8e94a8e8162718a3776c6fffc4da4"
   }
  },
  "orig_nbformat": 2
 },
 "nbformat": 4,
 "nbformat_minor": 2
}