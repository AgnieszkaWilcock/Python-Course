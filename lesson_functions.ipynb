{
 "cells": [
  {
   "cell_type": "markdown",
   "metadata": {},
   "source": [
    "# Functions\n",
    "\n",
    "Functions are resuable bulding blocks of useful functionality. Many are written for us e.g. print(), len(). Some we have to write ourselves.\n"
   ]
  },
  {
   "cell_type": "code",
   "execution_count": null,
   "metadata": {},
   "outputs": [],
   "source": [
    "# Let's define our first function.\n",
    "\n",
    "def hello1():\n",
    "  \"\"\"  Prints a greeting  \"\"\"\n",
    "  print('Hello there.')\n",
    "  print('Welcome to the Python Course.') "
   ]
  },
  {
   "cell_type": "code",
   "execution_count": null,
   "metadata": {},
   "outputs": [],
   "source": [
    "# Let's invoke our function.  \r\n",
    "# Note that we see the docstring after we type the (.\r\n",
    "hello1()"
   ]
  },
  {
   "cell_type": "code",
   "execution_count": null,
   "metadata": {},
   "outputs": [],
   "source": [
    "#Let's improve our function so it says the student's name  and makes smalltalk. \n",
    "# The function now has an argument which tailors its behaviour\n",
    "def hello2(student_name):\n",
    "  \"\"\"  Prints a greeting to a named person  \"\"\"\n",
    "  print('Hello', student_name)\n",
    "  print(\"How are you?\")\n",
    "\n",
    "hello2(\"Daniel\")\n",
    "hello2('Mark')\n",
    "hello2('Mike')"
   ]
  },
  {
   "cell_type": "code",
   "execution_count": null,
   "metadata": {},
   "outputs": [],
   "source": [
    "# Most students like smalltalk but a few don't.\n",
    "# So let's add an argument make_smalltalk with a default value of yes.  \n",
    "def hello3(student_name, make_smalltalk = True):\n",
    "  print('Hello', student_name)\n",
    "  if make_smalltalk:\n",
    "    print('How are you')\n",
    "\n",
    "hello3('Mark')\n",
    "hello3('Mary')"
   ]
  },
  {
   "cell_type": "code",
   "execution_count": null,
   "metadata": {},
   "outputs": [],
   "source": [
    "# Functions return a result of a calculation even if it is None\n",
    "result = hello3('Anne')\n",
    "print(result)\n",
    "type(result)"
   ]
  },
  {
   "cell_type": "code",
   "execution_count": null,
   "metadata": {},
   "outputs": [],
   "source": [
    "# Let's improve our function to return something.\n",
    "def hello4(student_name, make_smalltalk = True):\n",
    "  print('Hello', student_name)\n",
    "  if make_smalltalk:\n",
    "    print('How are you')\n",
    "  return 42\n",
    "\n",
    "result = hello4('Sara')\n",
    "print(result)"
   ]
  },
  {
   "cell_type": "code",
   "execution_count": null,
   "metadata": {},
   "outputs": [],
   "source": [
    "# And now to return something useful\n",
    "def divide_by_7(some_number):\n",
    "  return some_number / 7\n",
    "\n",
    "divide_by_7(56)"
   ]
  },
  {
   "cell_type": "markdown",
   "metadata": {},
   "source": [
    "We want to calculate the BMI of three (unnamed) students. Here's the data in two lists. Can we use our shiny new bmi() function  to calcuate results of a group of people? What will happen here?\n"
   ]
  },
  {
   "cell_type": "code",
   "execution_count": null,
   "metadata": {},
   "outputs": [],
   "source": [
    "weights = [74, 75, 76]\n",
    "heights = [1.77, 1.76, 1.75]\n",
    "#bmi(weights, heights)  # this unfortnately does not work\n",
    "\n",
    "# So let's write something ugly.  We'll write it more elegantly later with numpy\n",
    "bmi_results = [] # an empty list to hold the results\n",
    "for i in range(3):\n",
    "  bmi_result = bmi(heights[i], weights[i])\n",
    "  print(i, weights[i], heights[i], bmi_result)\n",
    "  bmi_results.append(bmi_result)\n",
    "\n",
    "bmi_results"
   ]
  }
 ],
 "metadata": {
  "interpreter": {
   "hash": "68c45707def87feca5a47d18982249224aa76d0675ca5b6bc7cad154e506106e"
  },
  "kernelspec": {
   "display_name": "Python 3.9.2  ('.venv': venv)",
   "name": "python3"
  },
  "language_info": {
   "name": "python",
   "version": ""
  },
  "orig_nbformat": 2
 },
 "nbformat": 4,
 "nbformat_minor": 2
}