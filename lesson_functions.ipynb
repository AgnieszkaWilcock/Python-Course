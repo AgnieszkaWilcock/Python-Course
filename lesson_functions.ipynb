{
 "cells": [
  {
   "cell_type": "markdown",
   "metadata": {},
   "source": [
    "# Functions\n",
    "\n",
    "Functions are resuable bulding blocks of useful functionality. Many are written for us e.g. print(), len(). Some we have to write ourselves.\n"
   ]
  },
  {
   "cell_type": "code",
   "execution_count": 17,
   "metadata": {},
   "outputs": [],
   "source": [
    "# Let's define our first function.\n",
    "\n",
    "def hello1():\n",
    "  \"\"\"  Prints a greeting  \"\"\"\n",
    "  print('Hello there.')\n",
    "  print('Welcome to the Python Course.') "
   ]
  },
  {
   "cell_type": "code",
   "execution_count": 18,
   "metadata": {},
   "outputs": [
    {
     "name": "stdout",
     "output_type": "stream",
     "text": [
      "Hello there.\n",
      "Welcome to the Python Course.\n"
     ]
    }
   ],
   "source": [
    "# Let's invoke our function.  \n",
    "# Note that we see the docstring after we type the (.\n",
    "hello1()"
   ]
  },
  {
   "attachments": {},
   "cell_type": "markdown",
   "metadata": {},
   "source": [
    "This next function was suggested by Bing (with Chat GPT in the background)"
   ]
  },
  {
   "cell_type": "code",
   "execution_count": 19,
   "metadata": {},
   "outputs": [],
   "source": [
    "from datetime import datetime\n",
    "\n",
    "def days_between_dates(start_date, end_date):\n",
    "    start_date = datetime.strptime(start_date, \"%Y-%m-%d\")\n",
    "    end_date = datetime.strptime(end_date, \"%Y-%m-%d\")\n",
    "    return (end_date - start_date).days\n"
   ]
  },
  {
   "cell_type": "code",
   "execution_count": 20,
   "metadata": {},
   "outputs": [
    {
     "data": {
      "text/plain": [
       "1097"
      ]
     },
     "execution_count": 20,
     "metadata": {},
     "output_type": "execute_result"
    }
   ],
   "source": [
    "days_between_dates(start_date='2020-01-01', end_date='2023-01-02')"
   ]
  },
  {
   "cell_type": "code",
   "execution_count": 21,
   "metadata": {},
   "outputs": [
    {
     "name": "stdout",
     "output_type": "stream",
     "text": [
      "Hello Daniel\n",
      "How are you?\n",
      "Hello Mark\n",
      "How are you?\n",
      "Hello Mike\n",
      "How are you?\n"
     ]
    }
   ],
   "source": [
    "#Let's improve our function so it says the student's name  and makes smalltalk. \n",
    "# The function now has an argument which tailors its behaviour\n",
    "def hello2(student_name):\n",
    "  \"\"\"  Prints a greeting to a named person  \"\"\"\n",
    "  print('Hello', student_name)\n",
    "  print(\"How are you?\")\n",
    "\n",
    "hello2(\"Daniel\")\n",
    "hello2('Mark')\n",
    "hello2('Mike')"
   ]
  },
  {
   "cell_type": "code",
   "execution_count": 22,
   "metadata": {},
   "outputs": [
    {
     "name": "stdout",
     "output_type": "stream",
     "text": [
      "Hello Mark\n",
      "How are you\n",
      "Hello Mary\n",
      "How are you\n"
     ]
    }
   ],
   "source": [
    "# Most students like smalltalk but a few don't.\n",
    "# So let's add an argument make_smalltalk with a default value of yes.  \n",
    "def hello3(student_name, make_smalltalk = True):\n",
    "  print('Hello', student_name)\n",
    "  if make_smalltalk:\n",
    "    print('How are you')\n",
    "\n",
    "hello3('Mark')\n",
    "hello3('Mary')"
   ]
  },
  {
   "cell_type": "code",
   "execution_count": 23,
   "metadata": {},
   "outputs": [
    {
     "name": "stdout",
     "output_type": "stream",
     "text": [
      "Hello Anne\n",
      "How are you\n",
      "None\n"
     ]
    },
    {
     "data": {
      "text/plain": [
       "NoneType"
      ]
     },
     "execution_count": 23,
     "metadata": {},
     "output_type": "execute_result"
    }
   ],
   "source": [
    "# Functions return a result of a calculation even if it is None\n",
    "result = hello3('Anne')\n",
    "print(result)\n",
    "type(result)"
   ]
  },
  {
   "cell_type": "code",
   "execution_count": 24,
   "metadata": {},
   "outputs": [
    {
     "name": "stdout",
     "output_type": "stream",
     "text": [
      "Hello Sara\n",
      "How are you\n",
      "42\n"
     ]
    }
   ],
   "source": [
    "# Let's improve our function to return something.\n",
    "def hello4(student_name, make_smalltalk = True):\n",
    "  print('Hello', student_name)\n",
    "  if make_smalltalk:\n",
    "    print('How are you')\n",
    "  return 42\n",
    "\n",
    "result = hello4('Sara')\n",
    "print(result)"
   ]
  },
  {
   "cell_type": "code",
   "execution_count": 25,
   "metadata": {},
   "outputs": [
    {
     "data": {
      "text/plain": [
       "8.0"
      ]
     },
     "execution_count": 25,
     "metadata": {},
     "output_type": "execute_result"
    }
   ],
   "source": [
    "# And now to return something useful\n",
    "def divide_by_7(some_number):\n",
    "  return some_number / 7\n",
    "\n",
    "divide_by_7(56)"
   ]
  }
 ],
 "metadata": {
  "interpreter": {
   "hash": "68c45707def87feca5a47d18982249224aa76d0675ca5b6bc7cad154e506106e"
  },
  "kernelspec": {
   "display_name": "Python 3.9.2  ('.venv': venv)",
   "name": "python3"
  },
  "language_info": {
   "codemirror_mode": {
    "name": "ipython",
    "version": 3
   },
   "file_extension": ".py",
   "mimetype": "text/x-python",
   "name": "python",
   "nbconvert_exporter": "python",
   "pygments_lexer": "ipython3",
   "version": "3.11.2"
  },
  "orig_nbformat": 2
 },
 "nbformat": 4,
 "nbformat_minor": 2
}
