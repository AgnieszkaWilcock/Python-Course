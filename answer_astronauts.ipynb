{
 "cells": [
  {
   "cell_type": "markdown",
   "metadata": {},
   "source": [
    "# Answer: Astronauts\r\n",
    "\r\n",
    "## Who is up there?\r\n",
    "\r\n",
    "This API http://api.open-notify.org/astros.json lists the people currently in space.  Print a list of them.\r\n",
    "\r\n",
    "Hint: Use the requests module and the get() method. The response has a json() method that returns a dict.  This dict contain a 'people' key with list as the value.  The items in the list are themselves dicts and the value corresponding to the 'name' key of each dict provides the astronaut's name."
   ]
  },
  {
   "cell_type": "code",
   "execution_count": null,
   "metadata": {},
   "outputs": [],
   "source": [
    "import requests\r\n",
    "import pandas as pd\r\n",
    "\r\n",
    "astros_url = 'http://api.open-notify.org/astros.json'\r\n",
    "astros_response = requests.get(astros_url)\r\n",
    "astros_dict = astros_response.json()\r\n",
    "astros_dict"
   ]
  },
  {
   "cell_type": "code",
   "execution_count": null,
   "metadata": {},
   "outputs": [],
   "source": [
    "people_list = astros_dict['people']\r\n",
    "people_list"
   ]
  },
  {
   "cell_type": "markdown",
   "metadata": {},
   "source": [
    "Loop through the people_list getting the name of each astronaut."
   ]
  },
  {
   "cell_type": "code",
   "execution_count": null,
   "metadata": {},
   "outputs": [],
   "source": [
    "for person_dict in people_list:\r\n",
    "    print(person_dict['name'])"
   ]
  },
  {
   "cell_type": "markdown",
   "metadata": {},
   "source": [
    "If we need a list of the names, a list comprehension provides an elegant way to do this."
   ]
  },
  {
   "cell_type": "code",
   "execution_count": null,
   "metadata": {},
   "outputs": [],
   "source": [
    "astros_list = [person_dict['name'] for person_dict in people_list]\r\n",
    "astros_list"
   ]
  },
  {
   "cell_type": "markdown",
   "metadata": {},
   "source": [
    "pandas can create a dataframe from a list but in this case the result is not exactly what we need."
   ]
  },
  {
   "cell_type": "code",
   "execution_count": null,
   "metadata": {},
   "outputs": [],
   "source": [
    "astros_df = pd.DataFrame(astros_dict)\r\n",
    "astros_df"
   ]
  },
  {
   "cell_type": "markdown",
   "metadata": {},
   "source": [
    "We can save this dataframe to a CSV file"
   ]
  },
  {
   "cell_type": "code",
   "execution_count": null,
   "metadata": {},
   "outputs": [],
   "source": [
    "astros_df.to_csv('astros.csv')"
   ]
  },
  {
   "cell_type": "markdown",
   "metadata": {},
   "source": [
    "A more basic way to export the data is to create and write to a file."
   ]
  },
  {
   "cell_type": "code",
   "execution_count": null,
   "metadata": {},
   "outputs": [],
   "source": [
    "with open('astronauts.csv', 'w') as f:\r\n",
    "    for a in astros_list:\r\n",
    "        f.writelines(a +'\\n')\r\n"
   ]
  }
 ],
 "metadata": {
  "interpreter": {
   "hash": "68c45707def87feca5a47d18982249224aa76d0675ca5b6bc7cad154e506106e"
  },
  "kernelspec": {
   "display_name": "Python 3.9.2  ('.venv': venv)",
   "name": "python3"
  },
  "language_info": {
   "name": "python",
   "version": ""
  },
  "orig_nbformat": 2
 },
 "nbformat": 4,
 "nbformat_minor": 2
}