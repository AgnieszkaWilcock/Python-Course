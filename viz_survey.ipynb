{
 "cells": [
  {
   "cell_type": "markdown",
   "metadata": {},
   "source": [
    "# Visualise the COVID Infection Survey with seaborn\r\n",
    "The ONS produce a survey of the estimated COVID infection rate in nine English regions over a recent six week period.\r\n",
    "The data provided the best estimate (the central value) but also the upper and lower ranges of 95% credible intervals."
   ]
  },
  {
   "cell_type": "code",
   "execution_count": null,
   "metadata": {},
   "outputs": [],
   "source": [
    "import seaborn as sns\r\n",
    "import matplotlib.pyplot as plt\r\n",
    "import pandas as pd"
   ]
  },
  {
   "cell_type": "code",
   "execution_count": null,
   "metadata": {},
   "outputs": [],
   "source": [
    "survey = pd.read_csv(\"Datasets/Covid Infection Survey 2021-03-06.csv\", parse_dates= ['Date'])\r\n",
    "survey.info()\r\n",
    "survey.head(2)"
   ]
  },
  {
   "cell_type": "code",
   "execution_count": null,
   "metadata": {},
   "outputs": [],
   "source": [
    "# Show the infection rate in the London region over time\r\n",
    "sns.relplot(data=survey, x='Date', y ='London-Central', kind='line')\r\n",
    "#sns.relplot(data=survey, x='Date', y =['London-Central', 'London-Upper'], kind='line') # This did not work!\r\n",
    "plt.show()"
   ]
  },
  {
   "cell_type": "code",
   "execution_count": null,
   "metadata": {},
   "outputs": [],
   "source": [
    "# To visualise in seaborn, we need to reshape the dataset\r\n",
    "# Unpivot the data to get 3 columns: Date, Attribute and Rate\r\n",
    "survey_long = survey.melt(id_vars=['Date'], var_name='Attribute', value_name='Rate')"
   ]
  },
  {
   "cell_type": "code",
   "execution_count": null,
   "metadata": {},
   "outputs": [],
   "source": [
    "# Split the Attribute column into Region and ValueType, and then remove it\r\n",
    "survey_long[['Region', 'ValueType']] = survey_long['Attribute'].str.split('-', expand=True)\r\n",
    "survey_long = survey_long.drop(columns = 'Attribute')"
   ]
  },
  {
   "cell_type": "code",
   "execution_count": null,
   "metadata": {},
   "outputs": [],
   "source": [
    "# Create a line chart comparing the estimated infection rate over time in two regions \r\n",
    "survey_long_central = survey_long.loc[survey_long['ValueType'] == 'Central', :]\r\n",
    "survey_long_central_filtered = survey_long_central.loc[survey_long_central['Region'].isin(['London', 'North East']), :]\r\n",
    "\r\n",
    "sns.relplot(data=survey_long_central_filtered, x='Date', y='Rate', hue ='Region', kind='line', style='Region')"
   ]
  },
  {
   "cell_type": "code",
   "execution_count": null,
   "metadata": {},
   "outputs": [],
   "source": [
    "# Create a small multiples chart - one chart for each region\r\n",
    "sns.relplot(data=survey_long, x='Date', y='Rate', col ='Region', hue='ValueType', col_wrap=3, kind='line')"
   ]
  }
 ],
 "metadata": {
  "kernelspec": {
   "display_name": "Python 3.9.2  ('.venv': venv)",
   "name": "pythonjvsc74a57bd0047320649600f32f163458a3ea42b5e6faa8e94a8e8162718a3776c6fffc4da4"
  },
  "language_info": {
   "name": "python",
   "version": ""
  },
  "metadata": {
   "interpreter": {
    "hash": "047320649600f32f163458a3ea42b5e6faa8e94a8e8162718a3776c6fffc4da4"
   }
  },
  "orig_nbformat": 2
 },
 "nbformat": 4,
 "nbformat_minor": 2
}