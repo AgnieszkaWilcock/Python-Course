{
 "metadata": {
  "language_info": {
   "codemirror_mode": {
    "name": "ipython",
    "version": 3
   },
   "file_extension": ".py",
   "mimetype": "text/x-python",
   "name": "python",
   "nbconvert_exporter": "python",
   "pygments_lexer": "ipython3",
   "version": "3.9.2"
  },
  "orig_nbformat": 2,
  "kernelspec": {
   "name": "python392jvsc74a57bd08abb1f199d14c7f4bde2f9b20a5186bf36d429b95679315f95e5b318beb2c041",
   "display_name": "Python 3.9.2 64-bit ('.course-env')"
  }
 },
 "nbformat": 4,
 "nbformat_minor": 2,
 "cells": [
  {
   "source": [
    "# Compound data structures:  list, tuple and dict"
   ],
   "cell_type": "markdown",
   "metadata": {}
  },
  {
   "source": [
    "## Lists\n",
    "A list is an mutable ordered collection of elements. The elements can be of different data types. Create a list with [].\n"
   ],
   "cell_type": "markdown",
   "metadata": {}
  },
  {
   "cell_type": "code",
   "execution_count": null,
   "metadata": {},
   "outputs": [],
   "source": [
    "football_teams = ['Chelsea', 'Liverpoool', 'Arsenal']\n",
    "points = [17, 19, 15]"
   ]
  },
  {
   "cell_type": "code",
   "execution_count": null,
   "metadata": {},
   "outputs": [],
   "source": [
    "#  This list contains a string, int, bool and another list\n",
    "a_diverse_list = ['Chelsea', 15, True, points]\n",
    "a_diverse_list"
   ]
  },
  {
   "cell_type": "code",
   "execution_count": null,
   "metadata": {},
   "outputs": [],
   "source": [
    "# We can find the number of elements in a list with len() function\n",
    "len(football_teams)"
   ]
  },
  {
   "cell_type": "code",
   "execution_count": null,
   "metadata": {},
   "outputs": [],
   "source": [
    "# We can get an element of the list from its position\n",
    "# Python starts counting from 0\n",
    "football_teams[0]"
   ]
  },
  {
   "source": [
    "Lists are mutable - they can be \"edited\".  We can change an item in the list or append to the list. For example, let's append and insert  element to a list.  This is the first time that we have seen a method.\n"
   ],
   "cell_type": "markdown",
   "metadata": {}
  },
  {
   "cell_type": "code",
   "execution_count": null,
   "metadata": {},
   "outputs": [],
   "source": [
    "football_teams.append('Fulham')\n",
    "football_teams.sort()\n",
    "football_teams\n",
    "football_teams.insert(0, 'Crystal Palace')\n"
   ]
  },
  {
   "source": [
    "## Tuples\n",
    "A tuple is an **immutable** ordered set of elements. Create a tuple with () - called parentheses or round brackets.\n"
   ],
   "cell_type": "markdown",
   "metadata": {}
  },
  {
   "cell_type": "code",
   "execution_count": null,
   "metadata": {},
   "outputs": [],
   "source": [
    "my_tuple = ('alpha', 'beta', True, 42)\n",
    "\n",
    "#  We can assign variables to each element in a tuple as follows\n",
    "a, b, c, d = my_tuple\n",
    "b"
   ]
  },
  {
   "source": [
    "Aside (since we have not yet looked at loops). We can iterate through the elements of a list or tuple. Notice the : and the indentation. This \"format as function\" sets Python apart from other languages.\n"
   ],
   "cell_type": "markdown",
   "metadata": {}
  },
  {
   "cell_type": "code",
   "execution_count": null,
   "metadata": {},
   "outputs": [],
   "source": [
    "for p in points:\n",
    "  print(p**2)"
   ]
  },
  {
   "cell_type": "code",
   "execution_count": null,
   "metadata": {},
   "outputs": [],
   "source": [
    "#  This elegant expression is a list comprehension \n",
    "#  Question: does it need to be p?\n",
    "[p + 10 for p in points]"
   ]
  },
  {
   "cell_type": "code",
   "execution_count": null,
   "metadata": {},
   "outputs": [],
   "source": [
    "# What happens if not all the elements are numbers?\n",
    "strange_points = [17, 'eighteen', 19, 15, 'twenty', True]\n",
    "[p + 10 for p in strange_points if type(p) == int]   \n",
    "# [p + 10 for p in strange_points]"
   ]
  },
  {
   "source": [
    "## Dictionaries\n",
    "A dict is an ordered collection of key / value pairs.  \n",
    "Create a dict with this syntax {key1: value1, key2: value2}\n"
   ],
   "cell_type": "markdown",
   "metadata": {}
  },
  {
   "cell_type": "code",
   "execution_count": null,
   "metadata": {},
   "outputs": [],
   "source": [
    "football_ages = {'Kane' : 24, 'Pickford' : 22, 'Dele' : 20}\n",
    "\n",
    "# We can get the value of a pair by providing the key\n",
    "football_ages['Dele']\n"
   ]
  },
  {
   "cell_type": "code",
   "execution_count": null,
   "metadata": {},
   "outputs": [],
   "source": [
    "# We can loop through all the keys and values of a dict\n",
    "football_ages.keys()\n",
    "football_ages.values()\n"
   ]
  },
  {
   "cell_type": "code",
   "execution_count": null,
   "metadata": {},
   "outputs": [],
   "source": [
    "# The key can be any data type as can the value\n",
    "dinner = {\n",
    "        'starter' : 'salad',\n",
    "        'main course' : ['meat' , \n",
    "                         'potatoes', {\n",
    "                                 'veg1': 'peas', \n",
    "                                 'veg2' : 'beans'}],\n",
    "        'is_desert_included': True,\n",
    "        20 : 'cost'\n",
    "        }\n",
    "dinner"
   ]
  },
  {
   "cell_type": "code",
   "execution_count": null,
   "metadata": {},
   "outputs": [],
   "source": []
  }
 ]
}