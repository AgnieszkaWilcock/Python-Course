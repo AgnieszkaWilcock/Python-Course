{
 "cells": [
  {
   "attachments": {},
   "cell_type": "markdown",
   "metadata": {},
   "source": [
    "# Control flow"
   ]
  },
  {
   "attachments": {},
   "cell_type": "markdown",
   "metadata": {},
   "source": [
    "Conditional statements with if - elif - else"
   ]
  },
  {
   "cell_type": "code",
   "execution_count": 2,
   "metadata": {},
   "outputs": [
    {
     "name": "stdout",
     "output_type": "stream",
     "text": [
      "more needed\n"
     ]
    }
   ],
   "source": [
    "goals = int(input(\"How many goals did you score? \"))\n",
    "\n",
    "if goals < 3:\n",
    "    print(\"not enough\")\n",
    "    print(\"try harder\")\n",
    "elif goals < 5:\n",
    "    print(\"more needed\")\n",
    "else:\n",
    "    print(\"hurrah\")"
   ]
  },
  {
   "attachments": {},
   "cell_type": "markdown",
   "metadata": {},
   "source": [
    "Conditional statement with match"
   ]
  },
  {
   "cell_type": "code",
   "execution_count": 3,
   "metadata": {},
   "outputs": [
    {
     "name": "stdout",
     "output_type": "stream",
     "text": [
      "I don't know that airport\n"
     ]
    }
   ],
   "source": [
    "airport_code = input(\"What is the airport code? \")\n",
    "match airport_code:\n",
    "    case \"LHR\":\n",
    "        print(\"London Heathrow\")\n",
    "    case \"LGW\":\n",
    "        print(\"London Gatwick\")\n",
    "    case \"STN\":\n",
    "        print(\"London Stansted\")\n",
    "    case _:\n",
    "        print(\"I don't know that airport\")"
   ]
  },
  {
   "attachments": {},
   "cell_type": "markdown",
   "metadata": {},
   "source": [
    "Loop with for"
   ]
  },
  {
   "cell_type": "code",
   "execution_count": null,
   "metadata": {},
   "outputs": [],
   "source": [
    "for fruit in (\"apple\", \"pear\", \"banana\"):\n",
    "    print(fruit + \"s are great.\")"
   ]
  },
  {
   "attachments": {},
   "cell_type": "markdown",
   "metadata": {},
   "source": [
    "Loop also with while and provide a stop condition"
   ]
  },
  {
   "cell_type": "code",
   "execution_count": null,
   "metadata": {},
   "outputs": [],
   "source": [
    "i = 10\n",
    "while i > 7:\n",
    "    print(i)\n",
    "    print(\"Going down\")\n",
    "    i = i - 1"
   ]
  }
 ],
 "metadata": {
  "interpreter": {
   "hash": "68c45707def87feca5a47d18982249224aa76d0675ca5b6bc7cad154e506106e"
  },
  "kernelspec": {
   "display_name": "Python 3.9.2  ('.venv': venv)",
   "name": "python3"
  },
  "language_info": {
   "codemirror_mode": {
    "name": "ipython",
    "version": 3
   },
   "file_extension": ".py",
   "mimetype": "text/x-python",
   "name": "python",
   "nbconvert_exporter": "python",
   "pygments_lexer": "ipython3",
   "version": "3.11.2"
  },
  "metadata": {
   "interpreter": {
    "hash": "68c45707def87feca5a47d18982249224aa76d0675ca5b6bc7cad154e506106e"
   }
  },
  "orig_nbformat": 2
 },
 "nbformat": 4,
 "nbformat_minor": 2
}
