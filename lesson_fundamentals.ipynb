{
 "cells": [
  {
   "cell_type": "markdown",
   "metadata": {},
   "source": [
    "# Welcome to the Python Course."
   ]
  },
  {
   "cell_type": "markdown",
   "metadata": {},
   "source": [
    "\r\n",
    "This is an introduction to Python, with a focus on data analysis. We start with the obligatory \"Hello World in Python\", look at a short snippet of code to import and view a dataset to whet our appetite then we go through the basics; data types, data structures, functions, methods and the numpy and pandas packages.\r\n",
    "\r\n",
    "We are going to learn Python like this:\r\n",
    "* read a chunk of code of code, and guess / explain what it will do\r\n",
    "* run a chunk of  code and explain what it did\r\n",
    "* change then run a chunk of code and explain what is different\r\n",
    "* write a chunk of code of code from scratch\r\n",
    "* do some exercises and the end of each section\r\n"
   ]
  },
  {
   "cell_type": "markdown",
   "metadata": {},
   "source": [
    "Our Hello World in Python"
   ]
  },
  {
   "cell_type": "code",
   "execution_count": null,
   "metadata": {},
   "outputs": [],
   "source": [
    "print(\"monty\", \"python\")"
   ]
  },
  {
   "cell_type": "markdown",
   "metadata": {},
   "source": [
    "Let's use Python as a calculator"
   ]
  },
  {
   "cell_type": "code",
   "execution_count": null,
   "metadata": {},
   "outputs": [],
   "source": [
    "7 * 7 # returns 49"
   ]
  },
  {
   "cell_type": "markdown",
   "metadata": {},
   "source": [
    "We often use the inbuilt print() function, to inspect what is happening.  print() does an action (side-effect) to write a value to the console. Actions include reading / writing a file.  "
   ]
  },
  {
   "cell_type": "code",
   "execution_count": null,
   "metadata": {},
   "outputs": [],
   "source": [
    "print(\"select me!\")\r\n",
    "print(\"and me!\")\r\n",
    "print(\"and me too!\")"
   ]
  },
  {
   "cell_type": "markdown",
   "metadata": {},
   "source": [
    "# Python Syntax"
   ]
  },
  {
   "cell_type": "markdown",
   "metadata": {},
   "source": [
    "Comments start with a #"
   ]
  },
  {
   "cell_type": "code",
   "execution_count": null,
   "metadata": {},
   "outputs": [],
   "source": [
    "# A hash (#) is a comment - the rest of the line is ignored"
   ]
  },
  {
   "cell_type": "code",
   "execution_count": null,
   "metadata": {},
   "outputs": [],
   "source": [
    "# The end of a line terminates a statement\r\n",
    "print(\"hello\")\r\n",
    "print(\"goodbye\")"
   ]
  },
  {
   "cell_type": "code",
   "execution_count": null,
   "metadata": {},
   "outputs": [],
   "source": [
    "# When you execute several statements in a chunk the result of the last line is returned\r\n",
    "2 + 3\r\n",
    "4 + 5"
   ]
  },
  {
   "cell_type": "markdown",
   "metadata": {},
   "source": [
    "Use Parentheses or \\ to put a statement on two or more lines "
   ]
  },
  {
   "cell_type": "code",
   "execution_count": null,
   "metadata": {},
   "outputs": [],
   "source": [
    "(1 + 2 \r\n",
    "+ 3)"
   ]
  },
  {
   "cell_type": "code",
   "execution_count": null,
   "metadata": {},
   "outputs": [],
   "source": [
    "('supercali'\r\n",
    "'fragilistic'\r\n",
    "'expialidocious')"
   ]
  },
  {
   "cell_type": "code",
   "execution_count": null,
   "metadata": {},
   "outputs": [],
   "source": [
    "1 + 2 + 3 + \\\r\n",
    "    4 + 5"
   ]
  },
  {
   "cell_type": "markdown",
   "metadata": {},
   "source": [
    "**Whitespace matters!**  This is different to  most other languages.  The benefit is readability and consistency.\r\n",
    "\r\n",
    "Before a code block, use a colon:\r\n",
    "Code blacks are indented, usually by 4 spaces.  Be consistent."
   ]
  },
  {
   "cell_type": "code",
   "execution_count": null,
   "metadata": {},
   "outputs": [],
   "source": [
    "for i in range(5):\r\n",
    "    print(i)"
   ]
  },
  {
   "cell_type": "markdown",
   "metadata": {},
   "source": [
    "What is the difference between the next two code sections?\n"
   ]
  },
  {
   "cell_type": "code",
   "execution_count": null,
   "metadata": {},
   "outputs": [],
   "source": [
    "print(\"First block\")\r\n",
    "for i in range(4):\r\n",
    "    print(i)\r\n",
    "print(i*2)\r\n",
    "\r\n",
    "print(\"Second block\")\r\n",
    "for i in range(4):\r\n",
    "    print(i)\r\n",
    "    print(i*2)"
   ]
  },
  {
   "cell_type": "markdown",
   "metadata": {},
   "source": [
    "# Datatypes"
   ]
  },
  {
   "cell_type": "markdown",
   "metadata": {},
   "source": [
    "An int (integer) datatype is a whole number"
   ]
  },
  {
   "cell_type": "code",
   "execution_count": null,
   "metadata": {},
   "outputs": [],
   "source": [
    "answer = 33\r\n",
    "type(answer)"
   ]
  },
  {
   "cell_type": "markdown",
   "metadata": {},
   "source": [
    "A float is a number with  a fractional part"
   ]
  },
  {
   "cell_type": "code",
   "execution_count": null,
   "metadata": {},
   "outputs": [],
   "source": [
    "e = 2.718\r\n",
    "type(e)"
   ]
  },
  {
   "cell_type": "markdown",
   "metadata": {},
   "source": [
    "Define a string in either single or double quotes"
   ]
  },
  {
   "cell_type": "code",
   "execution_count": null,
   "metadata": {},
   "outputs": [],
   "source": [
    "todays_date = '2020-01-05' # This is not a date.  Later we'll look at the datetime module!\r\n",
    "type(todays_date)"
   ]
  },
  {
   "cell_type": "markdown",
   "metadata": {},
   "source": [
    "A bool is either True or False"
   ]
  },
  {
   "cell_type": "code",
   "execution_count": null,
   "metadata": {},
   "outputs": [],
   "source": [
    "# a bool is either True or False\r\n",
    "today_is_monday = True\r\n",
    "type(today_is_monday)"
   ]
  },
  {
   "cell_type": "markdown",
   "metadata": {},
   "source": [
    "The behaviour of operatiors depends on the datatypes"
   ]
  },
  {
   "cell_type": "code",
   "execution_count": null,
   "metadata": {},
   "outputs": [],
   "source": [
    "2 + 3 # adding numbers, what you expect"
   ]
  },
  {
   "cell_type": "code",
   "execution_count": null,
   "metadata": {},
   "outputs": [],
   "source": [
    "'2' + '3' # adding strings concatenates them"
   ]
  },
  {
   "cell_type": "code",
   "execution_count": null,
   "metadata": {},
   "outputs": [],
   "source": [
    "'hello ' * 3 # multiplying strings repeats them"
   ]
  },
  {
   "cell_type": "markdown",
   "metadata": {},
   "source": [
    "**Variables** store values and objects for later use.  Assigning a variable returns None so we often will write two lines like below\r\n",
    "\r\n",
    "1. the first line sets the value of the variable\r\n",
    "2. the second line is just the variable name so we can see the result\r\n"
   ]
  },
  {
   "cell_type": "code",
   "execution_count": null,
   "metadata": {},
   "outputs": [],
   "source": [
    "var1 = (5 * 7)**2 \r\n",
    "var1"
   ]
  },
  {
   "cell_type": "markdown",
   "metadata": {},
   "source": [
    "# Strings "
   ]
  },
  {
   "cell_type": "markdown",
   "metadata": {},
   "source": [
    "A string is an ordered collection of characters (an array).  Characters are arrays of length 1."
   ]
  },
  {
   "cell_type": "code",
   "execution_count": null,
   "metadata": {},
   "outputs": [],
   "source": [
    "# Even ints and floats are objects - and have methods!\r\n",
    "average_goals_per_match  = 2.123\r\n",
    "average_goals_per_match.is_integer()"
   ]
  },
  {
   "cell_type": "code",
   "execution_count": null,
   "metadata": {},
   "outputs": [],
   "source": [
    "title= 'monty python'\r\n",
    "len(title) # len() is a function\r\n",
    "# capitalize(title) #Oops\r\n",
    "title.capitalize()\r\n"
   ]
  },
  {
   "cell_type": "code",
   "execution_count": null,
   "metadata": {},
   "outputs": [],
   "source": [
    "# Lists also have methods.\r\n",
    "# Some of these have the same name as string methods and have similar (but not the same) behaviour.\r\n",
    "squares = [1,4,9,16]\r\n",
    "squares.index(9)"
   ]
  },
  {
   "cell_type": "code",
   "execution_count": 1,
   "metadata": {},
   "outputs": [
    {
     "data": {
      "text/plain": "13"
     },
     "execution_count": 1,
     "metadata": {},
     "output_type": "execute_result"
    }
   ],
   "source": [
    "title = 'Python Course'\r\n",
    "len(title)"
   ]
  },
  {
   "cell_type": "markdown",
   "metadata": {},
   "source": [
    "## Strings have many methods"
   ]
  },
  {
   "cell_type": "code",
   "execution_count": null,
   "metadata": {},
   "outputs": [],
   "source": [
    "my_string = \"'Talk to me': A train driver asking men to open up\"\r\n",
    "my_string.upper()"
   ]
  },
  {
   "cell_type": "code",
   "execution_count": null,
   "metadata": {},
   "outputs": [],
   "source": [
    "my_string.replace('to', 'with') "
   ]
  },
  {
   "cell_type": "code",
   "execution_count": null,
   "metadata": {},
   "outputs": [],
   "source": [
    "my_string.split()"
   ]
  },
  {
   "cell_type": "markdown",
   "metadata": {},
   "source": [
    "The format method is useful for displaying results"
   ]
  },
  {
   "cell_type": "code",
   "execution_count": null,
   "metadata": {},
   "outputs": [],
   "source": [
    "business_type = 'shop'\r\n",
    "years_in_business = 50\r\n",
    "'Sailing goods business closes {} after {} years'.format(business_type, years_in_business)"
   ]
  },
  {
   "cell_type": "markdown",
   "metadata": {},
   "source": [
    "f strings do this more concisely"
   ]
  },
  {
   "cell_type": "code",
   "execution_count": null,
   "metadata": {},
   "outputs": [],
   "source": [
    "business_type = 'shop'\r\n",
    "years_in_business = 50\r\n",
    "f'Sailing goods business closes { business_type} after {years_in_business} years'"
   ]
  },
  {
   "cell_type": "markdown",
   "metadata": {},
   "source": [
    "To find in a string is within another, use the membership operator, in"
   ]
  },
  {
   "cell_type": "code",
   "execution_count": null,
   "metadata": {},
   "outputs": [],
   "source": [
    "alphabet = 'Google etc'\r\n",
    "'e etc' in alphabet\r\n",
    "#'Bing' in alphabet"
   ]
  },
  {
   "cell_type": "markdown",
   "metadata": {},
   "source": [
    "String methods always return the changed value.  They do not change the original string"
   ]
  },
  {
   "cell_type": "code",
   "execution_count": null,
   "metadata": {},
   "outputs": [],
   "source": [
    "whisper = \"Hello\"\r\n",
    "shout = whisper.upper()\r\n",
    "whisper + ' | ' + shout "
   ]
  },
  {
   "cell_type": "markdown",
   "metadata": {},
   "source": [
    "## Indexing - get a single element using the position.  \r\n",
    "\r\n",
    "Indexing is useful for many data types and not just strings.\r\n",
    "Python counts from 0!"
   ]
  },
  {
   "cell_type": "code",
   "execution_count": null,
   "metadata": {},
   "outputs": [],
   "source": [
    "len(title)\r\n",
    "title[0]\r\n",
    "title[10]\r\n",
    "#title[19]"
   ]
  },
  {
   "cell_type": "markdown",
   "metadata": {},
   "source": [
    "## Slicing - get a sublist using the start and end positions.  \r\n",
    "\r\n",
    "Note: Slicing returns the sublist from the element at the start position up to but *not* including the element at the end position.\r\n",
    "\r\n",
    "We don't have to start the slice at the beginning of the string.  We can slice with negative integers.  We can omit the end position to go to the end of the string.  We can also omit the start position."
   ]
  },
  {
   "cell_type": "code",
   "execution_count": null,
   "metadata": {},
   "outputs": [],
   "source": [
    "title[10:15] # returns the 11th to the 15th element (5 charcters in total)"
   ]
  },
  {
   "cell_type": "code",
   "execution_count": null,
   "metadata": {},
   "outputs": [],
   "source": [
    "title[-5:-1] # returns the last 5 characters apart from the final one"
   ]
  },
  {
   "cell_type": "markdown",
   "metadata": {},
   "source": [
    "# Methods"
   ]
  },
  {
   "cell_type": "markdown",
   "metadata": {},
   "source": [
    "\r\n",
    "Python is an object oriented language and everything is an object (even integers) and has properties and methods. Properties and methods are accessed with the dot (.) notation. Methods are functions relevant to objects of a particular data type or class. We will look at some methods of strings and lists - they have lots of useful methods. \r\n",
    "\r\n",
    "Invoke a method with the dot notation on a string. Instead of capitalize(title), use title.capitalize()\r\n"
   ]
  },
  {
   "cell_type": "markdown",
   "metadata": {},
   "source": [
    " Omit the end position to go to the end of the string"
   ]
  },
  {
   "cell_type": "code",
   "execution_count": null,
   "metadata": {},
   "outputs": [],
   "source": [
    "title[-5:] # returns the last 5 characters\r\n",
    "title[8:] # returns all characters from the 9th to the end of the string "
   ]
  },
  {
   "cell_type": "markdown",
   "metadata": {},
   "source": [
    " Omit the start position to go from the start of the string"
   ]
  },
  {
   "cell_type": "markdown",
   "metadata": {},
   "source": [
    "# Compound data structures:  list, tuple and dict"
   ]
  },
  {
   "cell_type": "markdown",
   "metadata": {},
   "source": [
    "## Lists\r\n",
    "A list is an mutable ordered collection of elements. The elements can be of different data types. Create a list with [].\r\n"
   ]
  },
  {
   "cell_type": "code",
   "execution_count": null,
   "metadata": {},
   "outputs": [],
   "source": [
    "football_teams = ['Chelsea', 'Liverpoool', 'Arsenal']\r\n",
    "football_teams"
   ]
  },
  {
   "cell_type": "code",
   "execution_count": null,
   "metadata": {},
   "outputs": [],
   "source": [
    "points = [17, 19, 15]\r\n",
    "points"
   ]
  },
  {
   "cell_type": "markdown",
   "metadata": {},
   "source": [
    "This list contains a string, int, bool and another list`"
   ]
  },
  {
   "cell_type": "code",
   "execution_count": null,
   "metadata": {},
   "outputs": [],
   "source": [
    "a_diverse_list = ['Chelsea', 15, True, points]\r\n",
    "a_diverse_list"
   ]
  },
  {
   "cell_type": "code",
   "execution_count": null,
   "metadata": {},
   "outputs": [],
   "source": [
    "# We can find the number of elements in a list with len() function\r\n",
    "len(football_teams)"
   ]
  },
  {
   "cell_type": "code",
   "execution_count": null,
   "metadata": {},
   "outputs": [],
   "source": [
    "# Use an index to get element of the list by providing its position\r\n",
    "football_teams[0]"
   ]
  },
  {
   "cell_type": "markdown",
   "metadata": {},
   "source": [
    "Lists are mutable - they can be \"edited\".  We can change an item in the list or append to the list. For example, let's append and insert  element to a list.  This is the first time that we have seen a method.\r\n"
   ]
  },
  {
   "cell_type": "code",
   "execution_count": null,
   "metadata": {},
   "outputs": [],
   "source": [
    "football_teams.append('Fulham')\r\n",
    "football_teams"
   ]
  },
  {
   "cell_type": "code",
   "execution_count": null,
   "metadata": {},
   "outputs": [],
   "source": [
    "football_teams.sort() # note that this is an in-place operation, the original string is replaced.\r\n",
    "football_teams\r\n"
   ]
  },
  {
   "cell_type": "code",
   "execution_count": null,
   "metadata": {},
   "outputs": [],
   "source": [
    "football_teams.insert(0, 'Crystal Palace')\r\n",
    "football_teams"
   ]
  },
  {
   "cell_type": "markdown",
   "metadata": {},
   "source": [
    "Aside (since we have not yet looked at loops). We can iterate through the elements of a list or tuple. Notice the : and the indentation. This \"format as function\" sets Python apart from other languages.\n"
   ]
  },
  {
   "cell_type": "code",
   "execution_count": null,
   "metadata": {},
   "outputs": [],
   "source": [
    "for p in points:\r\n",
    "  print(p**2)"
   ]
  },
  {
   "cell_type": "markdown",
   "metadata": {},
   "source": [
    "_Advanced optional section:_ To copy a list we simply can't assign a new variable.  This will point to the same list.  Instead use copy() method or list() constructor."
   ]
  },
  {
   "cell_type": "code",
   "execution_count": null,
   "metadata": {},
   "outputs": [],
   "source": [
    "test1 = [\"Frank\", \"Lampard\"]\r\n",
    "test2 = test1\r\n",
    "test1.append(\"Thomas\")\r\n",
    "test1.append(\"Tuchel\")\r\n",
    "test2"
   ]
  },
  {
   "cell_type": "code",
   "execution_count": null,
   "metadata": {},
   "outputs": [],
   "source": [
    "test1 = [\"Frank\", \"Lampard\"]\r\n",
    "test2 = test1.copy()\r\n",
    "test1.append(\"Thomas\")\r\n",
    "test1.append(\"Tuchel\")\r\n",
    "test2"
   ]
  },
  {
   "cell_type": "markdown",
   "metadata": {},
   "source": [
    "This elegant expression is a list comprehension.  \r\n"
   ]
  },
  {
   "cell_type": "code",
   "execution_count": null,
   "metadata": {},
   "outputs": [],
   "source": [
    "#  Question: does it need to be p?\r\n",
    "[p + 10 for p in points]"
   ]
  },
  {
   "cell_type": "code",
   "execution_count": null,
   "metadata": {},
   "outputs": [],
   "source": [
    "# What happens if not all the elements are numbers?\r\n",
    "strange_points = [17,'eighteen', 19, 15, 'twenty', True]\r\n",
    "[p + 10 for p in strange_points if type(p) == int]   \r\n",
    "# [p + 10 for p in strange_points]"
   ]
  },
  {
   "cell_type": "markdown",
   "metadata": {},
   "source": [
    "## Tuples\n",
    "A tuple is an **immutable** ordered set of elements. Create a tuple with () - called parentheses or round brackets.\n"
   ]
  },
  {
   "cell_type": "code",
   "execution_count": null,
   "metadata": {},
   "outputs": [],
   "source": [
    "my_tuple = ('alpha', 'beta', True, 42)\r\n",
    "my_tuple"
   ]
  },
  {
   "cell_type": "markdown",
   "metadata": {},
   "source": [
    "We can assign variables to each element in a tuple as follows"
   ]
  },
  {
   "cell_type": "code",
   "execution_count": null,
   "metadata": {},
   "outputs": [],
   "source": [
    "a, b, c, d = my_tuple\r\n",
    "d, a, b, c"
   ]
  },
  {
   "cell_type": "markdown",
   "metadata": {},
   "source": [
    "## Dictionaries\n",
    "A dict is an ordered collection of key / value pairs.  \n",
    "Create a dict with this syntax {key1: value1, key2: value2}\n"
   ]
  },
  {
   "cell_type": "code",
   "execution_count": null,
   "metadata": {},
   "outputs": [],
   "source": [
    "football_ages = {'Kane' : 24, 'Pickford' : 22, 'Dele' : 20}\r\n",
    "football_ages\r\n"
   ]
  },
  {
   "cell_type": "markdown",
   "metadata": {},
   "source": [
    "We can get the value of a pair by providing the key"
   ]
  },
  {
   "cell_type": "code",
   "execution_count": null,
   "metadata": {},
   "outputs": [],
   "source": [
    "football_ages['Dele']"
   ]
  },
  {
   "cell_type": "markdown",
   "metadata": {},
   "source": [
    "We can loop through all the keys and values of a dict"
   ]
  },
  {
   "cell_type": "code",
   "execution_count": null,
   "metadata": {},
   "outputs": [],
   "source": [
    "football_ages.keys()\r\n",
    "football_ages.values()"
   ]
  },
  {
   "cell_type": "markdown",
   "metadata": {},
   "source": [
    "The key can be any data type as can the value"
   ]
  },
  {
   "cell_type": "code",
   "execution_count": null,
   "metadata": {},
   "outputs": [],
   "source": [
    "dinner = {\r\n",
    "        'starter' : 'salad',\r\n",
    "        'main course' : ['meat' , \r\n",
    "                         'potatoes', {\r\n",
    "                                 'veg1': 'peas', \r\n",
    "                                 'veg2' : 'beans'}],\r\n",
    "        'is_desert_included': True\r\n",
    "        }\r\n",
    "dinner"
   ]
  },
  {
   "cell_type": "markdown",
   "metadata": {},
   "source": [
    "## Sets are unordered and unindexed (and not often used).  Create with {}"
   ]
  },
  {
   "cell_type": "code",
   "execution_count": null,
   "metadata": {},
   "outputs": [],
   "source": [
    "my_primes = {2, 3, 5, 7, 11}\r\n",
    "#my_primes = {13, 2, 3, 3, 5, 7, 11}\r\n",
    "my_primes\r\n",
    "#my_primes[0]"
   ]
  },
  {
   "cell_type": "markdown",
   "metadata": {},
   "source": [
    "# Control flow"
   ]
  },
  {
   "cell_type": "markdown",
   "metadata": {},
   "source": [
    "Conditional statements with if - elif - else"
   ]
  },
  {
   "cell_type": "code",
   "execution_count": null,
   "metadata": {},
   "outputs": [],
   "source": [
    "goals = 1\r\n",
    "\r\n",
    "if goals < 3:\r\n",
    "    print(\"not enough\")\r\n",
    "    print(\"try harder\")\r\n",
    "elif goals < 5:\r\n",
    "    print(\"more needed\")\r\n",
    "else:\r\n",
    "    print(\"hurrah\")"
   ]
  },
  {
   "cell_type": "markdown",
   "metadata": {},
   "source": [
    "Loop with for"
   ]
  },
  {
   "cell_type": "code",
   "execution_count": null,
   "metadata": {},
   "outputs": [],
   "source": [
    "for fruit in ('apple', 'pear', 'banana'):\r\n",
    "    print(fruit +'s are great.')"
   ]
  },
  {
   "cell_type": "markdown",
   "metadata": {},
   "source": [
    "Loop also with while and provide a stop condition"
   ]
  },
  {
   "cell_type": "code",
   "execution_count": null,
   "metadata": {},
   "outputs": [],
   "source": [
    "i = 10\r\n",
    "while i > 7:\r\n",
    "    print(i)\r\n",
    "    print(\"Going down\")\r\n",
    "    i = i - 1"
   ]
  }
 ],
 "metadata": {
  "interpreter": {
   "hash": "68c45707def87feca5a47d18982249224aa76d0675ca5b6bc7cad154e506106e"
  },
  "kernelspec": {
   "display_name": "Python 3.9.2  ('.venv': venv)",
   "name": "python3"
  },
  "language_info": {
   "codemirror_mode": {
    "name": "ipython",
    "version": 3
   },
   "file_extension": ".py",
   "mimetype": "text/x-python",
   "name": "python",
   "nbconvert_exporter": "python",
   "pygments_lexer": "ipython3",
   "version": "3.9.5"
  },
  "metadata": {
   "interpreter": {
    "hash": "68c45707def87feca5a47d18982249224aa76d0675ca5b6bc7cad154e506106e"
   }
  },
  "orig_nbformat": 2
 },
 "nbformat": 4,
 "nbformat_minor": 2
}