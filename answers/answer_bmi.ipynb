{
 "cells": [
  {
   "cell_type": "markdown",
   "metadata": {},
   "source": [
    "# Exercise: BMI"
   ]
  },
  {
   "cell_type": "markdown",
   "metadata": {},
   "source": [
    "Write a function, bmi,  that takes two arguments, height and weight, and returns the body mass index (weight / (height ** 2).\r\n",
    "\r\n",
    "The formula is bmi = weight / (height * height)*  where height is in metres, weight is in kg.  \r\n",
    "See (https://www.nhs.uk/Tools/Pages/Healthyweightcalculator.aspx)\r\n",
    "\r\n",
    "Write another function, bmi_category, that takes arguments height and weight and returns a string which has the value:\r\n",
    "- \"underweight\" if the body mass index is under 20, \r\n",
    "- \"normal\" if the body mass index is 20 or more but under 25 or \r\n",
    "- \"overweight\" if the body mass index is 25 or more\r\n",
    "Use the bmi function.\r\n",
    "\r\n",
    "A person has a weight of 77kg and a height of 1.75m.  Are they underweight, normal or overweight?"
   ]
  },
  {
   "cell_type": "markdown",
   "metadata": {},
   "source": [
    "Define the bmi function"
   ]
  },
  {
   "cell_type": "code",
   "execution_count": 2,
   "metadata": {},
   "outputs": [],
   "source": [
    "def bmi(height, weight):\r\n",
    "    \"\"\"\r\n",
    "    Returns the body mass index of a person given the weight (kg) and height(m) \r\n",
    "    \"\"\"\r\n",
    "    return weight / (height * height)"
   ]
  },
  {
   "cell_type": "markdown",
   "metadata": {},
   "source": [
    "Test the bmi function"
   ]
  },
  {
   "cell_type": "code",
   "execution_count": 3,
   "metadata": {},
   "outputs": [
    {
     "data": {
      "text/plain": "25.142857142857142"
     },
     "execution_count": 3,
     "metadata": {},
     "output_type": "execute_result"
    }
   ],
   "source": [
    "height = 1.75\r\n",
    "weight = 77\r\n",
    "bmi(height, weight)"
   ]
  },
  {
   "cell_type": "markdown",
   "metadata": {},
   "source": [
    "Define the bmi_category function"
   ]
  },
  {
   "cell_type": "code",
   "execution_count": 5,
   "metadata": {},
   "outputs": [],
   "source": [
    "def bmi_category(height, weight):\r\n",
    "    result = bmi(height, weight)\r\n",
    "    if result < 20:\r\n",
    "        category = \"underwight\"\r\n",
    "    elif result < 25:\r\n",
    "        category = \"normal\"\r\n",
    "    else:\r\n",
    "        category = \"overweight\"        \r\n",
    "        \r\n",
    "    return category"
   ]
  },
  {
   "cell_type": "markdown",
   "metadata": {},
   "source": [
    "Test the bmi_category function"
   ]
  },
  {
   "cell_type": "code",
   "execution_count": 6,
   "metadata": {},
   "outputs": [
    {
     "data": {
      "text/plain": "'overweight'"
     },
     "execution_count": 6,
     "metadata": {},
     "output_type": "execute_result"
    }
   ],
   "source": [
    "bmi_category(height, weight)"
   ]
  }
 ],
 "metadata": {
  "kernelspec": {
   "display_name": "Python 3.9.2 64-bit ('.venv': venv)",
   "name": "python392jvsc74a57bd068c45707def87feca5a47d18982249224aa76d0675ca5b6bc7cad154e506106e"
  },
  "language_info": {
   "name": "python",
   "version": ""
  },
  "metadata": {
   "interpreter": {
    "hash": "68c45707def87feca5a47d18982249224aa76d0675ca5b6bc7cad154e506106e"
   }
  },
  "orig_nbformat": 2
 },
 "nbformat": 4,
 "nbformat_minor": 2
}