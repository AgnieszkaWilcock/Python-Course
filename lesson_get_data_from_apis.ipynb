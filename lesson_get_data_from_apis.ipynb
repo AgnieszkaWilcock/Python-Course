{
 "cells": [
  {
   "cell_type": "markdown",
   "metadata": {},
   "source": [
    "# Get data from APIs\r\n",
    "\r\n",
    "We will use the GOV.UK Coronavirus (COVID-19) in the UK API as an example.  Details at https://coronavirus.data.gov.uk/details/developers-guide"
   ]
  },
  {
   "cell_type": "code",
   "execution_count": null,
   "metadata": {},
   "outputs": [],
   "source": [
    "import requests\r\n",
    "\r\n",
    "def get_data(url):\r\n",
    "    response = requests.get(url, timeout=10)\r\n",
    "    \r\n",
    "    if response.status_code >= 400:\r\n",
    "        raise RuntimeError(f'Request failed: { response.text }')\r\n",
    "        \r\n",
    "    return response.json()"
   ]
  },
  {
   "cell_type": "code",
   "execution_count": null,
   "metadata": {},
   "outputs": [],
   "source": [
    "england_bydate_endpoint = (\r\n",
    "    'https://api.coronavirus.data.gov.uk/v1/data?'\r\n",
    "    'filters=areaType=nation;areaName=england&'\r\n",
    "    'structure={\"date\":\"date\",\"dailyCases\":\"newCasesByPublishDate\",\"dailyDeaths\":\"newDeaths28DaysByPublishDate\"}'\r\n",
    ")\r\n",
    "\r\n",
    "regional_latestby_endpoint = (\r\n",
    "    'https://api.coronavirus.data.gov.uk/v1/data?'\r\n",
    "    'filters=areaType=region&'\r\n",
    "    'structure={\"name\":\"areaName\",\"date\":\"date\",\"dailyCases\":\"newCasesByPublishDate\",\"dailyDeaths\":\"newDeaths28DaysByPublishDate\", \"latestBy\", \"newCasesByPublishDate\"}'\r\n",
    ")"
   ]
  },
  {
   "cell_type": "code",
   "execution_count": null,
   "metadata": {},
   "outputs": [],
   "source": [
    "england_data = get_data(england_bydate_endpoint)\r\n",
    "england_data\r\n",
    "type(england_data)\r\n",
    "england_data.keys()\r\n",
    "type(england_data['data'])\r\n",
    "england_data['data'][0]\r\n"
   ]
  },
  {
   "cell_type": "markdown",
   "metadata": {},
   "source": [
    "For this API, there is a Python SDK https://pypi.org/project/uk-covid19/.  This makes it easier to get the data"
   ]
  },
  {
   "cell_type": "code",
   "execution_count": null,
   "metadata": {},
   "outputs": [],
   "source": [
    "import uk_covid19"
   ]
  },
  {
   "cell_type": "code",
   "execution_count": null,
   "metadata": {},
   "outputs": [],
   "source": [
    "england_only = [\r\n",
    "    'areaType=nation',\r\n",
    "    'areaName=England'\r\n",
    "]\r\n",
    "\r\n",
    "cases_and_deaths = {\r\n",
    "    \"date\": \"date\",\r\n",
    "    \"dailyCases\": \"newCasesByPublishDate\",\r\n",
    "    \"dailyDeaths\": \"newDeaths28DaysByDeathDate\"\r\n",
    "}\r\n",
    "\r\n",
    "england_covid_api = uk_covid19.Cov19API(filters=england_only, structure=cases_and_deaths)\r\n",
    "\r\n",
    "england_data = england_covid_api.get_json()\r\n",
    "\r\n",
    "england_data"
   ]
  }
 ],
 "metadata": {
  "interpreter": {
   "hash": "68c45707def87feca5a47d18982249224aa76d0675ca5b6bc7cad154e506106e"
  },
  "kernelspec": {
   "display_name": "Python 3.9.2  ('.venv': venv)",
   "name": "python3"
  },
  "language_info": {
   "name": "python",
   "version": ""
  },
  "orig_nbformat": 2
 },
 "nbformat": 4,
 "nbformat_minor": 2
}