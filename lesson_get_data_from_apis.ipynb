{
 "cells": [
  {
   "cell_type": "markdown",
   "metadata": {},
   "source": [
    "# Get data from APIs\r\n",
    "\r\n",
    "We will use the GOV.UK Coronavirus (COVID-19) in the UK API as an example.  Details at https://coronavirus.data.gov.uk/details/developers-guide"
   ]
  },
  {
   "cell_type": "code",
   "execution_count": null,
   "metadata": {},
   "outputs": [],
   "source": [
    "import requests\n",
    "\n",
    "\n",
    "def get_data(url):\n",
    "    response = requests.get(url, timeout=10)\n",
    "\n",
    "    if response.status_code >= 400:\n",
    "        raise RuntimeError(f\"Request failed: { response.text }\")\n",
    "    return response.json()"
   ]
  },
  {
   "cell_type": "code",
   "execution_count": null,
   "metadata": {},
   "outputs": [],
   "source": [
    "england_bydate_endpoint = (\n",
    "    \"https://api.coronavirus.data.gov.uk/v1/data?\"\n",
    "    \"filters=areaType=nation;areaName=england&\"\n",
    "    'structure={\"date\":\"date\",\"dailyCases\":\"newCasesByPublishDate\",\"dailyDeaths\":\"newDeaths28DaysByPublishDate\"}'\n",
    ")\n",
    "\n",
    "regional_latestby_endpoint = (\n",
    "    \"https://api.coronavirus.data.gov.uk/v1/data?\"\n",
    "    \"filters=areaType=region&\"\n",
    "    'structure={\"name\":\"areaName\",\"date\":\"date\",\"dailyCases\":\"newCasesByPublishDate\",\"dailyDeaths\":\"newDeaths28DaysByPublishDate\", \"latestBy\", \"newCasesByPublishDate\"}'\n",
    ")"
   ]
  },
  {
   "cell_type": "code",
   "execution_count": null,
   "metadata": {},
   "outputs": [],
   "source": [
    "england_data = get_data(england_bydate_endpoint)\n",
    "england_data\n",
    "type(england_data)\n",
    "england_data.keys()\n",
    "type(england_data[\"data\"])\n",
    "england_data[\"data\"][0]"
   ]
  },
  {
   "cell_type": "markdown",
   "metadata": {},
   "source": [
    "For this API, there is a Python SDK https://pypi.org/project/uk-covid19/.  This makes it easier to get the data"
   ]
  },
  {
   "cell_type": "code",
   "execution_count": null,
   "metadata": {},
   "outputs": [],
   "source": [
    "import uk_covid19"
   ]
  },
  {
   "cell_type": "code",
   "execution_count": null,
   "metadata": {},
   "outputs": [],
   "source": [
    "england_only = [\"areaType=nation\", \"areaName=England\"]\n",
    "\n",
    "cases_and_deaths = {\n",
    "    \"date\": \"date\",\n",
    "    \"dailyCases\": \"newCasesByPublishDate\",\n",
    "    \"dailyDeaths\": \"newDeaths28DaysByDeathDate\",\n",
    "}\n",
    "\n",
    "england_covid_api = uk_covid19.Cov19API(\n",
    "    filters=england_only, structure=cases_and_deaths\n",
    ")\n",
    "\n",
    "england_data = england_covid_api.get_json()\n",
    "\n",
    "england_data"
   ]
  }
 ],
 "metadata": {
  "interpreter": {
   "hash": "68c45707def87feca5a47d18982249224aa76d0675ca5b6bc7cad154e506106e"
  },
  "kernelspec": {
   "display_name": "Python 3.9.2  ('.venv': venv)",
   "name": "python3"
  },
  "language_info": {
   "name": "python",
   "version": ""
  },
  "orig_nbformat": 2
 },
 "nbformat": 4,
 "nbformat_minor": 2
}