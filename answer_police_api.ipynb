{
 "cells": [
  {
   "cell_type": "markdown",
   "metadata": {},
   "source": [
    "# Answer:  Get data from the police street crime API\r\n",
    "## Objective: List each crime with details: id, category, outcome_status and street\r\n",
    "\r\n",
    "This API is called  as in this example: https://data.police.uk/api/crimes-street/all-crime?lat=51.4441480&lng=-0.1398390\r\n"
   ]
  },
  {
   "cell_type": "code",
   "execution_count": null,
   "metadata": {},
   "outputs": [],
   "source": [
    "import requests"
   ]
  },
  {
   "cell_type": "markdown",
   "metadata": {},
   "source": [
    "The co-ordinates below are for a location in London (Balham, SW12 post code).  Feel free to change."
   ]
  },
  {
   "cell_type": "code",
   "execution_count": null,
   "metadata": {},
   "outputs": [],
   "source": [
    "latitude = 51.4441480\r\n",
    "longitude = -0.1398390"
   ]
  },
  {
   "cell_type": "code",
   "execution_count": null,
   "metadata": {},
   "outputs": [],
   "source": [
    "crime_url = \"https://data.police.uk/api/crimes-street/all-crime?lat={0}&lng={1}\".format(latitude, longitude)\r\n",
    "crime_response = requests.get(crime_url)\r\n",
    "crime_response.status_code"
   ]
  },
  {
   "cell_type": "code",
   "execution_count": null,
   "metadata": {},
   "outputs": [],
   "source": [
    "crime_json = crime_response.json()\r\n",
    "type(crime_json) # is a list\r\n",
    "crime_json[0] # Let's look at the first item in this list"
   ]
  },
  {
   "cell_type": "markdown",
   "metadata": {},
   "source": [
    "List each crime: id, category, outcome_status and street"
   ]
  },
  {
   "cell_type": "code",
   "execution_count": null,
   "metadata": {},
   "outputs": [],
   "source": [
    "for crime in crime_json:\r\n",
    "    category = crime['category']\r\n",
    "    outcome_status = crime['outcome_status']\r\n",
    "    location = crime['location']\r\n",
    "    street = location['street']\r\n",
    "    street_name = street['name']\r\n",
    "    print(\r\n",
    "        category,\r\n",
    "        street_name,\r\n",
    "        outcome_status\r\n",
    "        )"
   ]
  },
  {
   "cell_type": "markdown",
   "metadata": {},
   "source": [
    "Another way to loop through is to use a list comprehension"
   ]
  },
  {
   "cell_type": "code",
   "execution_count": null,
   "metadata": {},
   "outputs": [],
   "source": [
    "[(crime['id'], crime['outcome_status'], crime['category'], crime['location']['street']['name']) for crime in crime_json]"
   ]
  }
 ],
 "metadata": {
  "interpreter": {
   "hash": "971058d77d3fec802a562c904ccda8b2dadc90e8ee5c2cab5a6278c8090cb847"
  },
  "kernelspec": {
   "display_name": "Python 3.9.5 64-bit ('.venv': venv)",
   "name": "python3"
  },
  "language_info": {
   "codemirror_mode": {
    "name": "ipython",
    "version": 3
   },
   "file_extension": ".py",
   "mimetype": "text/x-python",
   "name": "python",
   "nbconvert_exporter": "python",
   "pygments_lexer": "ipython3",
   "version": "3.9.5"
  },
  "orig_nbformat": 2
 },
 "nbformat": 4,
 "nbformat_minor": 2
}