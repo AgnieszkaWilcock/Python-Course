{
 "cells": [
  {
   "attachments": {},
   "cell_type": "markdown",
   "metadata": {},
   "source": [
    "# Compound data structures:  list, tuple, dict and set"
   ]
  },
  {
   "attachments": {},
   "cell_type": "markdown",
   "metadata": {},
   "source": [
    "## Lists\n",
    "A list is an mutable ordered collection of elements. The elements can be of different data types. Create a list with [].\n"
   ]
  },
  {
   "cell_type": "code",
   "execution_count": null,
   "metadata": {},
   "outputs": [],
   "source": [
    "football_teams = [\"Chelsea\", \"Liverpoool\", \"Arsenal\"]\n",
    "football_teams"
   ]
  },
  {
   "cell_type": "code",
   "execution_count": null,
   "metadata": {},
   "outputs": [],
   "source": [
    "points = [17, 19, 15]\n",
    "points"
   ]
  },
  {
   "attachments": {},
   "cell_type": "markdown",
   "metadata": {},
   "source": [
    "This list contains a string, int, bool and another list`"
   ]
  },
  {
   "cell_type": "code",
   "execution_count": null,
   "metadata": {},
   "outputs": [],
   "source": [
    "a_diverse_list = [\"Chelsea\", 15, True, points]\n",
    "a_diverse_list"
   ]
  },
  {
   "cell_type": "code",
   "execution_count": null,
   "metadata": {},
   "outputs": [],
   "source": [
    "# We can find the number of elements in a list with len() function\n",
    "len(football_teams)"
   ]
  },
  {
   "cell_type": "code",
   "execution_count": null,
   "metadata": {},
   "outputs": [],
   "source": [
    "# Use an index to get element of the list by providing its position\n",
    "football_teams[0]"
   ]
  },
  {
   "attachments": {},
   "cell_type": "markdown",
   "metadata": {},
   "source": [
    "Lists are mutable - they can be \"edited\".  We can change an item in the list or append to the list. For example, let's append and insert  element to a list.  This is the first time that we have seen a method.\n"
   ]
  },
  {
   "cell_type": "code",
   "execution_count": null,
   "metadata": {},
   "outputs": [],
   "source": [
    "football_teams.append(\"Fulham\")\n",
    "football_teams"
   ]
  },
  {
   "cell_type": "code",
   "execution_count": null,
   "metadata": {},
   "outputs": [],
   "source": [
    "football_teams.sort()  # note that this is an in-place operation, the original string is replaced.\n",
    "football_teams"
   ]
  },
  {
   "cell_type": "code",
   "execution_count": null,
   "metadata": {},
   "outputs": [],
   "source": [
    "football_teams.insert(0, \"Crystal Palace\")\n",
    "football_teams"
   ]
  },
  {
   "attachments": {},
   "cell_type": "markdown",
   "metadata": {},
   "source": [
    "Aside (since we have not yet looked at loops). We can iterate through the elements of a list or tuple. Notice the : and the indentation. This \"format as function\" sets Python apart from other languages.\n"
   ]
  },
  {
   "cell_type": "code",
   "execution_count": null,
   "metadata": {},
   "outputs": [],
   "source": [
    "for p in points:\n",
    "    print(p**2)"
   ]
  },
  {
   "attachments": {},
   "cell_type": "markdown",
   "metadata": {},
   "source": [
    "_Advanced optional section:_ To copy a list we simply can't assign a new variable.  This will point to the same list.  Instead use copy() method or list() constructor."
   ]
  },
  {
   "cell_type": "code",
   "execution_count": null,
   "metadata": {},
   "outputs": [],
   "source": [
    "test1 = [\"Frank\", \"Lampard\"]\n",
    "test2 = test1\n",
    "test1.append(\"Thomas\")\n",
    "test1.append(\"Tuchel\")\n",
    "test2"
   ]
  },
  {
   "cell_type": "code",
   "execution_count": null,
   "metadata": {},
   "outputs": [],
   "source": [
    "test1 = [\"Frank\", \"Lampard\"]\n",
    "test2 = test1.copy()\n",
    "test1.append(\"Thomas\")\n",
    "test1.append(\"Tuchel\")\n",
    "test2"
   ]
  },
  {
   "attachments": {},
   "cell_type": "markdown",
   "metadata": {},
   "source": [
    "This elegant expression is a list comprehension.  \n"
   ]
  },
  {
   "cell_type": "code",
   "execution_count": null,
   "metadata": {},
   "outputs": [],
   "source": [
    "#  Question: does it need to be p?\n",
    "[p + 10 for p in points]"
   ]
  },
  {
   "cell_type": "code",
   "execution_count": null,
   "metadata": {},
   "outputs": [],
   "source": [
    "# What happens if not all the elements are numbers?\n",
    "strange_points = [17, \"eighteen\", 19, 15, \"twenty\", True]\n",
    "[p + 10 for p in strange_points if type(p) == int]\n",
    "# [p + 10 for p in strange_points]"
   ]
  },
  {
   "attachments": {},
   "cell_type": "markdown",
   "metadata": {},
   "source": [
    "## Tuples\n",
    "A tuple is an **immutable** ordered set of elements. Create a tuple with () - called parentheses or round brackets.\n"
   ]
  },
  {
   "cell_type": "code",
   "execution_count": null,
   "metadata": {},
   "outputs": [],
   "source": [
    "my_tuple = (\"alpha\", \"beta\", True, 42)\n",
    "my_tuple"
   ]
  },
  {
   "attachments": {},
   "cell_type": "markdown",
   "metadata": {},
   "source": [
    "We can assign variables to each element in a tuple as follows"
   ]
  },
  {
   "cell_type": "code",
   "execution_count": null,
   "metadata": {},
   "outputs": [],
   "source": [
    "a, b, c, d = my_tuple\n",
    "d, a, b, c"
   ]
  },
  {
   "attachments": {},
   "cell_type": "markdown",
   "metadata": {},
   "source": [
    "## Dictionaries\n",
    "A dict is an ordered collection of key / value pairs.  \n",
    "Create a dict with this syntax {key1: value1, key2: value2}\n"
   ]
  },
  {
   "cell_type": "code",
   "execution_count": null,
   "metadata": {},
   "outputs": [],
   "source": [
    "football_ages = {\"Kane\": 24, \"Pickford\": 22, \"Dele\": 20}\n",
    "football_ages"
   ]
  },
  {
   "attachments": {},
   "cell_type": "markdown",
   "metadata": {},
   "source": [
    "We can get the value of a pair by providing the key"
   ]
  },
  {
   "cell_type": "code",
   "execution_count": null,
   "metadata": {},
   "outputs": [],
   "source": [
    "football_ages[\"Dele\"]"
   ]
  },
  {
   "attachments": {},
   "cell_type": "markdown",
   "metadata": {},
   "source": [
    "We can loop through all the keys and values of a dict"
   ]
  },
  {
   "cell_type": "code",
   "execution_count": null,
   "metadata": {},
   "outputs": [],
   "source": [
    "football_ages.keys()\n",
    "football_ages.values()"
   ]
  },
  {
   "attachments": {},
   "cell_type": "markdown",
   "metadata": {},
   "source": [
    "The key can be any data type as can the value"
   ]
  },
  {
   "cell_type": "code",
   "execution_count": null,
   "metadata": {},
   "outputs": [],
   "source": [
    "dinner = {\n",
    "    \"starter\": \"salad\",\n",
    "    \"main course\": [\"meat\", \"potatoes\", {\"veg1\": \"peas\", \"veg2\": \"beans\"}],\n",
    "    \"is_desert_included\": True,\n",
    "}\n",
    "dinner"
   ]
  },
  {
   "attachments": {},
   "cell_type": "markdown",
   "metadata": {},
   "source": [
    "## Sets are unordered and unindexed (and not often used).  Create with {}"
   ]
  },
  {
   "cell_type": "code",
   "execution_count": null,
   "metadata": {},
   "outputs": [],
   "source": [
    "my_primes = {2, 3, 5, 7, 11}\n",
    "# my_primes = {13, 2, 3, 3, 5, 7, 11}\n",
    "my_primes\n",
    "# my_primes[0]"
   ]
  }
 ],
 "metadata": {
  "interpreter": {
   "hash": "68c45707def87feca5a47d18982249224aa76d0675ca5b6bc7cad154e506106e"
  },
  "kernelspec": {
   "display_name": "Python 3.9.2  ('.venv': venv)",
   "name": "python3"
  },
  "language_info": {
   "codemirror_mode": {
    "name": "ipython",
    "version": 3
   },
   "file_extension": ".py",
   "mimetype": "text/x-python",
   "name": "python",
   "nbconvert_exporter": "python",
   "pygments_lexer": "ipython3",
   "version": "3.11.2"
  },
  "metadata": {
   "interpreter": {
    "hash": "68c45707def87feca5a47d18982249224aa76d0675ca5b6bc7cad154e506106e"
   }
  },
  "orig_nbformat": 2
 },
 "nbformat": 4,
 "nbformat_minor": 2
}
