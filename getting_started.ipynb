{
 "metadata": {
  "language_info": {
   "codemirror_mode": {
    "name": "ipython",
    "version": 3
   },
   "file_extension": ".py",
   "mimetype": "text/x-python",
   "name": "python",
   "nbconvert_exporter": "python",
   "pygments_lexer": "ipython3",
   "version": "3.9.2"
  },
  "orig_nbformat": 2,
  "kernelspec": {
   "name": "python392jvsc74a57bd08abb1f199d14c7f4bde2f9b20a5186bf36d429b95679315f95e5b318beb2c041",
   "display_name": "Python 3.9.2 64-bit ('.course-env')"
  }
 },
 "nbformat": 4,
 "nbformat_minor": 2,
 "cells": [
  {
   "source": [
    "# Getting started\n",
    "\n",
    "Welcome to the Python Course.  This is an introduction to Python, with a focus on data analysis. We start with the obligatory \"Hello World in Python\", look at a short snippet of code to import and view a dataset to whet our appetite then we go through the basics; data types, data structures, functions, methods and the numpy and pandas packages.\n",
    "\n",
    "We are going to learn Python like this:\n",
    "* read a chunk of code of code, and guess / explain what it will do\n",
    "* run a chunk of  code and explain what it did\n",
    "* change then run a chunk of code and explain what is different\n",
    "* write a chunk of code of code from scratch\n",
    "* do some exercises and the end of each section\n"
   ],
   "cell_type": "markdown",
   "metadata": {}
  },
  {
   "cell_type": "code",
   "execution_count": null,
   "metadata": {},
   "outputs": [],
   "source": [
    "# Uncomment this for a Python Egg\n",
    "# import this"
   ]
  },
  {
   "cell_type": "code",
   "execution_count": null,
   "metadata": {},
   "outputs": [],
   "source": [
    "#  Our Hello World of Python.  This is where the name comes from.\n",
    "print(\"monty\", \"python\")"
   ]
  },
  {
   "source": [
    "We use the inbuilt print() function, to inspect what is happening.  print() does an action (side-effect) to write a value to the console. Actions include reading / writing a file.\n",
    "\n",
    "To execute a chunk of code line by line, press F10 in VSCode\n"
   ],
   "cell_type": "markdown",
   "metadata": {}
  },
  {
   "cell_type": "code",
   "execution_count": null,
   "metadata": {},
   "outputs": [],
   "source": [
    "print(\"select me!\")\n",
    "print(\"and me!\")\n",
    "print(\"and me too!\")\n"
   ]
  },
  {
   "source": [
    "A python statement will always return something, even if it is None\n"
   ],
   "cell_type": "markdown",
   "metadata": {}
  },
  {
   "cell_type": "code",
   "execution_count": null,
   "metadata": {},
   "outputs": [],
   "source": [
    "7 * 7 # returns 49"
   ]
  },
  {
   "source": [
    "Variables store values and objects for later use.  Assigning a variable returns None so we often will write two lines like below\n",
    "\n",
    "1. the first line sets the value of the variable\n",
    "2. the second line is just the variable name so we can see the result\n"
   ],
   "cell_type": "markdown",
   "metadata": {}
  },
  {
   "cell_type": "code",
   "execution_count": null,
   "metadata": {},
   "outputs": [],
   "source": [
    "var1 = (5 * 7)**2 # could be a more complicated exppression\n",
    "var1"
   ]
  },
  {
   "cell_type": "code",
   "execution_count": null,
   "metadata": {},
   "outputs": [],
   "source": []
  }
 ]
}