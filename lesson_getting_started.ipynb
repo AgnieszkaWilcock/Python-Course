{
 "cells": [
  {
   "attachments": {},
   "cell_type": "markdown",
   "metadata": {
    "id": "0rvZZ95B4-Wm"
   },
   "source": [
    "# Getting started with Python\n",
    "A first look at Python. We learn about lots of Pythonic concepts including:\n",
    "* built in functions like print()\n",
    "* side effects\n",
    "* positional and keyword arguments\n",
    "* syntax errors and runtime errors\n",
    "* variables\n",
    "* lists\n",
    "* index a list to get an element\n",
    "* loop through a list with for\n",
    "* Python's \"format as function\" principle\n",
    "* define and use our own function\n",
    "* passing arguments into a functions\n",
    "* docstrings\n"
   ]
  },
  {
   "cell_type": "code",
   "execution_count": null,
   "metadata": {
    "colab": {
     "base_uri": "https://localhost:8080/"
    },
    "executionInfo": {
     "elapsed": 355,
     "status": "ok",
     "timestamp": 1684666021376,
     "user": {
      "displayName": "Mark Wilcock",
      "userId": "01289097066483342066"
     },
     "user_tz": -60
    },
    "id": "A8dNgoeI4VUN",
    "outputId": "76dc853c-07e6-4ce7-cd20-5fbfe38af507"
   },
   "outputs": [],
   "source": [
    "print(\"hello\", \"welcome\", \"hi\", sep=\", \", end=\"\\n\")\n",
    "print(\"good morning\")"
   ]
  },
  {
   "attachments": {},
   "cell_type": "markdown",
   "metadata": {
    "id": "JOr5mii07ikG"
   },
   "source": [
    "Put greeting into a variable\n"
   ]
  },
  {
   "cell_type": "code",
   "execution_count": null,
   "metadata": {
    "colab": {
     "base_uri": "https://localhost:8080/"
    },
    "executionInfo": {
     "elapsed": 341,
     "status": "ok",
     "timestamp": 1684666273890,
     "user": {
      "displayName": "Mark Wilcock",
      "userId": "01289097066483342066"
     },
     "user_tz": -60
    },
    "id": "YncNovq27wHp",
    "outputId": "c7e27274-2cae-4145-a05f-f6c978610418"
   },
   "outputs": [],
   "source": [
    "greeting = \"Hello Student\"\n",
    "print(greeting)"
   ]
  },
  {
   "attachments": {},
   "cell_type": "markdown",
   "metadata": {
    "id": "g482mVwKCjGq"
   },
   "source": [
    "We can concatenate (append) strings with the + operator."
   ]
  },
  {
   "cell_type": "code",
   "execution_count": null,
   "metadata": {
    "colab": {
     "base_uri": "https://localhost:8080/"
    },
    "executionInfo": {
     "elapsed": 342,
     "status": "ok",
     "timestamp": 1684666478646,
     "user": {
      "displayName": "Mark Wilcock",
      "userId": "01289097066483342066"
     },
     "user_tz": -60
    },
    "id": "12KG4quu8YLv",
    "outputId": "1c3b6f13-256a-4ddb-fdc9-c402c4d6f80c"
   },
   "outputs": [],
   "source": [
    "student_name = \"liz\"\n",
    "print(\"hello\", student_name)\n",
    "print(\"hello \" + student_name)"
   ]
  },
  {
   "attachments": {},
   "cell_type": "markdown",
   "metadata": {
    "id": "hvYR017s6_Ol"
   },
   "source": [
    "There are a few students in the class and I want to say hello to each individually"
   ]
  },
  {
   "cell_type": "code",
   "execution_count": null,
   "metadata": {
    "colab": {
     "base_uri": "https://localhost:8080/"
    },
    "executionInfo": {
     "elapsed": 4,
     "status": "ok",
     "timestamp": 1684666306896,
     "user": {
      "displayName": "Mark Wilcock",
      "userId": "01289097066483342066"
     },
     "user_tz": -60
    },
    "id": "hRZF1hkd45SG",
    "outputId": "3c0f56fe-d40c-4a0e-cab2-72e0f641ac74"
   },
   "outputs": [],
   "source": [
    "for i in range(3):\n",
    "    print(greeting, i)"
   ]
  },
  {
   "attachments": {},
   "cell_type": "markdown",
   "metadata": {
    "id": "Hk6h3xsg8sf-"
   },
   "source": [
    "Put students into a list so I can loop through them"
   ]
  },
  {
   "cell_type": "code",
   "execution_count": null,
   "metadata": {
    "colab": {
     "base_uri": "https://localhost:8080/"
    },
    "executionInfo": {
     "elapsed": 15,
     "status": "ok",
     "timestamp": 1684667234761,
     "user": {
      "displayName": "Mark Wilcock",
      "userId": "01289097066483342066"
     },
     "user_tz": -60
    },
    "id": "O9LFUdHe8cQb",
    "outputId": "8eb60a33-6186-47e8-fd39-30dd2d05fff3"
   },
   "outputs": [],
   "source": [
    "students = [\"  liz   \", \"lois\", \"rosalind\", \"   tom\"]\n",
    "print(students)\n",
    "print(students[0])"
   ]
  },
  {
   "attachments": {},
   "cell_type": "markdown",
   "metadata": {
    "id": "fv1wa62o9MvI"
   },
   "source": [
    "If we ask for a sudent outside the list, we get out first run time error"
   ]
  },
  {
   "cell_type": "code",
   "execution_count": null,
   "metadata": {
    "colab": {
     "base_uri": "https://localhost:8080/"
    },
    "executionInfo": {
     "elapsed": 3,
     "status": "ok",
     "timestamp": 1684666689843,
     "user": {
      "displayName": "Mark Wilcock",
      "userId": "01289097066483342066"
     },
     "user_tz": -60
    },
    "id": "FAOE-Y7-9UAN",
    "outputId": "5b5eb9cb-10a7-4cab-a75b-fc075436a5d1"
   },
   "outputs": [],
   "source": [
    "print(students[2])"
   ]
  },
  {
   "attachments": {},
   "cell_type": "markdown",
   "metadata": {
    "id": "Unn4-fTX-Da9"
   },
   "source": [
    "Loop through the list by incrementing the index to greet each student"
   ]
  },
  {
   "cell_type": "code",
   "execution_count": null,
   "metadata": {
    "colab": {
     "base_uri": "https://localhost:8080/"
    },
    "executionInfo": {
     "elapsed": 7,
     "status": "ok",
     "timestamp": 1684666892747,
     "user": {
      "displayName": "Mark Wilcock",
      "userId": "01289097066483342066"
     },
     "user_tz": -60
    },
    "id": "wW-aZluu9e0E",
    "outputId": "4cecafe6-4970-4d39-fc04-d462f933133a"
   },
   "outputs": [],
   "source": [
    "# for i in range(3):\n",
    "number_of_students = len(students)\n",
    "for i in range(number_of_students):\n",
    "    print(\"hello\", students[i])"
   ]
  },
  {
   "attachments": {},
   "cell_type": "markdown",
   "metadata": {
    "id": "KOMbk3hE-OBX"
   },
   "source": [
    "We can do this in a more elegant fashion without indexing the list"
   ]
  },
  {
   "cell_type": "code",
   "execution_count": null,
   "metadata": {
    "colab": {
     "base_uri": "https://localhost:8080/"
    },
    "executionInfo": {
     "elapsed": 7,
     "status": "ok",
     "timestamp": 1684667499899,
     "user": {
      "displayName": "Mark Wilcock",
      "userId": "01289097066483342066"
     },
     "user_tz": -60
    },
    "id": "54x6OSE69xN1",
    "outputId": "6bd0860a-2fa1-4460-98a4-527a8fcbe71f"
   },
   "outputs": [],
   "source": [
    "for student in students:\n",
    "    print(\"hello\", student)\n",
    "    print(\"how are you?\")\n",
    "    print()"
   ]
  },
  {
   "attachments": {},
   "cell_type": "markdown",
   "metadata": {
    "id": "ptKipbHw_FEy"
   },
   "source": [
    "Let's capitalise (make the first letter upper case, all other lower case) and also trim (remove leading and trailing spaces) the studets names trims with the capitalize() and strip() *methods* and **method chaining**."
   ]
  },
  {
   "cell_type": "code",
   "execution_count": null,
   "metadata": {
    "colab": {
     "base_uri": "https://localhost:8080/"
    },
    "executionInfo": {
     "elapsed": 351,
     "status": "ok",
     "timestamp": 1684667471427,
     "user": {
      "displayName": "Mark Wilcock",
      "userId": "01289097066483342066"
     },
     "user_tz": -60
    },
    "id": "B0bXKSOY-xSK",
    "outputId": "1aa582e7-49a5-4677-df5f-9ac87808f72d"
   },
   "outputs": [],
   "source": [
    "for s in students:\n",
    "    print(\"hello\", s.strip().capitalize())\n",
    "    print(\"how are you?\")"
   ]
  },
  {
   "attachments": {},
   "cell_type": "markdown",
   "metadata": {
    "id": "Q9JsL1ezELx4"
   },
   "source": [
    "Define a function to implement the welcome.\n",
    "We can get away with referring to the variable defined outside the function (scope rules) but this is bad practice and limits reusability"
   ]
  },
  {
   "cell_type": "code",
   "execution_count": null,
   "metadata": {
    "executionInfo": {
     "elapsed": 4,
     "status": "ok",
     "timestamp": 1684668419732,
     "user": {
      "displayName": "Mark Wilcock",
      "userId": "01289097066483342066"
     },
     "user_tz": -60
    },
    "id": "RRU7-bI8D96i"
   },
   "outputs": [],
   "source": [
    "their_name = \"mark\""
   ]
  },
  {
   "cell_type": "code",
   "execution_count": null,
   "metadata": {
    "executionInfo": {
     "elapsed": 3,
     "status": "ok",
     "timestamp": 1684668565698,
     "user": {
      "displayName": "Mark Wilcock",
      "userId": "01289097066483342066"
     },
     "user_tz": -60
    },
    "id": "vsivJQ2HDJxK"
   },
   "outputs": [],
   "source": [
    "def greet():\n",
    "    \"\"\"Welcome a student to the course\"\"\"\n",
    "    print(\"Hello Student\", their_name)\n",
    "    print(\"How are you\")"
   ]
  },
  {
   "cell_type": "code",
   "execution_count": null,
   "metadata": {
    "colab": {
     "base_uri": "https://localhost:8080/"
    },
    "executionInfo": {
     "elapsed": 4,
     "status": "ok",
     "timestamp": 1684668568315,
     "user": {
      "displayName": "Mark Wilcock",
      "userId": "01289097066483342066"
     },
     "user_tz": -60
    },
    "id": "GqqI7sbADYFm",
    "outputId": "380d7647-9692-475a-87cc-556f517e5e29"
   },
   "outputs": [],
   "source": [
    "#  Let run our newly defined greet function\n",
    "greet()"
   ]
  },
  {
   "attachments": {},
   "cell_type": "markdown",
   "metadata": {
    "id": "xO3fS1QrEybh"
   },
   "source": [
    "Better to pass in the value as an argument"
   ]
  },
  {
   "cell_type": "code",
   "execution_count": null,
   "metadata": {
    "executionInfo": {
     "elapsed": 338,
     "status": "ok",
     "timestamp": 1684668773164,
     "user": {
      "displayName": "Mark Wilcock",
      "userId": "01289097066483342066"
     },
     "user_tz": -60
    },
    "id": "9zWZzTnsDmns"
   },
   "outputs": [],
   "source": [
    "def greet(name):\n",
    "    \"\"\"Welcome a student to the course. names is passed in\"\"\"\n",
    "    print(\"Hello\", name.strip().capitalize())\n",
    "    print(\"How are you\")"
   ]
  },
  {
   "cell_type": "code",
   "execution_count": null,
   "metadata": {
    "colab": {
     "base_uri": "https://localhost:8080/"
    },
    "executionInfo": {
     "elapsed": 685,
     "status": "ok",
     "timestamp": 1684668775409,
     "user": {
      "displayName": "Mark Wilcock",
      "userId": "01289097066483342066"
     },
     "user_tz": -60
    },
    "id": "aKJcwNOCFOFt",
    "outputId": "078cc64c-cd25-4b48-ca72-6480142cdbb6"
   },
   "outputs": [],
   "source": [
    "greet(\"james\")"
   ]
  },
  {
   "attachments": {},
   "cell_type": "markdown",
   "metadata": {
    "id": "TJDyApSTFft6"
   },
   "source": [
    "Loop through the students greeting them all\n",
    "\n",
    "Note that as you write the function name, you will see the docstring"
   ]
  },
  {
   "cell_type": "code",
   "execution_count": null,
   "metadata": {
    "colab": {
     "base_uri": "https://localhost:8080/"
    },
    "executionInfo": {
     "elapsed": 5,
     "status": "ok",
     "timestamp": 1684668803000,
     "user": {
      "displayName": "Mark Wilcock",
      "userId": "01289097066483342066"
     },
     "user_tz": -60
    },
    "id": "EswYWFOOFZsF",
    "outputId": "54d83b2f-7c2d-4e19-be6e-a1dbb7ed495b"
   },
   "outputs": [],
   "source": [
    "for s in students:\n",
    "    greet(s)"
   ]
  }
 ],
 "metadata": {
  "colab": {
   "authorship_tag": "ABX9TyNnctzk8t1yFSxSpb5jSFBE",
   "provenance": [
    {
     "file_id": "1rnZwpe9uJBkj4ixg4eVnWQxSmDOHY9bC",
     "timestamp": 1684665466821
    }
   ]
  },
  "kernelspec": {
   "display_name": "Python 3",
   "name": "python3"
  },
  "language_info": {
   "codemirror_mode": {
    "name": "ipython",
    "version": 3
   },
   "file_extension": ".py",
   "mimetype": "text/x-python",
   "name": "python",
   "nbconvert_exporter": "python",
   "pygments_lexer": "ipython3",
   "version": "3.11.2"
  }
 },
 "nbformat": 4,
 "nbformat_minor": 0
}
