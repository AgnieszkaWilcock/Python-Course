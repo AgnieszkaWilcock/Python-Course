{
 "cells": [
  {
   "cell_type": "markdown",
   "metadata": {},
   "source": [
    "# Visualise the iris dataset  with seaborn\r\n",
    "iris is a famous dataset of the sepal and petal lengths and widths of 150 iris flowers of thrree different species"
   ]
  },
  {
   "cell_type": "code",
   "execution_count": null,
   "metadata": {},
   "outputs": [],
   "source": [
    "import seaborn as sns\r\n",
    "import matplotlib.pyplot as plt\r\n",
    "import pandas as pd\r\n",
    "\r\n",
    "sns.set_style('darkgrid')\r\n",
    "sns.set_palette('RdBu')"
   ]
  },
  {
   "cell_type": "code",
   "execution_count": null,
   "metadata": {},
   "outputs": [],
   "source": [
    "# Import the dataset. For convenience, rename the columns to lowercase and no spaces and dots\r\n",
    "iris = pd.read_csv(\"Datasets\\irisdata.csv\")\r\n",
    "iris.columns = ('observation', 'sepal_length', 'sepal_width', 'petal_length', 'petal_width', 'species')"
   ]
  },
  {
   "cell_type": "code",
   "execution_count": null,
   "metadata": {},
   "outputs": [],
   "source": [
    "# Build a scatter plot of the realtionship between petal and sepal  lengths.\r\n",
    "sns.scatterplot(x='petal_length', y = 'sepal_length', hue = 'species', data = iris)\r\n",
    "plt.show()"
   ]
  },
  {
   "cell_type": "code",
   "execution_count": null,
   "metadata": {},
   "outputs": [],
   "source": [
    "sns.relplot(data= iris, x='petal_length', y = 'sepal_length', hue = 'species', kind='scatter')\r\n",
    "plt.show()"
   ]
  },
  {
   "cell_type": "code",
   "execution_count": null,
   "metadata": {},
   "outputs": [],
   "source": [
    "# A rel(ational) plot is more flexible than a scatterplot since it can also create small multiples\r\n",
    "sns.relplot(data = iris, x='petal_length', y = 'sepal_length', hue = 'species', kind='scatter')\r\n",
    "plt.show()\r\n",
    "sns.relplot(data = iris, x='petal_length', y = 'sepal_length', col = 'species', kind='scatter')\r\n",
    "plt.show()"
   ]
  }
 ],
 "metadata": {
  "kernelspec": {
   "display_name": "Python 3.9.2  ('.venv': venv)",
   "name": "pythonjvsc74a57bd0047320649600f32f163458a3ea42b5e6faa8e94a8e8162718a3776c6fffc4da4"
  },
  "language_info": {
   "name": "python",
   "version": ""
  },
  "metadata": {
   "interpreter": {
    "hash": "047320649600f32f163458a3ea42b5e6faa8e94a8e8162718a3776c6fffc4da4"
   }
  },
  "orig_nbformat": 3
 },
 "nbformat": 4,
 "nbformat_minor": 2
}