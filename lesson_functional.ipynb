{
 "cells": [
  {
   "attachments": {},
   "cell_type": "markdown",
   "metadata": {},
   "source": [
    "Demonstrates filtering of lists using list comprehemnsion.\n",
    "\n",
    "Introduces lambda functions and the map() and filter() functions"
   ]
  },
  {
   "cell_type": "code",
   "execution_count": 1,
   "metadata": {},
   "outputs": [],
   "source": [
    "# Define an airport as a dict with two keys, code and city.\n",
    "london_city = {\"code\": \"LCY\", \"city\": \"London\"}"
   ]
  },
  {
   "cell_type": "code",
   "execution_count": 2,
   "metadata": {},
   "outputs": [],
   "source": [
    "#   Print the airport code and city for an airport. This is a convenience function\n",
    "def print_airport (airport):\n",
    "    print(f\"Airport code {airport['code']} serves city {airport['city']}\")"
   ]
  },
  {
   "cell_type": "code",
   "execution_count": 3,
   "metadata": {},
   "outputs": [
    {
     "name": "stdout",
     "output_type": "stream",
     "text": [
      "Print London City Airport with the function above\n",
      "Airport code LCY serves city London\n"
     ]
    }
   ],
   "source": [
    "print(\"Print London City Airport with the function above\")\n",
    "print_airport(london_city)"
   ]
  },
  {
   "cell_type": "code",
   "execution_count": 13,
   "metadata": {},
   "outputs": [],
   "source": [
    "# Start with a list of dicts representing UK airports \n",
    "# Note that all values are deliberately lowercase for the purposes of this exercise\n",
    "airports = [\n",
    "    {\"code\": \"lgw\", \"city\": \"london\"},\n",
    "    {\"code\": \"stn\", \"city\": \"london\"},\n",
    "    {\"code\": \"lhr\", \"city\": \"london\"},\n",
    "    {\"code\": \"bhx\", \"city\": \"birmingham\"},\n",
    "    {\"code\": \"man\", \"city\": \"manchester\"}\n",
    "]"
   ]
  },
  {
   "cell_type": "code",
   "execution_count": 5,
   "metadata": {},
   "outputs": [
    {
     "name": "stdout",
     "output_type": "stream",
     "text": [
      "All airports\n",
      "Airport code lgw serves city london\n",
      "Airport code stn serves city london\n",
      "Airport code lhr serves city london\n",
      "Airport code bhx serves city birmingham\n",
      "Airport code man serves city manchester\n"
     ]
    }
   ],
   "source": [
    "print(\"All airports\")\n",
    "for airport in airports:\n",
    "    print_airport(airport)"
   ]
  },
  {
   "cell_type": "code",
   "execution_count": 14,
   "metadata": {},
   "outputs": [
    {
     "name": "stdout",
     "output_type": "stream",
     "text": [
      "filter only airports in London using a list comprehension\n",
      "Airport code lgw serves city london\n",
      "Airport code stn serves city london\n",
      "Airport code lhr serves city london\n"
     ]
    }
   ],
   "source": [
    "print(\"filter only airports in London using a list comprehension\")\n",
    "london_airports = [airport for airport in airports if airport[\"city\"] == \"london\"]\n",
    "\n",
    "for airport in london_airports:\n",
    "    print_airport(airport)\n"
   ]
  },
  {
   "cell_type": "code",
   "execution_count": 15,
   "metadata": {},
   "outputs": [
    {
     "name": "stdout",
     "output_type": "stream",
     "text": [
      "Filter only airports in London using filter and a lambda\n",
      "Airport code lgw serves city london\n",
      "Airport code stn serves city london\n",
      "Airport code lhr serves city london\n"
     ]
    }
   ],
   "source": [
    "print(\"Filter only airports in London using filter and a lambda\")\n",
    "london_airports = filter(lambda airport: airport[\"city\"] == \"london\", airports) \n",
    "for airport in london_airports:\n",
    "    print_airport(airport)"
   ]
  },
  {
   "cell_type": "code",
   "execution_count": 16,
   "metadata": {},
   "outputs": [
    {
     "name": "stdout",
     "output_type": "stream",
     "text": [
      "Filter only airports in London using filter and function\n",
      "Airport code lgw serves city london\n",
      "Airport code stn serves city london\n",
      "Airport code lhr serves city london\n"
     ]
    }
   ],
   "source": [
    "print(\"Filter only airports in London using filter and function\")\n",
    "\n",
    "# This function returns True if the airport is in London, False otherwise\n",
    "def is_london(airport): \n",
    "    return airport[\"city\"] == \"london\"      # return True if airport is in London\n",
    "\n",
    "london_airports = filter(is_london, airports)\n",
    "for airport in london_airports:\n",
    "    print_airport(airport)"
   ]
  },
  {
   "cell_type": "code",
   "execution_count": 17,
   "metadata": {},
   "outputs": [
    {
     "name": "stdout",
     "output_type": "stream",
     "text": [
      "Sort airports by code using sorted() and a lambda\n",
      "Airport code bhx serves city birmingham\n",
      "Airport code lgw serves city london\n",
      "Airport code lhr serves city london\n",
      "Airport code man serves city manchester\n",
      "Airport code stn serves city london\n"
     ]
    }
   ],
   "source": [
    "# Sort airports by code using a lambda\n",
    "# sorted() takes a key function to determine the sort order and returns a new list\n",
    "# The key function is called for each item in the list and  returns the value to sort on\n",
    "\n",
    "print(\"Sort airports by code using sorted() and a lambda\")\n",
    "sorted_airports = sorted(airports, key=lambda airport: airport[\"code\"])\n",
    "for airport in sorted_airports:\n",
    "    print_airport(airport)"
   ]
  },
  {
   "cell_type": "code",
   "execution_count": 18,
   "metadata": {},
   "outputs": [
    {
     "name": "stdout",
     "output_type": "stream",
     "text": [
      "Sort airports by code using sorted() and a function\n"
     ]
    }
   ],
   "source": [
    "print(\"Sort airports by code using sorted() and a function\")\n",
    "\n",
    "# This function returns the code for an airport\n",
    "def get_code(airport):\n",
    "    return airport[\"code\"]"
   ]
  },
  {
   "cell_type": "code",
   "execution_count": 19,
   "metadata": {},
   "outputs": [
    {
     "name": "stdout",
     "output_type": "stream",
     "text": [
      "Airport code bhx serves city birmingham\n",
      "Airport code lgw serves city london\n",
      "Airport code lhr serves city london\n",
      "Airport code man serves city manchester\n",
      "Airport code stn serves city london\n"
     ]
    }
   ],
   "source": [
    "    \n",
    "sorted_airports = sorted(airports, key=get_code)\n",
    "for airport in sorted_airports:\n",
    "    print_airport(airport)"
   ]
  },
  {
   "cell_type": "code",
   "execution_count": 20,
   "metadata": {},
   "outputs": [
    {
     "name": "stdout",
     "output_type": "stream",
     "text": [
      "Using map and lambda to convert codes to uppercase and cities to title case\n",
      "Airport code LGW serves city London\n",
      "Airport code STN serves city London\n",
      "Airport code LHR serves city London\n",
      "Airport code BHX serves city Birmingham\n",
      "Airport code MAN serves city Manchester\n"
     ]
    }
   ],
   "source": [
    "# convert airport codes to uppercase and cities to title case using map() and a lambda function\n",
    "# map() takes a function to apply to each item in the list\n",
    "# the function is a lambda that is called for each item in the list\n",
    "# the lambda returns a new dict with the code converted to uppercase and the city converted to title case\n",
    "\n",
    "print(\"Using map and lambda to convert codes to uppercase and cities to title case\")\n",
    "cased_airports = map(lambda a: {\"code\": a[\"code\"].upper(), \"city\" : a[\"city\"].capitalize()}, airports)\n",
    "\n",
    "for airport in cased_airports:\n",
    "    print_airport(airport)"
   ]
  }
 ],
 "metadata": {
  "kernelspec": {
   "display_name": ".venv",
   "language": "python",
   "name": "python3"
  },
  "language_info": {
   "codemirror_mode": {
    "name": "ipython",
    "version": 3
   },
   "file_extension": ".py",
   "mimetype": "text/x-python",
   "name": "python",
   "nbconvert_exporter": "python",
   "pygments_lexer": "ipython3",
   "version": "3.11.2"
  },
  "orig_nbformat": 4
 },
 "nbformat": 4,
 "nbformat_minor": 2
}
