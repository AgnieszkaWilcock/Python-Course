{
 "cells": [
  {
   "cell_type": "markdown",
   "metadata": {},
   "source": [
    "# Visualise the tips dataset with seaborn\r\n",
    "The tips dataset contains details of restaurant bookings including the bill amount and tips."
   ]
  },
  {
   "cell_type": "code",
   "execution_count": 1,
   "metadata": {},
   "outputs": [],
   "source": [
    "import seaborn as sns\n",
    "import matplotlib.pyplot as plt\n",
    "import pandas as pd"
   ]
  },
  {
   "cell_type": "code",
   "execution_count": 2,
   "metadata": {},
   "outputs": [
    {
     "data": {
      "text/html": "<div>\n<style scoped>\n    .dataframe tbody tr th:only-of-type {\n        vertical-align: middle;\n    }\n\n    .dataframe tbody tr th {\n        vertical-align: top;\n    }\n\n    .dataframe thead th {\n        text-align: right;\n    }\n</style>\n<table border=\"1\" class=\"dataframe\">\n  <thead>\n    <tr style=\"text-align: right;\">\n      <th></th>\n      <th>total_bill</th>\n      <th>tip</th>\n      <th>sex</th>\n      <th>smoker</th>\n      <th>day</th>\n      <th>time</th>\n      <th>size</th>\n    </tr>\n  </thead>\n  <tbody>\n    <tr>\n      <th>0</th>\n      <td>16.99</td>\n      <td>1.01</td>\n      <td>Female</td>\n      <td>No</td>\n      <td>Sun</td>\n      <td>Dinner</td>\n      <td>2</td>\n    </tr>\n    <tr>\n      <th>1</th>\n      <td>10.34</td>\n      <td>1.66</td>\n      <td>Male</td>\n      <td>No</td>\n      <td>Sun</td>\n      <td>Dinner</td>\n      <td>3</td>\n    </tr>\n    <tr>\n      <th>2</th>\n      <td>21.01</td>\n      <td>3.50</td>\n      <td>Male</td>\n      <td>No</td>\n      <td>Sun</td>\n      <td>Dinner</td>\n      <td>3</td>\n    </tr>\n  </tbody>\n</table>\n</div>",
      "text/plain": "   total_bill   tip     sex smoker  day    time  size\n0       16.99  1.01  Female     No  Sun  Dinner     2\n1       10.34  1.66    Male     No  Sun  Dinner     3\n2       21.01  3.50    Male     No  Sun  Dinner     3"
     },
     "execution_count": 2,
     "metadata": {},
     "output_type": "execute_result"
    }
   ],
   "source": [
    "# tips is a inbuilt sns dataset - details of restaurant meals - price, tips, size of the party etc\r\n",
    "tips = sns.load_dataset(\"tips\")\r\n",
    "tips.head(3)"
   ]
  },
  {
   "cell_type": "code",
   "execution_count": null,
   "metadata": {},
   "outputs": [],
   "source": [
    "# The colours dict maps values of the smoker column to colours on the chart\r\n",
    "colours = {\"Yes\": \"black\",  \"No\" :\"red\" }"
   ]
  },
  {
   "cell_type": "code",
   "execution_count": null,
   "metadata": {},
   "outputs": [],
   "source": [
    "# Create a scatterplot.  smokers in black dots, non-smokers in red \r\n",
    "sns.scatterplot(\r\n",
    "    x = \"total_bill\", \r\n",
    "    y = \"tip\", \r\n",
    "    hue ='smoker', \r\n",
    "    hue_order = ['No', 'Yes'],\r\n",
    "    palette=colours,\r\n",
    "    data = tips)"
   ]
  },
  {
   "cell_type": "code",
   "execution_count": null,
   "metadata": {},
   "outputs": [],
   "source": [
    "# Create clustered column chart with smoker on axis and sex on legend\r\n",
    "sns.countplot(x=\"smoker\", hue=\"sex\", data = tips)"
   ]
  },
  {
   "cell_type": "code",
   "execution_count": null,
   "metadata": {},
   "outputs": [],
   "source": [
    "# A rel(ational) plot can serve as a scatter chart (hue = <column>), or as a small multiples charts (row, col = <column>)\r\n",
    "sns.relplot(\r\n",
    "    x = \"total_bill\", \r\n",
    "    y = \"tip\", \r\n",
    "    # hue ='smoker', \r\n",
    "    # hue_order = ['No', 'Yes'],\r\n",
    "    # palette=colours,\r\n",
    "    kind=\"scatter\",\r\n",
    "    data = tips,\r\n",
    "    row = \"smoker\",\r\n",
    "    col=\"sex\"\r\n",
    "    )\r\n",
    "plt.show()\r\n"
   ]
  },
  {
   "cell_type": "code",
   "execution_count": null,
   "metadata": {},
   "outputs": [],
   "source": [
    "# the col_wrap argument controls the number of charts per column\r\n",
    "sns.relplot(\r\n",
    "    x = \"total_bill\", \r\n",
    "    y = \"tip\", \r\n",
    "    kind=\"scatter\",\r\n",
    "    data = tips,\r\n",
    "    col=\"day\",\r\n",
    "    col_wrap=3,\r\n",
    "    col_order=['Sun', 'Thur', 'Fri', 'Sat']\r\n",
    "    )"
   ]
  },
  {
   "cell_type": "code",
   "execution_count": null,
   "metadata": {},
   "outputs": [],
   "source": [
    "# size of party encoded as both hue and size\r\n",
    "sns.relplot(\r\n",
    "    x = \"total_bill\", \r\n",
    "    y = \"tip\", \r\n",
    "    # hue ='smoker', \r\n",
    "    # hue_order = ['No', 'Yes'],\r\n",
    "    # palette=colours,\r\n",
    "    kind=\"scatter\",\r\n",
    "    data = tips,\r\n",
    "    size='size',\r\n",
    "    hue='size'\r\n",
    "    )\r\n",
    "plt.show()"
   ]
  },
  {
   "cell_type": "code",
   "execution_count": null,
   "metadata": {},
   "outputs": [],
   "source": [
    "# for a categorical variable, use style = <column> as well as hue\r\n",
    "# Note alpha used for transparency\r\n",
    "sns.relplot(\r\n",
    "    x = \"total_bill\", \r\n",
    "    y = \"tip\", \r\n",
    "    kind=\"scatter\",\r\n",
    "    data = tips,\r\n",
    "    style='smoker',\r\n",
    "    hue='smoker',\r\n",
    "    alpha = 0.4\r\n",
    "    )\r\n",
    "plt.show()"
   ]
  },
  {
   "cell_type": "code",
   "execution_count": 11,
   "metadata": {},
   "outputs": [
    {
     "data": {
      "image/png": "[encoded data removed]",
      "text/plain": "<Figure size 360x360 with 1 Axes>"
     },
     "metadata": {
      "needs_background": "light"
     },
     "output_type": "display_data"
    },
    {
     "data": {
      "image/png": "[encoded data removed]",
      "text/plain": "<Figure size 360x360 with 1 Axes>"
     },
     "metadata": {
      "needs_background": "light"
     },
     "output_type": "display_data"
    }
   ],
   "source": [
    "# Box plots are a type of categorical plot\r\n",
    "sns.catplot(data=tips, x='time', y='total_bill', kind='box')\r\n",
    "plt.show()\r\n",
    "# Change a few defaults\r\n",
    "sns.catplot(data=tips, x='time', y='total_bill', kind='box', order = ('Dinner', 'Lunch'), sym=\"\", whis=[0,100])\r\n",
    "plt.show()\r\n"
   ]
  }
 ],
 "metadata": {
  "kernelspec": {
   "display_name": "Python 3.9.2  ('.venv': venv)",
   "name": "pythonjvsc74a57bd0047320649600f32f163458a3ea42b5e6faa8e94a8e8162718a3776c6fffc4da4"
  },
  "language_info": {
   "codemirror_mode": {
    "name": "ipython",
    "version": 3
   },
   "file_extension": ".py",
   "mimetype": "text/x-python",
   "name": "python",
   "nbconvert_exporter": "python",
   "pygments_lexer": "ipython3",
   "version": "3.9.2"
  },
  "metadata": {
   "interpreter": {
    "hash": "047320649600f32f163458a3ea42b5e6faa8e94a8e8162718a3776c6fffc4da4"
   }
  },
  "orig_nbformat": 2
 },
 "nbformat": 4,
 "nbformat_minor": 2
}