{
 "cells": [
  {
   "cell_type": "markdown",
   "metadata": {},
   "source": [
    "# Scraping data from web pages\n",
    "\n",
    "This example scrapes data from a HTML table firstly into a pndas dataframe and then exports to a CSV file.  \n",
    "It uses \n",
    "* [beautifulsoup](https://www.crummy.com/software/BeautifulSoup/bs4/doc/), a popular web scraping library; \n",
    "* pandas, the de-facto library for data analysis; \n",
    "* and requests, the most popular Python library."
   ]
  },
  {
   "cell_type": "code",
   "execution_count": 1,
   "metadata": {},
   "outputs": [],
   "source": [
    "from bs4 import BeautifulSoup\n",
    "import requests\n",
    "import pandas as pd"
   ]
  },
  {
   "cell_type": "markdown",
   "metadata": {},
   "source": [
    "This wikipedia page provides the results for the 20th series of Strictly, a Saturday evening light entertainment dance competition on the BBC. This series started in September 2022.\n",
    "The next code cell gets all the details of the page, including the HTML content, into a variable.\n",
    "Before running the next cell, [view this page](https://en.wikipedia.org/wiki/Strictly_Come_Dancing_(series_20)#Week_9:_Blackpool_Week) in a browser."
   ]
  },
  {
   "cell_type": "code",
   "execution_count": 2,
   "metadata": {},
   "outputs": [
    {
     "data": {
      "text/plain": [
       "(200,\n",
       " b'<!DOCTYPE html>\\n<html class=\"client-nojs vector-feature-language-in-header-enabled vector-feature-language-in-main-page-header-disabled vector-feature-sticky-header-disabled vector-feature-page-tools-pinned-disabled vector-feature-toc-pinned-enabled vector-feature-main-menu-pinned-disabled vector-feature-limited-width-enabled vector-feature-limited-width-content-enabled vector-feature-zebra-design-disabled\" lang=\"en\" dir=\"ltr\">\\n<head>\\n<meta charset=\"UTF-8\">\\n<title>Strictly Come Dancing (series 20) - Wikipedia</title>\\n<script>document.documentElement.className=\"client-js vector-feature-language-in-header-enabled vector-feature-language-in-main-page-header-disabled vector-feature-sticky-header-disabled vector-feature-page-tools-pinned-disabled vector-feature-toc-pinned-enabled vector-feature-main-menu-pinned-disabled vector-feature-limited-width-enabled vector-feature-limited-width-content-enabled vector-feature-zebra-design-disabled\";(function(){var cookie=document.cookie.match(/(?:^|; ')"
      ]
     },
     "execution_count": 2,
     "metadata": {},
     "output_type": "execute_result"
    }
   ],
   "source": [
    "#strictly_url = 'https://en.wikipedia.org/wiki/Strictly_Come_Dancing_(series_20)#Week_9:_Blackpool_Week'\n",
    "strictly_url = 'https://en.wikipedia.org/wiki/Strictly_Come_Dancing_(series_20)'\n",
    "response = requests.get(strictly_url)\n",
    "response.status_code, response.content[:1000]"
   ]
  },
  {
   "cell_type": "markdown",
   "metadata": {},
   "source": [
    "The next code cell uses beautifulsoup to parse the content, and then shows the first 1000 character in a formatted style."
   ]
  },
  {
   "cell_type": "code",
   "execution_count": 5,
   "metadata": {},
   "outputs": [
    {
     "name": "stdout",
     "output_type": "stream",
     "text": [
      "<!DOCTYPE html>\n",
      "<html class=\"client-nojs vector-feature-language-in-header-enabled vector-feature-language-in-main-page-header-disabled vector-feature-sticky-header-disabled vector-feature-page-tools-pinned-disabled vector-feature-toc-pinned-enabled vector-feature-main-menu-pinned-disabled vector-feature-limited-width-enabled vector-feature-limited-width-content-enabled vector-feature-zebra-design-disabled\" dir=\"ltr\" lang=\"en\">\n",
      " <head>\n",
      "  <meta charset=\"utf-8\"/>\n",
      "  <title>\n",
      "   Strictly Come Dancing (series 20) - Wikipedia\n",
      "  </title>\n",
      "  <script>\n",
      "   document.documentElement.className=\"client-js vector-feature-language-in-header-enabled vector-feature-language-in-main-page-header-disabled vector-feature-sticky-header-disabled vector-feature-page-tools-pinned-disabled vector-feature-toc-pinned-enabled vector-feature-main-menu-pinned-disabled vector-feature-limited-width-enabled vector-feature-limited-width-content-enabled vector-feature-zebra-design-disabled\";(function(){var cookie=document.co\n"
     ]
    }
   ],
   "source": [
    "soup = BeautifulSoup(response.content, 'html.parser')\n",
    "print(soup.prettify()[:1000])\n"
   ]
  },
  {
   "cell_type": "markdown",
   "metadata": {},
   "source": [
    "The HTML page contains a table which is the first HTML table within a span section with the id Week_6:_Halloween_Week.  This table contains the data of interest, the score that couples obtained from the judges for a dance. The next code cell finds and gets the HTML content that reprsents this table. "
   ]
  },
  {
   "cell_type": "code",
   "execution_count": 6,
   "metadata": {},
   "outputs": [
    {
     "data": {
      "text/plain": [
       "'<table class=\"wikitable\" style=\"width:90%;\">\\n <tbody>\\n  <tr>\\n   <th>\\n    Couple\\n   </th>\\n   <th>\\n    Score\\n    <sup class=\"reference\" id=\"cite_ref-44\">\\n     <a href=\"#cite_note-44\">\\n      [44]\\n     </a>\\n    </sup>\\n   </th>\\n   <th>\\n    Dance\\n    <sup class=\"reference\" id=\"cite_ref-week6-songs_45-0\">\\n     <a href=\"#cite_note-week6-songs-45\">\\n      [45]\\n     </a>\\n    </sup>\\n   </th>\\n   <th>\\n    Music\\n    <sup class=\"reference\" id=\"cite_ref-week6-songs_45-1\">\\n     <a href=\"#cite_note-week6-songs-45\">\\n      [45]\\n     </a>\\n    </sup>\\n   </th>\\n   <th>\\n    Result\\n    <sup class=\"reference\" id=\"cite_ref-46\">\\n     <a href=\"#cite_note-46\">\\n      [46]\\n     </a>\\n    </sup>\\n   </th>\\n  </tr>\\n  <tr>\\n   <td>\\n    Tony &amp; Katya\\n   </td>\\n   <td>\\n    31 (7,8,8,8)\\n   </td>\\n   <td>\\n    Quickstep\\n   </td>\\n   <td>\\n    \"\\n    <a href=\"/wiki/The_Devil_Went_Down_to_Georgia\" title=\"The Devil Went Down to Georgia\">\\n     The Devil Went Down to Georgia\\n    </a>\\n    \"—\\n    <a href=\"/wiki/Charlie_Daniels\" title=\"Char'"
      ]
     },
     "execution_count": 6,
     "metadata": {},
     "output_type": "execute_result"
    }
   ],
   "source": [
    "span_halloween = soup.find('span', {'id': 'Week_6:_Halloween_Week'})\n",
    "my_table = span_halloween.find_next('table')\n",
    "my_table.prettify()[:1000]"
   ]
  },
  {
   "cell_type": "markdown",
   "metadata": {},
   "source": [
    "The next code cell uses the pandas read_html function to read data from the HTML table text into a dataframe."
   ]
  },
  {
   "cell_type": "code",
   "execution_count": 7,
   "metadata": {},
   "outputs": [
    {
     "data": {
      "text/html": [
       "<div>\n",
       "<style scoped>\n",
       "    .dataframe tbody tr th:only-of-type {\n",
       "        vertical-align: middle;\n",
       "    }\n",
       "\n",
       "    .dataframe tbody tr th {\n",
       "        vertical-align: top;\n",
       "    }\n",
       "\n",
       "    .dataframe thead th {\n",
       "        text-align: right;\n",
       "    }\n",
       "</style>\n",
       "<table border=\"1\" class=\"dataframe\">\n",
       "  <thead>\n",
       "    <tr style=\"text-align: right;\">\n",
       "      <th></th>\n",
       "      <th>Couple</th>\n",
       "      <th>Score[44]</th>\n",
       "      <th>Dance[45]</th>\n",
       "      <th>Music[45]</th>\n",
       "      <th>Result[46]</th>\n",
       "    </tr>\n",
       "  </thead>\n",
       "  <tbody>\n",
       "    <tr>\n",
       "      <th>0</th>\n",
       "      <td>Tony &amp; Katya</td>\n",
       "      <td>31 (7,8,8,8)</td>\n",
       "      <td>Quickstep</td>\n",
       "      <td>\"The Devil Went Down to Georgia\"—Charlie Danie...</td>\n",
       "      <td>Safe</td>\n",
       "    </tr>\n",
       "    <tr>\n",
       "      <th>1</th>\n",
       "      <td>Will &amp; Nancy</td>\n",
       "      <td>32 (8,8,8,8)</td>\n",
       "      <td>Cha-Cha-Cha</td>\n",
       "      <td>\"Mama Told Me Not to Come\"—Tom Jones &amp; Stereop...</td>\n",
       "      <td>Safe</td>\n",
       "    </tr>\n",
       "    <tr>\n",
       "      <th>2</th>\n",
       "      <td>Kym &amp; Graziano</td>\n",
       "      <td>34 (8,8,9,9)</td>\n",
       "      <td>Rumba</td>\n",
       "      <td>\"Frozen\"—Madonna</td>\n",
       "      <td>Safe</td>\n",
       "    </tr>\n",
       "    <tr>\n",
       "      <th>3</th>\n",
       "      <td>James &amp; Amy</td>\n",
       "      <td>27 (6,7,7,7)</td>\n",
       "      <td>Charleston</td>\n",
       "      <td>\"Bumble Bee\"—LaVern Baker</td>\n",
       "      <td>Eliminated</td>\n",
       "    </tr>\n",
       "    <tr>\n",
       "      <th>4</th>\n",
       "      <td>Molly &amp; Carlos</td>\n",
       "      <td>33 (6,9,9,9)</td>\n",
       "      <td>Argentine Tango</td>\n",
       "      <td>\"Running Up That Hill\"—Kate Bush</td>\n",
       "      <td>Safe</td>\n",
       "    </tr>\n",
       "  </tbody>\n",
       "</table>\n",
       "</div>"
      ],
      "text/plain": [
       "           Couple     Score[44]        Dance[45]   \n",
       "0    Tony & Katya  31 (7,8,8,8)        Quickstep  \\\n",
       "1    Will & Nancy  32 (8,8,8,8)      Cha-Cha-Cha   \n",
       "2  Kym & Graziano  34 (8,8,9,9)            Rumba   \n",
       "3     James & Amy  27 (6,7,7,7)       Charleston   \n",
       "4  Molly & Carlos  33 (6,9,9,9)  Argentine Tango   \n",
       "\n",
       "                                           Music[45]  Result[46]  \n",
       "0  \"The Devil Went Down to Georgia\"—Charlie Danie...        Safe  \n",
       "1  \"Mama Told Me Not to Come\"—Tom Jones & Stereop...        Safe  \n",
       "2                                   \"Frozen\"—Madonna        Safe  \n",
       "3                          \"Bumble Bee\"—LaVern Baker  Eliminated  \n",
       "4                   \"Running Up That Hill\"—Kate Bush        Safe  "
      ]
     },
     "execution_count": 7,
     "metadata": {},
     "output_type": "execute_result"
    }
   ],
   "source": [
    "df = pd.read_html(str(my_table))[0]\n",
    "df.head()"
   ]
  },
  {
   "cell_type": "markdown",
   "metadata": {},
   "source": [
    "The current column names are a bit ugly. The next code cell renames the columns of the pandas dataframe"
   ]
  },
  {
   "cell_type": "code",
   "execution_count": 8,
   "metadata": {},
   "outputs": [
    {
     "data": {
      "text/html": [
       "<div>\n",
       "<style scoped>\n",
       "    .dataframe tbody tr th:only-of-type {\n",
       "        vertical-align: middle;\n",
       "    }\n",
       "\n",
       "    .dataframe tbody tr th {\n",
       "        vertical-align: top;\n",
       "    }\n",
       "\n",
       "    .dataframe thead th {\n",
       "        text-align: right;\n",
       "    }\n",
       "</style>\n",
       "<table border=\"1\" class=\"dataframe\">\n",
       "  <thead>\n",
       "    <tr style=\"text-align: right;\">\n",
       "      <th></th>\n",
       "      <th>couple</th>\n",
       "      <th>score</th>\n",
       "      <th>dance</th>\n",
       "      <th>music</th>\n",
       "      <th>result</th>\n",
       "    </tr>\n",
       "  </thead>\n",
       "  <tbody>\n",
       "    <tr>\n",
       "      <th>0</th>\n",
       "      <td>Tony &amp; Katya</td>\n",
       "      <td>31 (7,8,8,8)</td>\n",
       "      <td>Quickstep</td>\n",
       "      <td>\"The Devil Went Down to Georgia\"—Charlie Danie...</td>\n",
       "      <td>Safe</td>\n",
       "    </tr>\n",
       "    <tr>\n",
       "      <th>1</th>\n",
       "      <td>Will &amp; Nancy</td>\n",
       "      <td>32 (8,8,8,8)</td>\n",
       "      <td>Cha-Cha-Cha</td>\n",
       "      <td>\"Mama Told Me Not to Come\"—Tom Jones &amp; Stereop...</td>\n",
       "      <td>Safe</td>\n",
       "    </tr>\n",
       "    <tr>\n",
       "      <th>2</th>\n",
       "      <td>Kym &amp; Graziano</td>\n",
       "      <td>34 (8,8,9,9)</td>\n",
       "      <td>Rumba</td>\n",
       "      <td>\"Frozen\"—Madonna</td>\n",
       "      <td>Safe</td>\n",
       "    </tr>\n",
       "    <tr>\n",
       "      <th>3</th>\n",
       "      <td>James &amp; Amy</td>\n",
       "      <td>27 (6,7,7,7)</td>\n",
       "      <td>Charleston</td>\n",
       "      <td>\"Bumble Bee\"—LaVern Baker</td>\n",
       "      <td>Eliminated</td>\n",
       "    </tr>\n",
       "    <tr>\n",
       "      <th>4</th>\n",
       "      <td>Molly &amp; Carlos</td>\n",
       "      <td>33 (6,9,9,9)</td>\n",
       "      <td>Argentine Tango</td>\n",
       "      <td>\"Running Up That Hill\"—Kate Bush</td>\n",
       "      <td>Safe</td>\n",
       "    </tr>\n",
       "  </tbody>\n",
       "</table>\n",
       "</div>"
      ],
      "text/plain": [
       "           couple         score            dance   \n",
       "0    Tony & Katya  31 (7,8,8,8)        Quickstep  \\\n",
       "1    Will & Nancy  32 (8,8,8,8)      Cha-Cha-Cha   \n",
       "2  Kym & Graziano  34 (8,8,9,9)            Rumba   \n",
       "3     James & Amy  27 (6,7,7,7)       Charleston   \n",
       "4  Molly & Carlos  33 (6,9,9,9)  Argentine Tango   \n",
       "\n",
       "                                               music      result  \n",
       "0  \"The Devil Went Down to Georgia\"—Charlie Danie...        Safe  \n",
       "1  \"Mama Told Me Not to Come\"—Tom Jones & Stereop...        Safe  \n",
       "2                                   \"Frozen\"—Madonna        Safe  \n",
       "3                          \"Bumble Bee\"—LaVern Baker  Eliminated  \n",
       "4                   \"Running Up That Hill\"—Kate Bush        Safe  "
      ]
     },
     "execution_count": 8,
     "metadata": {},
     "output_type": "execute_result"
    }
   ],
   "source": [
    "df.columns = ['couple', 'score','dance','music','result']\n",
    "df.head()\n"
   ]
  },
  {
   "cell_type": "markdown",
   "metadata": {},
   "source": [
    "The next code cell saves the dataframe to a CSV file for later use, perhaps within Power BI"
   ]
  },
  {
   "cell_type": "code",
   "execution_count": null,
   "metadata": {},
   "outputs": [],
   "source": [
    "df.to_csv('strictly.csv', index=False)"
   ]
  }
 ],
 "metadata": {
  "kernelspec": {
   "display_name": "Python 3",
   "language": "python",
   "name": "python3"
  },
  "language_info": {
   "codemirror_mode": {
    "name": "ipython",
    "version": 3
   },
   "file_extension": ".py",
   "mimetype": "text/x-python",
   "name": "python",
   "nbconvert_exporter": "python",
   "pygments_lexer": "ipython3",
   "version": "3.11.2"
  },
  "orig_nbformat": 4
 },
 "nbformat": 4,
 "nbformat_minor": 2
}
