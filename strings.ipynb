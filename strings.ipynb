{
 "metadata": {
  "language_info": {
   "codemirror_mode": {
    "name": "ipython",
    "version": 3
   },
   "file_extension": ".py",
   "mimetype": "text/x-python",
   "name": "python",
   "nbconvert_exporter": "python",
   "pygments_lexer": "ipython3",
   "version": "3.9.2"
  },
  "orig_nbformat": 2,
  "kernelspec": {
   "name": "python392jvsc74a57bd08abb1f199d14c7f4bde2f9b20a5186bf36d429b95679315f95e5b318beb2c041",
   "display_name": "Python 3.9.2 64-bit ('.course-env')"
  }
 },
 "nbformat": 4,
 "nbformat_minor": 2,
 "cells": [
  {
   "source": [
    "# Strings \n",
    "A string is an ordered collection of characters."
   ],
   "cell_type": "markdown",
   "metadata": {}
  },
  {
   "cell_type": "code",
   "execution_count": null,
   "metadata": {},
   "outputs": [],
   "source": [
    "title = 'Python Course'\n",
    "len(title)"
   ]
  },
  {
   "source": [
    "Indexing - get a single element using the position.  Python counts from 0!\n"
   ],
   "cell_type": "markdown",
   "metadata": {}
  },
  {
   "cell_type": "code",
   "execution_count": null,
   "metadata": {},
   "outputs": [],
   "source": [
    "len(title)\n",
    "title[0]\n",
    "title[10]\n",
    "#title[19]\n"
   ]
  },
  {
   "source": [
    "Slicing - get a sublist using the start and end positions.\n",
    "\n",
    "Note: Slicing returns the sublist from the element at the start position up to but *not*including the element at the end position\n"
   ],
   "cell_type": "markdown",
   "metadata": {}
  },
  {
   "cell_type": "code",
   "execution_count": null,
   "metadata": {},
   "outputs": [],
   "source": [
    "# we don't have to start the slice at the beginning of the string\n",
    "title[10:15] # returns the 11th to the 15th element (5 charcters in total)\n"
   ]
  },
  {
   "cell_type": "code",
   "execution_count": null,
   "metadata": {},
   "outputs": [],
   "source": [
    "# we can slice with negative integers\n",
    "title[-5:-1] # returns the last 5 characters apart from the final one"
   ]
  },
  {
   "cell_type": "code",
   "execution_count": null,
   "metadata": {},
   "outputs": [],
   "source": [
    "# omit the end position to go to the end of the string\n",
    "title[-5:] # returns the last 5 characters\n",
    "title[8:] # returns all characters from the 9th to the end of the string "
   ]
  },
  {
   "cell_type": "code",
   "execution_count": null,
   "metadata": {},
   "outputs": [],
   "source": [
    "# omit the start position \n",
    "print('title[:9]', title[:9]) # will return the first 9 characters"
   ]
  },
  {
   "cell_type": "code",
   "execution_count": null,
   "metadata": {},
   "outputs": [],
   "source": []
  }
 ]
}