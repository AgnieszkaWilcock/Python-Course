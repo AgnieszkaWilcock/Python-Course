{
  "nbformat": 4,
  "nbformat_minor": 0,
  "metadata": {
    "colab": {
      "name": "Python Course.ipynb",
      "provenance": [],
      "toc_visible": true,
      "authorship_tag": "ABX9TyPgbJeVubMyaZMPHi3gU4bN",
      "include_colab_link": true
    },
    "kernelspec": {
      "name": "python385jvsc74a57bd014b9ea1b290b536b929b693e3c99b6dac9b3b97122fb1f8855f0dc88d8b0dbc6",
      "display_name": "Python 3.8.5 64-bit ('base': conda)"
    }
  },
  "cells": [
    {
      "cell_type": "markdown",
      "metadata": {
        "id": "964AlTiJkiJ9"
      },
      "source": [
        "# Welcome to the Python Course\n",
        "\n",
        "Welcome to the Python Course.  This is an introduction to Python, with a focus on data analysis.  We start with the obligatory \"Hello World in Python\", look at a short snippet of code to import and view a dataset to whet our appetite then we go through the basics; data structures, functions, methods and the numpy and pandas packages.\n",
        "\n",
        "Enjoy!"
      ]
    },
    {
      "cell_type": "markdown",
      "metadata": {
        "id": "0y2hvzPPl3be"
      },
      "source": [
        "# Whetting your appetite\n",
        "A short example to show how useful Python is in data analysis - before we start on the basics.  We will import a CSV file from github into a dataset and plot a  time-series chart."
      ]
    },
    {
      "cell_type": "code",
      "metadata": {
        "id": "O29pvhD7HKKE"
      },
      "source": [
        "print(\"Hello Python\")"
      ],
      "execution_count": null,
      "outputs": []
    },
    {
      "cell_type": "code",
      "metadata": {
        "id": "_X9Pv85OjLTP"
      },
      "source": [
        "# Import the modules\n",
        "import pandas as pd\n",
        "import matplotlib.pyplot as plt\n",
        "# Load our data from  CSV file on github\n",
        "df = pd.read_csv(\"https://raw.githubusercontent.com/MarkWilcock/Python-Course/main/tfl-daily-cycle-hires-nov-2020-cleaned.csv\")\n",
        "df"
      ],
      "execution_count": null,
      "outputs": []
    },
    {
      "cell_type": "code",
      "metadata": {
        "id": "xSad8XoIH4p3"
      },
      "source": [
        "df.info()\n",
        "#df.info"
      ],
      "execution_count": null,
      "outputs": []
    },
    {
      "cell_type": "code",
      "metadata": {
        "id": "LWx_5d7hb8G-"
      },
      "source": [
        "# Plot the dataset as a line chart.\n",
        "plt.plot(df['Number of Bike Hires'])\n",
        "plt.show()"
      ],
      "execution_count": null,
      "outputs": []
    },
    {
      "cell_type": "code",
      "metadata": {
        "id": "CMHC7FCcIjv6"
      },
      "source": [
        "df['ProperDate'] = pd.to_datetime(df['Date'])\n",
        "df\n",
        "df.info()"
      ],
      "execution_count": null,
      "outputs": []
    },
    {
      "cell_type": "code",
      "metadata": {
        "id": "cqJGEQMxcArO"
      },
      "source": [
        "plt.plot(df['ProperDate'], df['Number of Bike Hires'])\n",
        "plt.show()"
      ],
      "execution_count": null,
      "outputs": []
    },
    {
      "cell_type": "markdown",
      "metadata": {
        "id": "ORbjFZm3Jqdw"
      },
      "source": [
        "# Getting started\n",
        "## The basics - Python data types, assignments, operators and the print() function"
      ]
    },
    {
      "cell_type": "code",
      "metadata": {
        "id": "0igXNUoCBmBQ"
      },
      "source": [
        "print(\"Let's get started\")"
      ],
      "execution_count": null,
      "outputs": []
    },
    {
      "cell_type": "markdown",
      "metadata": {
        "id": "WlcPv8L3FIHs"
      },
      "source": [
        "Python variables can be one of a few data types.  These are int, float and str.  We don't need to specify a data type when assigning a variable. Python does that for us"
      ]
    },
    {
      "cell_type": "code",
      "metadata": {
        "id": "QWHAniOHE5dW"
      },
      "source": [
        "# an int (integer) datatype is a whole number\n",
        "answer = 33\n",
        "type(answer)"
      ],
      "execution_count": null,
      "outputs": []
    },
    {
      "cell_type": "code",
      "metadata": {
        "id": "fqkRUSr1FRM7"
      },
      "source": [
        "# a float is a real number with a fractional part\n",
        "e = 2.718\n",
        "type(e)"
      ],
      "execution_count": null,
      "outputs": []
    },
    {
      "cell_type": "code",
      "metadata": {
        "id": "pNE2tC5uGCDc"
      },
      "source": [
        "# define a string in either single or double quotes\n",
        "todays_date = '2020-01-05'\n",
        "type(todays_date)"
      ],
      "execution_count": null,
      "outputs": []
    },
    {
      "cell_type": "code",
      "metadata": {
        "id": "BtCoLYesGb31"
      },
      "source": [
        "today_is_monday = True\n",
        "type(today_is_monday)"
      ],
      "execution_count": null,
      "outputs": []
    },
    {
      "cell_type": "code",
      "metadata": {
        "id": "x8JSPWQtGfWz"
      },
      "source": [
        "#  The behaviour of operatiors depends on the datatypes\n",
        "print(2 + 3) # adding numbers, what you expect\n",
        "print('2' + '3') # adding strings concatenates them\n",
        "print('hello ' * 3) # multiplying strings repeats them"
      ],
      "execution_count": null,
      "outputs": []
    },
    {
      "cell_type": "markdown",
      "metadata": {
        "id": "2JY3qPz1HXZM"
      },
      "source": [
        "# Data Structures"
      ]
    },
    {
      "cell_type": "markdown",
      "metadata": {
        "id": "9DLILqa4Hofs"
      },
      "source": [
        "This lesson covers data structures : \n",
        "*   strings\n",
        "*   lists\n",
        "*   dicts\n",
        "*   tuples"
      ]
    },
    {
      "cell_type": "markdown",
      "metadata": {
        "id": "U6TiBhtbIXbD"
      },
      "source": [
        "## Strings\n",
        "A string is an ordered collection of characters."
      ]
    },
    {
      "cell_type": "code",
      "metadata": {
        "id": "f8cRjTMQJJn8"
      },
      "source": [
        "title = 'Premier League Table'\n",
        "len(title)"
      ],
      "execution_count": null,
      "outputs": []
    },
    {
      "cell_type": "markdown",
      "metadata": {
        "id": "f6lxjpn8I6pT"
      },
      "source": [
        "### Indexing and Slicing\n",
        "We can get a single element by using the position of that element. \n",
        "Python counts from 0 !"
      ]
    },
    {
      "cell_type": "code",
      "metadata": {
        "id": "HJHLE0XAHuPr"
      },
      "source": [
        "title = 'Premier League Table'\n",
        "len(title)\n",
        "title[0]\n",
        "title[10]\n",
        "#title[19]\n",
        "# title[100] #Oops!\n"
      ],
      "execution_count": null,
      "outputs": []
    },
    {
      "cell_type": "markdown",
      "metadata": {
        "id": "VjSO5Iz0JeQU"
      },
      "source": [
        "We can get a range of elements by slicing\n"
      ]
    },
    {
      "cell_type": "code",
      "metadata": {
        "id": "E07CNLv5IFqF"
      },
      "source": [
        "print('title[0:5]', title[0:5])\n",
        "\n",
        "# we don't have to start the slice at the beginning of the string\n",
        "print('title[10:15]', title[10:15])\n",
        "\n",
        "# we can slice with negative integers\n",
        "print('title[-5:-1]', title[-5:-1])\n",
        "# will return the last 5 characters apart from the final one\n",
        "\n",
        "# omit the 2nd index to go to the end of the string\n",
        "print('title[-5:]', title[-5:]) # wil return the last 5 characters\n",
        "print('title[8:]', title[8:]) # will return all characters from the 9th to the end of the string \n",
        "\n",
        "# omit the 1st index to start at the start of the string\n",
        "print('title[:9]', title[:9]) # will return the first 9 characters\n"
      ],
      "execution_count": null,
      "outputs": []
    },
    {
      "cell_type": "markdown",
      "metadata": {
        "id": "mNpryiWgKsaR"
      },
      "source": [
        "## Lists\n",
        "A list is an ordered collection of elements.  The elements can be of different data types.  Create a list with []."
      ]
    },
    {
      "cell_type": "code",
      "metadata": {
        "id": "_90D58nuK2cL"
      },
      "source": [
        "football_teams = ['Chelsea', 'Liverpoool', 'Arsenal']\n",
        "goalkeepers = ['Chelsea G', 'Liverpoool G', 'Arsenal G']\n",
        "points = [17, 19, 15]\n",
        "\n",
        "#  This list contains a string, int, bool and another list\n",
        "a_diverse_list = ['Chelsea', 15, True, points]\n",
        "a_diverse_list"
      ],
      "execution_count": null,
      "outputs": []
    },
    {
      "cell_type": "code",
      "metadata": {
        "id": "Xng7qjuQLCSD"
      },
      "source": [
        "# We can get an element of the list from its position\n",
        "# Python starts counting from 0\n",
        "football_teams[0]"
      ],
      "execution_count": null,
      "outputs": []
    },
    {
      "cell_type": "markdown",
      "metadata": {
        "id": "5lo5ilMWLVNU"
      },
      "source": [
        "*Aside (since we have not yet looked at loops)*\n",
        "We can iterate through the elements.  Notice the : and the indentation.\n",
        "This \"format as function\" sets Python apart from other languages."
      ]
    },
    {
      "cell_type": "code",
      "metadata": {
        "id": "CY7Ufzy7LH04"
      },
      "source": [
        "for p in points:\n",
        "  print(p**2)"
      ],
      "execution_count": null,
      "outputs": []
    },
    {
      "cell_type": "code",
      "metadata": {
        "id": "vOUBa7whLMtM"
      },
      "source": [
        "#  This elegant expression is a list comprehension \n",
        "#  Question: does it need to be p?\n",
        "[p + 10 for p in points]   "
      ],
      "execution_count": null,
      "outputs": []
    },
    {
      "cell_type": "markdown",
      "metadata": {
        "id": "FCTuZq6jLwvU"
      },
      "source": [
        "What happens if not all the elements are numbers?"
      ]
    },
    {
      "cell_type": "code",
      "metadata": {
        "id": "BOG285_TLmRT"
      },
      "source": [
        "strange_points = [17, 'eighteen', 19, 15, 'twenty', True]\n",
        "[p + 10 for p in strange_points if type(p) == int]   \n",
        "# [p + 10 for p in strange_points]   "
      ],
      "execution_count": null,
      "outputs": []
    },
    {
      "cell_type": "markdown",
      "metadata": {
        "id": "m2q1otAMMX90"
      },
      "source": [
        "We can find the number of elements in a list with len() function"
      ]
    },
    {
      "cell_type": "code",
      "metadata": {
        "id": "cQuKgwG7MQVz"
      },
      "source": [
        "len(football_teams)"
      ],
      "execution_count": null,
      "outputs": []
    },
    {
      "cell_type": "markdown",
      "metadata": {
        "id": "MaKwGAG6Mh-_"
      },
      "source": [
        "Lists are mutable - they can be \"edited\" We can change an item in the list or append to the list.\n",
        "\n",
        "For example, let's append an element to a list.\n",
        "*This is the first time that we have seen a method.*"
      ]
    },
    {
      "cell_type": "code",
      "metadata": {
        "id": "wHZvVwtzMwIb"
      },
      "source": [
        "football_teams.append('Fulham')\n",
        "football_teams.sort()\n",
        "football_teams"
      ],
      "execution_count": null,
      "outputs": []
    },
    {
      "cell_type": "markdown",
      "metadata": {
        "id": "UX4m1TwvNMvk"
      },
      "source": [
        "## Dictionaries\n",
        "A dict is an ordered collection of key  / value pairs.\n",
        "Create a dict with this syntax {key1: value1, key2: value2}"
      ]
    },
    {
      "cell_type": "code",
      "metadata": {
        "id": "i4Ugk5tPM_Vj"
      },
      "source": [
        "football_ages = {'Kane' : 24, 'Pickford' : 22, 'Dele' : 20}\n",
        "# We can get the value of a pair by providing the key\n",
        "print('Dele is ', football_ages['Dele'], 'years old')\n",
        "# We can loop through all the keys and values of a dict\n",
        "print('keys', football_ages.keys())\n",
        "print('values', football_ages.values())"
      ],
      "execution_count": null,
      "outputs": []
    },
    {
      "cell_type": "markdown",
      "metadata": {
        "id": "FzdPTEwFyRt1"
      },
      "source": [
        "The key can be any data type as can the value."
      ]
    },
    {
      "cell_type": "code",
      "metadata": {
        "id": "aUJe4W_QxjFM"
      },
      "source": [
        "dinner = {\n",
        "        'starter' : 'salad',\n",
        "        'main course' : ['meat' , \n",
        "                         'potatoes', {\n",
        "                                 'veg1': 'peas', \n",
        "                                 'veg2' : 'beans'}],\n",
        "        'is_desert_included': True,\n",
        "        20 : 'cost'\n",
        "        }\n",
        "dinner"
      ],
      "execution_count": null,
      "outputs": []
    },
    {
      "cell_type": "markdown",
      "metadata": {
        "id": "8k2kc4jbya4C"
      },
      "source": [
        "## Tuples\n",
        "A tuple is an **immutable** ordered set of elements.  \n",
        "\n"
      ]
    },
    {
      "cell_type": "code",
      "metadata": {
        "id": "jNFWWO7RyxbZ"
      },
      "source": [
        "# Create a tuple with parentheses (i.e.round brackets)\n",
        "my_tuple = ('alpha', 'beta', True, 42)\n",
        "\n",
        "#  We can assign variables to each element in a tuple as follows\n",
        "a, b, c, d = my_tuple\n",
        "b"
      ],
      "execution_count": null,
      "outputs": []
    },
    {
      "cell_type": "markdown",
      "metadata": {
        "id": "pcbOM8rnnjrS"
      },
      "source": [
        "# Functions"
      ]
    },
    {
      "cell_type": "markdown",
      "metadata": {
        "id": "O05ovz6tnuCi"
      },
      "source": [
        "Functions are resuable bulding blocks of useful functionality.  Many are written for us e.g. print(), len().  Some we have to write ourselves.\n",
        "```\n",
        "def <function name>():\n",
        "--->docstring\n",
        "--->indented implementation\n",
        "```\n",
        "Let's define our first function."
      ]
    },
    {
      "cell_type": "code",
      "metadata": {
        "id": "leHFGeU8obxX"
      },
      "source": [
        "def hello():\n",
        "  \"\"\"\n",
        "  Prints a greeting\n",
        "  \"\"\"\n",
        "  print('Hello there')"
      ],
      "execution_count": null,
      "outputs": []
    },
    {
      "cell_type": "markdown",
      "metadata": {
        "id": "lSnPTMCRo6uB"
      },
      "source": [
        "Let's invoke our function.  Note that we see the docstring after we type the (."
      ]
    },
    {
      "cell_type": "code",
      "metadata": {
        "id": "bHf7H8q6nm4Z"
      },
      "source": [
        "hello()"
      ],
      "execution_count": null,
      "outputs": []
    },
    {
      "cell_type": "markdown",
      "metadata": {
        "id": "YgVY63mapMVQ"
      },
      "source": [
        "*Exercise:* write a function named goodbye."
      ]
    },
    {
      "cell_type": "markdown",
      "metadata": {
        "id": "Ll2lVaDup2c6"
      },
      "source": [
        "Let's improve our function so it says the student's name  and makes smalltalk. The function now has an argument which tailors its behaviour\n"
      ]
    },
    {
      "cell_type": "code",
      "metadata": {
        "id": "Zg42McX5p6Fs"
      },
      "source": [
        "def hello2(student_name):\n",
        "  print('Hello', student_name)\n",
        "  print(\"How are you?\")\n",
        "\n",
        "hello2('Mark')\n",
        "hello2('Mike')"
      ],
      "execution_count": null,
      "outputs": []
    },
    {
      "cell_type": "markdown",
      "metadata": {
        "id": "JSTcNNqRqnXl"
      },
      "source": [
        "Most students like smalltalk but a few don't .  So let's add an argument make_smalltalk with a default value of yes.  This is the first time we have seen an if statement in Python.\n"
      ]
    },
    {
      "cell_type": "code",
      "metadata": {
        "id": "p1os3-JmqwEB"
      },
      "source": [
        "def hello3(student_name, make_smalltalk = True):\n",
        "  print('Hello', student_name)\n",
        "  if make_smalltalk:\n",
        "    print('How are you')"
      ],
      "execution_count": null,
      "outputs": []
    },
    {
      "cell_type": "code",
      "metadata": {
        "id": "5_5KjvibqKVp"
      },
      "source": [
        "hello3('Mark')\n",
        "hello3('Mary')"
      ],
      "execution_count": null,
      "outputs": []
    },
    {
      "cell_type": "markdown",
      "metadata": {
        "id": "vF-ll0WErt6K"
      },
      "source": [
        "Functions return a result of a calculation even if it is None\n"
      ]
    },
    {
      "cell_type": "code",
      "metadata": {
        "id": "RwBa4vSTrO2Z"
      },
      "source": [
        "result = hello3('Anne')\n",
        "print(result)\n"
      ],
      "execution_count": null,
      "outputs": []
    },
    {
      "cell_type": "markdown",
      "metadata": {
        "id": "IYB2p1YwsALg"
      },
      "source": [
        "Let's improve our function to return something."
      ]
    },
    {
      "cell_type": "code",
      "metadata": {
        "id": "lsHxV10orj8h"
      },
      "source": [
        "def hello4(student_name, make_smalltalk = True):\n",
        "  print('Hello', student_name)\n",
        "  if make_smalltalk:\n",
        "    print('How are you')\n",
        "  return 42  "
      ],
      "execution_count": null,
      "outputs": []
    },
    {
      "cell_type": "code",
      "metadata": {
        "id": "-mZLjZF6sPLp"
      },
      "source": [
        "result = hello4('Sara')\n",
        "print(result)"
      ],
      "execution_count": null,
      "outputs": []
    },
    {
      "cell_type": "code",
      "metadata": {
        "id": "5YEL25u8sYNg"
      },
      "source": [
        "def divide_by_7(some_number):\n",
        "  return some_number / 7\n",
        "\n",
        "divide_by_7(56)"
      ],
      "execution_count": null,
      "outputs": []
    },
    {
      "cell_type": "markdown",
      "metadata": {
        "id": "wu23DoS5tNUM"
      },
      "source": [
        "Let's calculate our body mass index. \n",
        "The formula is *bmi = weight / (height * height)*  where\n",
        "height is in metres, weight is in kg\n",
        "https://www.nhs.uk/Tools/Pages/Healthyweightcalculator.aspx\n"
      ]
    },
    {
      "cell_type": "code",
      "metadata": {
        "id": "T18EJuiCtkNU"
      },
      "source": [
        "def bmi(height, weight):\n",
        "  return weight / (height * height)"
      ],
      "execution_count": null,
      "outputs": []
    },
    {
      "cell_type": "code",
      "metadata": {
        "id": "c4LqIjM2t3bb"
      },
      "source": [
        "bmi(1.75, 76)"
      ],
      "execution_count": null,
      "outputs": []
    },
    {
      "cell_type": "markdown",
      "metadata": {
        "id": "AlX3wjRpuMBS"
      },
      "source": [
        "We want to calculate the BMI of three (unnamed) students. Here's the data in two lists.  Can we use our shiny new bmi() function  to calcuate results of a group of people?  What will happen here?\n",
        "\n"
      ]
    },
    {
      "cell_type": "code",
      "metadata": {
        "id": "s_8G44ENujsD"
      },
      "source": [
        "weights = [74, 75, 76]\n",
        "heights = [1.77, 1.76, 1.75]\n",
        "#bmi(weights, heights)  # this unfortnately does not work"
      ],
      "execution_count": null,
      "outputs": []
    },
    {
      "cell_type": "markdown",
      "metadata": {
        "id": "cnkRIQoAwYex"
      },
      "source": [
        "So let's write something ugly.  We'll write it more elegantly later with a list comprehension"
      ]
    },
    {
      "cell_type": "code",
      "metadata": {
        "id": "4L4Zd9dYuzuT"
      },
      "source": [
        "bmi_results = [] # an empty list to hold the results\n",
        "for i in range(3):\n",
        "  bmi_result = bmi(heights[i], weights[i])\n",
        "  print(i, weights[i], heights[i], bmi_result)\n",
        "  bmi_results.append(bmi_result)\n",
        "\n",
        "bmi_results\n"
      ],
      "execution_count": null,
      "outputs": []
    },
    {
      "cell_type": "markdown",
      "metadata": {
        "id": "55okEnHurnLP"
      },
      "source": [
        "# Methods\n",
        "Methods are functions owned by objects  of a particular data type or class. \n",
        "We will look at some methods of strings and lists - they have lots of useful methods.\n",
        "\n",
        "Invoke a method with the dot notation on a string\n",
        "Instead of capitalize(title), use title.capitalize()\n"
      ]
    },
    {
      "cell_type": "code",
      "metadata": {
        "id": "2qr7KVs1rmaA"
      },
      "source": [
        "title= 'monty python'\n",
        "len(title) # len() is a function\n",
        "# capitalize(title) #Oops\n",
        "title.capitalize()\n"
      ],
      "execution_count": null,
      "outputs": []
    },
    {
      "cell_type": "code",
      "metadata": {
        "id": "u39hbSAgsm4z"
      },
      "source": [
        "print(\"title.count('o')\", title.count('o'))\n",
        "print(\"title.count('on')\", title.count('on'))\n",
        "print(\"title.count('ont')\", title.count('ont'))\n",
        "print(\"title.replace('o', 'i')\", title.replace('o', 'i'))\n",
        "print(\"title.index('o')\", title.index('o'))"
      ],
      "execution_count": null,
      "outputs": []
    },
    {
      "cell_type": "markdown",
      "metadata": {
        "id": "OjvNYqSltqz8"
      },
      "source": [
        "List also have methods.  Some of these have the same name as string methods and\n",
        "have similar (but not the same) behaviour.\n"
      ]
    },
    {
      "cell_type": "code",
      "metadata": {
        "id": "pUzlkcaFtwoN"
      },
      "source": [
        "squares = [1,4,9,16]\n",
        "squares.index(9)"
      ],
      "execution_count": null,
      "outputs": []
    },
    {
      "cell_type": "markdown",
      "metadata": {
        "id": "5-9NHPB2mpXs"
      },
      "source": [
        "# Basics of the Numpy Package"
      ]
    },
    {
      "cell_type": "markdown",
      "metadata": {
        "id": "TJhKKDhR-Yxe"
      },
      "source": [
        "Just enough numpy that we need to do our data analysis in pandas\n",
        "\n",
        "numpy is a very important package in Python\n",
        "It provides the np.ndarray data type \n",
        "(I'll call it an array for short)\n",
        "Unlike lists, all the element in arrays must be the \n",
        "same data type (usually  ints or float)\n",
        "We can do element-wise operations on these arrays \n",
        "to make our code simpler & shorter\n",
        "Operatons on arrays work a lot faster \n",
        "than operations on lists"
      ]
    },
    {
      "cell_type": "code",
      "metadata": {
        "id": "NQQXhcMd-ksJ"
      },
      "source": [
        "# our first import statement\n",
        "import numpy as np"
      ],
      "execution_count": null,
      "outputs": []
    },
    {
      "cell_type": "code",
      "metadata": {
        "id": "CaamTQ6d-pqg"
      },
      "source": [
        "# Create an array from a list\n",
        "np_squares = np.array([1, 4, 9, 16, 25])\n",
        "type(np_squares) # a n-dimensional array\n",
        "np_squares"
      ],
      "execution_count": null,
      "outputs": []
    },
    {
      "cell_type": "code",
      "metadata": {
        "id": "WcEIQd67-4rS"
      },
      "source": [
        "# Let's add 10 to these squares\n",
        "# The 'old' way was to write a for loop\n",
        "# The new way with element-wise operations\n",
        "np_squares + 10"
      ],
      "execution_count": null,
      "outputs": []
    },
    {
      "cell_type": "markdown",
      "metadata": {
        "id": "8H6Yt88vhDb_"
      },
      "source": [
        "*Exercise:* Create a numpy array, team_played, to hold the number of games played - based on the arrays of those won, drawn and lost"
      ]
    },
    {
      "cell_type": "code",
      "metadata": {
        "id": "VWpEkBsi_BPc"
      },
      "source": [
        "#  These are the scores of three teams\n",
        "team_won = np.array([4,3,1])\n",
        "team_drawn = np.array([2,1,1])\n",
        "team_lost = np.array([1,3,4])\n",
        "\n",
        "\n"
      ],
      "execution_count": null,
      "outputs": []
    },
    {
      "cell_type": "markdown",
      "metadata": {
        "id": "uO0wLE-Ohti_"
      },
      "source": [
        "*Exercise:* Create a numpy array, team_score, to hold the teams scores  (3 for a win, 1 for a draw, 0 for a loss)"
      ]
    },
    {
      "cell_type": "code",
      "metadata": {
        "id": "pEICd5rr_R8I"
      },
      "source": [
        "# The Titanic dataset a row for each passengers \n",
        "# and has two integer columns sib_sp and parch\n",
        "# To find the size of the family group. family_size, \n",
        "# we add sib_sp to parch and add 1\n",
        "# Let's look at the  7 passengers\n",
        "titanic_sib_sp = [2, 0, 3, 1, 4, 0]\n",
        "titanic_parch = [1, 2, 1, 1, 2, 3]"
      ],
      "execution_count": null,
      "outputs": []
    },
    {
      "cell_type": "code",
      "metadata": {
        "id": "lWlgyctQ_XDd"
      },
      "source": [
        "# Exercise - calculate the family size \n",
        "# for each of these passengers\n",
        "titanic_family_size_np = 0 # Answer at the end"
      ],
      "execution_count": null,
      "outputs": []
    },
    {
      "cell_type": "code",
      "metadata": {
        "id": "dJB-91QH_eNW"
      },
      "source": [
        "# Optional exercise : given the BMI data in the previous session\n",
        "# Now do the calculation  with numpy\n",
        "\n",
        "weights = [74, 75, 76]\n",
        "heights = [1.77, 1.76, 1.75]"
      ],
      "execution_count": null,
      "outputs": []
    },
    {
      "cell_type": "code",
      "metadata": {
        "id": "o0Yhj2RU_lYy"
      },
      "source": [
        "# Answer\n",
        "\n",
        "np_weights = np.array(weights)\n",
        "np_heights = np.array([heights])\n",
        "\n",
        "np_weights / (np_heights * 2)\n"
      ],
      "execution_count": null,
      "outputs": []
    },
    {
      "cell_type": "code",
      "metadata": {
        "id": "5y3vEDKK_w2d"
      },
      "source": [
        "# EXERCISE ANSWERS\n",
        "\n",
        "team_score = 3 * team_won + team_drawn\n",
        "\n",
        "\n",
        "titanic_sib_sp_np = np.array(titanic_sib_sp)\n",
        "titanic_parch_np = np.array(titanic_parch)\n",
        "titanic_family_size_np = titanic_parch_np + titanic_sib_sp_np + 1\n"
      ],
      "execution_count": null,
      "outputs": []
    },
    {
      "cell_type": "code",
      "metadata": {
        "id": "tiLGqgRlAT6Y"
      },
      "source": [
        "# If you want to show off, write a function like this\n",
        "def calc_family_size(sib_sp_list, parch_list):\n",
        "    \"\"\"\n",
        "    sb_sp_list: a list of the count of siblings and spouses of each passenger\n",
        "    parch_list: a list of the count of parents and children of the passenger\n",
        "    Assumes lists of equal lengths and both contain only integers\n",
        "    \n",
        "    Returns: a numpy array of the count of the family size of each passenger\n",
        "    \"\"\"\n",
        "    sib_sp_array = np.array(sib_sp_list)\n",
        "    parch_array = np.array(parch_list)\n",
        "    return sib_sp_array + parch_array + 1\n",
        "\n",
        "titanic_family_size_np_calc = calc_family_size(titanic_sib_sp, titanic_parch)\n",
        "titanic_family_size_np_calc"
      ],
      "execution_count": null,
      "outputs": []
    },
    {
      "cell_type": "markdown",
      "metadata": {
        "id": "yBTLENgnmuqU"
      },
      "source": [
        "# Data analysis with pandas package"
      ]
    },
    {
      "cell_type": "markdown",
      "metadata": {
        "id": "QWCTBgBlBUFz"
      },
      "source": [
        "Creating a dataset, adding new columns, selecting columns, filtering rows & grouping\n",
        "using pandas\n",
        "\n",
        " A pandas Dataframe is a 2D object (table)\n",
        " A pandas Series is a 1D labelled object\n",
        " pandas rows have unique labels \n",
        " (a strange concept to SQL people)\n",
        "\n",
        " Creating a pandas dataframe\n",
        "\n",
        " We can build a pandas dataframe from a dict\n",
        " where the keys are the column names \n",
        " and the values are the columns"
      ]
    },
    {
      "cell_type": "code",
      "metadata": {
        "id": "be4ORbPkBaq3"
      },
      "source": [
        "import pandas as pd\n",
        "import numpy as np"
      ],
      "execution_count": null,
      "outputs": []
    },
    {
      "cell_type": "code",
      "metadata": {
        "id": "6_-CTvdPBfSF"
      },
      "source": [
        "fb_labels = ['MCY', 'LIV', 'TOT', 'CHE', 'ARL']\n",
        "\n",
        "fb_dict = {\n",
        "        'city' :\t['Manchester',\t'Liverpool', 'London', 'London', 'London'],\n",
        "        'team' :\t['Manchester City',\t'Liverpool', 'Tottenham Hotspur', 'Chelsea', 'Arsenal'],\n",
        "        'won' :\t[6, 6, 6, 5, 5],\n",
        "        'drawn' : [1, 1, 0, 2,0],\n",
        "        'lost' : [0, 0, 2, 0, 2],\n",
        "        'form' : ['DWWWW', 'WWWWD', 'LLWWW', 'WWWDD', 'WWWWW']\n",
        "        }\n"
      ],
      "execution_count": null,
      "outputs": []
    },
    {
      "cell_type": "markdown",
      "metadata": {
        "id": "_BDE_kY4BxiD"
      },
      "source": [
        "Exercise: add Arsenal, a north London team,\n",
        "to the data structure above\n",
        "They have won 5, drawn none, lost 2 \n",
        "and have won all their last 5 games\n"
      ]
    },
    {
      "cell_type": "code",
      "metadata": {
        "id": "xVYarxOeB0-_"
      },
      "source": [
        "fb_df = pd.DataFrame(fb_dict)\n",
        "fb_df.info()\n",
        "fb_df.index = fb_labels\n",
        "fb_df.info()\n",
        "fb_df"
      ],
      "execution_count": null,
      "outputs": []
    },
    {
      "cell_type": "code",
      "metadata": {
        "id": "07YYRHqjCcHd"
      },
      "source": [
        "# Calculate the number of games played.  \n",
        "#Add a new column 'played'\n",
        "fb_df['played'] = fb_df['won'] + fb_df['drawn']  + fb_df['lost']"
      ],
      "execution_count": null,
      "outputs": []
    },
    {
      "cell_type": "markdown",
      "metadata": {
        "id": "M5tTx4ETCq0b"
      },
      "source": [
        "Exercise: calculate the points for each team.   \n",
        "Add a new column 'points'\n",
        "Teams get 3 point for a win, 1 for a draw, none for a loss\n"
      ]
    },
    {
      "cell_type": "code",
      "metadata": {
        "id": "ziD6CvpkCv-Z"
      },
      "source": [
        "fb_df['points'] = fb_df['won'] * 3 + fb_df['drawn']\n",
        "fb_df.info()\n",
        "fb_df.info"
      ],
      "execution_count": null,
      "outputs": []
    },
    {
      "cell_type": "code",
      "metadata": {
        "id": "daOudUDTC2iC"
      },
      "source": [
        "# Add a new column team_code - \n",
        "# the first five characters of the team name\n",
        "fb_df['team_caps'] = fb_df['team'].apply(str.upper)\n",
        "\n",
        "# The next two statements have the same effect - \n",
        "# which do you prefer?\n",
        "fb_df['team_short'] = fb_df['team'].str[:5]\n",
        "\n",
        "# uses a list comprehension\n",
        "fb_df['team_short2'] = [x[0:5] for x in fb_df['team'] if len(x) > 5] "
      ],
      "execution_count": null,
      "outputs": []
    },
    {
      "cell_type": "markdown",
      "metadata": {
        "id": "ySjQjWaoDMhB"
      },
      "source": [
        "## Filtering Rows And Choosing Columns"
      ]
    },
    {
      "cell_type": "code",
      "metadata": {
        "id": "GYvpAYlWDP-b"
      },
      "source": [
        "# use loc to filter rows and select columns\n",
        "# get a single row either as a Series or as a Dataframe\n",
        "mcy_series = fb_df.loc['MCY']\n",
        "mcy_df = fb_df.loc[['MCY']]"
      ],
      "execution_count": null,
      "outputs": []
    },
    {
      "cell_type": "code",
      "metadata": {
        "id": "ytK6FigcDYHH"
      },
      "source": [
        "# get a single column either as a Series or as a Dataframe\n",
        "fb_team_series = fb_df.loc[:, 'team'] # Series\n",
        "fb_one_col_df =  fb_df.loc[:, ['team']] # 1 column dataframe\n",
        "fb_many_col_df =  fb_df.loc[:, ['team', 'points']] # many column dataframe\n"
      ],
      "execution_count": null,
      "outputs": []
    },
    {
      "cell_type": "code",
      "metadata": {
        "id": "Csl4j3mVDpHS"
      },
      "source": [
        "# Filter only teams that have never lost\n",
        "# and keep only the city, team and points columns\n",
        "never_lost_series = fb_df['lost'] == 0 # a Series of booleans\n",
        "never_lost_df = fb_df[never_lost_series] # the Series of booleans returns  filters the rows\n",
        "\n",
        "# We can do this in one step \n",
        "never_lost_df_wide = fb_df.loc[fb_df['lost'] == 0] \n",
        "# the Series of booleans returns  filters the rows\n",
        "\n",
        "never_lost_df_narrow = fb_df.loc[\n",
        "        fb_df['lost'] == 0, \n",
        "        ['team', 'points']\n",
        "        ] # the Series of booleans returns  filters the rows\n"
      ],
      "execution_count": null,
      "outputs": []
    },
    {
      "cell_type": "code",
      "metadata": {
        "id": "9zYBWY4wD208"
      },
      "source": [],
      "execution_count": null,
      "outputs": []
    },
    {
      "cell_type": "markdown",
      "metadata": {
        "id": "XSkLAjIMD55b"
      },
      "source": [
        " Exercise: Can we find those teams that have never lost\n",
        " at least in the last 5 games\n",
        " using only the information in the form column?\n",
        " Hint \n",
        " use np.where to add a new column never_lost \n",
        " with possible values yes and no\n",
        " and search for Python string contains\n",
        " filter on this never_lost column\n"
      ]
    },
    {
      "cell_type": "markdown",
      "metadata": {
        "id": "RNtwBMWBErpw"
      },
      "source": [
        "## Group By"
      ]
    },
    {
      "cell_type": "code",
      "metadata": {
        "id": "A6Z1N9qKEjey"
      },
      "source": [
        "# Let group by City to get the total scores per vcity \n",
        "\n",
        "#columns_to_keep = ['city', 'played']\n",
        "#fb_df_slim = fb_df.loc[:, columns_to_keep]\n",
        "\n",
        "by_city_df = fb_df.groupby(['city'], as_index = False)\n",
        "r = by_city_df.sum()\n"
      ],
      "execution_count": null,
      "outputs": []
    },
    {
      "cell_type": "markdown",
      "metadata": {
        "id": "rwfMWo-SEP-Q"
      },
      "source": [
        "ANSWERS"
      ]
    },
    {
      "cell_type": "code",
      "metadata": {
        "id": "VFz6f0GZD8LX"
      },
      "source": [
        "fb_df['points'] = fb_df['won'] * 3 + fb_df['drawn']\n",
        "\n",
        "# How do we find one string  inside another string?\n",
        "'he' in 'hello'\n",
        "'the' in 'hello'\n",
        "'L' in 'LLWWW'\n",
        "'L' in 'WWWDD'\n",
        " # But this is a dead end!\n",
        "\n",
        "# How does np.where() work exactly\n",
        "tmp_won = np.where(fb_df['won'] == 5)\n",
        "tmp_won\n",
        "tmp_lost = np.where(fb_df['won'] != 5)\n",
        "tmp_lost\n",
        "\n",
        "form_series = fb_df['form']\n",
        "type(form_series)\n",
        "form_series.str.contains('L')\n",
        "\n",
        "fb_df['never_lost'] = np.where(form_series.str.contains('L'), 'no', 'yes')\n",
        "\n",
        "never_lost_v2_df = fb_df.loc[fb_df['never_lost'] == 'yes']\n"
      ],
      "execution_count": null,
      "outputs": []
    },
    {
      "cell_type": "markdown",
      "metadata": {
        "id": "niJxTzdDm8-2"
      },
      "source": [
        "# Visualisation"
      ]
    },
    {
      "cell_type": "code",
      "metadata": {
        "id": "kBEpgMfiBNvO"
      },
      "source": [
        "import pandas as pd\n",
        "import matplotlib.pyplot as plt\n",
        "survey = pd.read_csv(\"https://raw.githubusercontent.com/MarkWilcock/CourseDatasets/main/COVID%20Infection%20Survey/Covid%20Infection%20Survey%202021-02-12.csv\")\n",
        "survey['ProperDate'] = pd.to_datetime(survey['Date'], format = '%Y-%m-%d')"
      ],
      "execution_count": null,
      "outputs": []
    },
    {
      "cell_type": "code",
      "metadata": {
        "id": "cFHEa6zJgs8Q"
      },
      "source": [
        "survey.head(2)"
      ],
      "execution_count": null,
      "outputs": []
    },
    {
      "cell_type": "code",
      "metadata": {
        "id": "dsFivFK6gVul"
      },
      "source": [
        "fig, ax = plt.subplots()\n",
        "ax.plot(survey[\"ProperDate\"], survey[\"London-Central\"], marker = \"o\", color = \"blue\")\n",
        "ax.plot(survey[\"ProperDate\"], survey[\"London-Upper\"], marker = \"v\", color = \"grey\")\n",
        "ax.plot(survey[\"ProperDate\"], survey[\"London-Lower\"], marker = \"v\", color = \"grey\")\n",
        "ax.set_xlabel(\"Date\")\n",
        "ax.set_ylabel(\"Infection Rate\")\n",
        "ax.set_title(\"Estimated infection rate in London with 95% credible intervals over a recent period\")\n",
        "fig.set_size_inches(4,3)\n",
        "plt.show()"
      ],
      "execution_count": null,
      "outputs": []
    }
  ]
}