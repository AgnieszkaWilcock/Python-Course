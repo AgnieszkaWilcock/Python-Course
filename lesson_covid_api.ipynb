{
 "cells": [
  {
   "cell_type": "markdown",
   "metadata": {},
   "source": [
    "# Get data from APIs\r\n",
    "\r\n",
    "We will use the GOV.UK Coronavirus (COVID-19) in the UK API as an example.  Details at https://coronavirus.data.gov.uk/details/developers-guide"
   ]
  },
  {
   "cell_type": "code",
   "execution_count": null,
   "metadata": {},
   "outputs": [],
   "source": [
    "import requests\r\n"
   ]
  },
  {
   "cell_type": "code",
   "execution_count": null,
   "metadata": {},
   "outputs": [],
   "source": [
    "england_bydate_url = (\r\n",
    "    'https://api.coronavirus.data.gov.uk/v1/data?'\r\n",
    "    'filters=areaType=nation;areaName=england&'\r\n",
    "    'structure={\"date\":\"date\",\"dailyCases\":\"newCasesByPublishDate\",\"dailyDeaths\":\"newDeaths28DaysByPublishDate\"}'\r\n",
    ")\r\n",
    "england_bydate_url"
   ]
  },
  {
   "cell_type": "code",
   "execution_count": null,
   "metadata": {},
   "outputs": [],
   "source": [
    "response = requests.get(england_bydate_url, timeout=10)\r\n",
    "response.text[:200]"
   ]
  },
  {
   "cell_type": "code",
   "execution_count": null,
   "metadata": {},
   "outputs": [],
   "source": [
    "covid_dict = response.json()\r\n",
    "covid_dict\r\n",
    "type(covid_dict)"
   ]
  },
  {
   "cell_type": "code",
   "execution_count": null,
   "metadata": {},
   "outputs": [],
   "source": [
    "covid_dict.keys()"
   ]
  },
  {
   "cell_type": "code",
   "execution_count": null,
   "metadata": {},
   "outputs": [],
   "source": [
    "type(covid_dict['data'])"
   ]
  },
  {
   "cell_type": "code",
   "execution_count": null,
   "metadata": {},
   "outputs": [],
   "source": [
    "data_list_of_dicts = covid_dict['data']\r\n",
    "data_list_of_dicts[0]"
   ]
  },
  {
   "cell_type": "markdown",
   "metadata": {},
   "source": [
    "Convert this list of dicts into a list of tuples"
   ]
  },
  {
   "cell_type": "code",
   "execution_count": null,
   "metadata": {},
   "outputs": [],
   "source": [
    "data_list_of_tuples = [(d['date'], d['dailyCases'], d['dailyDeaths']) for d in data_list_of_dicts]\r\n",
    "data_list_of_tuples[0]"
   ]
  },
  {
   "cell_type": "markdown",
   "metadata": {},
   "source": [
    "Export the data to a CSV file so we can use in tools like Excel, Tableau, "
   ]
  },
  {
   "cell_type": "code",
   "execution_count": null,
   "metadata": {},
   "outputs": [],
   "source": [
    "import csv\r\n",
    "with open('./Datasets/covid.csv', 'w', newline='') as csv_file:\r\n",
    "    csv_out = csv.writer(csv_file)\r\n",
    "    # write a first row of column headers\r\n",
    "    csv_out.writerow(['Date', 'Daily Cases', 'Daily Deaths'])\r\n",
    "    csv_out.writerows(data_list_of_tuples)"
   ]
  }
 ],
 "metadata": {
  "interpreter": {
   "hash": "68c45707def87feca5a47d18982249224aa76d0675ca5b6bc7cad154e506106e"
  },
  "kernelspec": {
   "display_name": "Python 3.9.2  ('.venv': venv)",
   "name": "python3"
  },
  "language_info": {
   "codemirror_mode": {
    "name": "ipython",
    "version": 3
   },
   "file_extension": ".py",
   "mimetype": "text/x-python",
   "name": "python",
   "nbconvert_exporter": "python",
   "pygments_lexer": "ipython3",
   "version": "3.9.5"
  },
  "orig_nbformat": 2
 },
 "nbformat": 4,
 "nbformat_minor": 2
}